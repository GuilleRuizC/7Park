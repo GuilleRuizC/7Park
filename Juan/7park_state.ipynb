{
 "cells": [
  {
   "cell_type": "code",
   "execution_count": 1,
   "metadata": {},
   "outputs": [
    {
     "name": "stdout",
     "output_type": "stream",
     "text": [
      "Requirement already satisfied: pandas in c:\\users\\juanr\\anaconda3\\lib\\site-packages (1.2.3)\n",
      "Requirement already satisfied: python-dateutil>=2.7.3 in c:\\users\\juanr\\anaconda3\\lib\\site-packages (from pandas) (2.8.0)\n",
      "Requirement already satisfied: numpy>=1.16.5 in c:\\users\\juanr\\anaconda3\\lib\\site-packages (from pandas) (1.20.1)\n",
      "Requirement already satisfied: pytz>=2017.3 in c:\\users\\juanr\\anaconda3\\lib\\site-packages (from pandas) (2019.3)\n",
      "Requirement already satisfied: six>=1.5 in c:\\users\\juanr\\anaconda3\\lib\\site-packages (from python-dateutil>=2.7.3->pandas) (1.15.0)\n",
      "Requirement already satisfied: google-cloud-bigquery-storage in c:\\users\\juanr\\anaconda3\\lib\\site-packages (2.3.0)\n",
      "Requirement already satisfied: libcst>=0.2.5 in c:\\users\\juanr\\anaconda3\\lib\\site-packages (from google-cloud-bigquery-storage) (0.3.17)\n",
      "Requirement already satisfied: google-api-core[grpc]<2.0.0dev,>=1.22.2 in c:\\users\\juanr\\anaconda3\\lib\\site-packages (from google-cloud-bigquery-storage) (1.26.1)\n",
      "Requirement already satisfied: proto-plus>=1.4.0 in c:\\users\\juanr\\anaconda3\\lib\\site-packages (from google-cloud-bigquery-storage) (1.18.0)\n",
      "Requirement already satisfied: six>=1.13.0 in c:\\users\\juanr\\anaconda3\\lib\\site-packages (from google-api-core[grpc]<2.0.0dev,>=1.22.2->google-cloud-bigquery-storage) (1.15.0)\n",
      "Requirement already satisfied: pytz in c:\\users\\juanr\\anaconda3\\lib\\site-packages (from google-api-core[grpc]<2.0.0dev,>=1.22.2->google-cloud-bigquery-storage) (2019.3)\n",
      "Requirement already satisfied: requests<3.0.0dev,>=2.18.0 in c:\\users\\juanr\\anaconda3\\lib\\site-packages (from google-api-core[grpc]<2.0.0dev,>=1.22.2->google-cloud-bigquery-storage) (2.22.0)\n",
      "Requirement already satisfied: protobuf>=3.12.0 in c:\\users\\juanr\\anaconda3\\lib\\site-packages (from google-api-core[grpc]<2.0.0dev,>=1.22.2->google-cloud-bigquery-storage) (3.15.6)\n",
      "Requirement already satisfied: googleapis-common-protos<2.0dev,>=1.6.0 in c:\\users\\juanr\\anaconda3\\lib\\site-packages (from google-api-core[grpc]<2.0.0dev,>=1.22.2->google-cloud-bigquery-storage) (1.53.0)\n",
      "Requirement already satisfied: setuptools>=40.3.0 in c:\\users\\juanr\\anaconda3\\lib\\site-packages (from google-api-core[grpc]<2.0.0dev,>=1.22.2->google-cloud-bigquery-storage) (41.4.0)\n",
      "Requirement already satisfied: packaging>=14.3 in c:\\users\\juanr\\anaconda3\\lib\\site-packages (from google-api-core[grpc]<2.0.0dev,>=1.22.2->google-cloud-bigquery-storage) (19.2)\n",
      "Requirement already satisfied: google-auth<2.0dev,>=1.21.1 in c:\\users\\juanr\\anaconda3\\lib\\site-packages (from google-api-core[grpc]<2.0.0dev,>=1.22.2->google-cloud-bigquery-storage) (1.27.1)\n",
      "Requirement already satisfied: grpcio<2.0dev,>=1.29.0 in c:\\users\\juanr\\anaconda3\\lib\\site-packages (from google-api-core[grpc]<2.0.0dev,>=1.22.2->google-cloud-bigquery-storage) (1.36.1)\n",
      "Requirement already satisfied: rsa<5,>=3.1.4 in c:\\users\\juanr\\anaconda3\\lib\\site-packages (from google-auth<2.0dev,>=1.21.1->google-api-core[grpc]<2.0.0dev,>=1.22.2->google-cloud-bigquery-storage) (4.7.2)\n",
      "Requirement already satisfied: pyasn1-modules>=0.2.1 in c:\\users\\juanr\\anaconda3\\lib\\site-packages (from google-auth<2.0dev,>=1.21.1->google-api-core[grpc]<2.0.0dev,>=1.22.2->google-cloud-bigquery-storage) (0.2.8)\n",
      "Requirement already satisfied: cachetools<5.0,>=2.0.0 in c:\\users\\juanr\\anaconda3\\lib\\site-packages (from google-auth<2.0dev,>=1.21.1->google-api-core[grpc]<2.0.0dev,>=1.22.2->google-cloud-bigquery-storage) (4.2.1)\n",
      "Requirement already satisfied: pyyaml>=5.2 in c:\\users\\juanr\\anaconda3\\lib\\site-packages (from libcst>=0.2.5->google-cloud-bigquery-storage) (5.4.1)\n",
      "Requirement already satisfied: typing-inspect>=0.4.0 in c:\\users\\juanr\\anaconda3\\lib\\site-packages (from libcst>=0.2.5->google-cloud-bigquery-storage) (0.6.0)\n",
      "Requirement already satisfied: typing-extensions>=3.7.4.2 in c:\\users\\juanr\\anaconda3\\lib\\site-packages (from libcst>=0.2.5->google-cloud-bigquery-storage) (3.7.4.3)\n",
      "Requirement already satisfied: pyparsing>=2.0.2 in c:\\users\\juanr\\anaconda3\\lib\\site-packages (from packaging>=14.3->google-api-core[grpc]<2.0.0dev,>=1.22.2->google-cloud-bigquery-storage) (2.4.2)\n",
      "Requirement already satisfied: pyasn1<0.5.0,>=0.4.6 in c:\\users\\juanr\\anaconda3\\lib\\site-packages (from pyasn1-modules>=0.2.1->google-auth<2.0dev,>=1.21.1->google-api-core[grpc]<2.0.0dev,>=1.22.2->google-cloud-bigquery-storage) (0.4.8)\n",
      "Requirement already satisfied: idna<2.9,>=2.5 in c:\\users\\juanr\\anaconda3\\lib\\site-packages (from requests<3.0.0dev,>=2.18.0->google-api-core[grpc]<2.0.0dev,>=1.22.2->google-cloud-bigquery-storage) (2.8)\n",
      "Requirement already satisfied: certifi>=2017.4.17 in c:\\users\\juanr\\anaconda3\\lib\\site-packages (from requests<3.0.0dev,>=2.18.0->google-api-core[grpc]<2.0.0dev,>=1.22.2->google-cloud-bigquery-storage) (2019.9.11)\n",
      "Requirement already satisfied: urllib3!=1.25.0,!=1.25.1,<1.26,>=1.21.1 in c:\\users\\juanr\\anaconda3\\lib\\site-packages (from requests<3.0.0dev,>=2.18.0->google-api-core[grpc]<2.0.0dev,>=1.22.2->google-cloud-bigquery-storage) (1.24.2)\n",
      "Requirement already satisfied: chardet<3.1.0,>=3.0.2 in c:\\users\\juanr\\anaconda3\\lib\\site-packages (from requests<3.0.0dev,>=2.18.0->google-api-core[grpc]<2.0.0dev,>=1.22.2->google-cloud-bigquery-storage) (3.0.4)\n",
      "Requirement already satisfied: mypy-extensions>=0.3.0 in c:\\users\\juanr\\anaconda3\\lib\\site-packages (from typing-inspect>=0.4.0->libcst>=0.2.5->google-cloud-bigquery-storage) (0.4.3)\n",
      "Requirement already satisfied: google-cloud-bigquery[pandas] in c:\\users\\juanr\\anaconda3\\lib\\site-packages (2.12.0)\n",
      "Requirement already satisfied: proto-plus>=1.10.0 in c:\\users\\juanr\\anaconda3\\lib\\site-packages (from google-cloud-bigquery[pandas]) (1.18.0)\n",
      "Requirement already satisfied: packaging>=14.3 in c:\\users\\juanr\\anaconda3\\lib\\site-packages (from google-cloud-bigquery[pandas]) (19.2)\n",
      "Requirement already satisfied: protobuf>=3.12.0 in c:\\users\\juanr\\anaconda3\\lib\\site-packages (from google-cloud-bigquery[pandas]) (3.15.6)\n",
      "Requirement already satisfied: google-resumable-media<2.0dev,>=0.6.0 in c:\\users\\juanr\\anaconda3\\lib\\site-packages (from google-cloud-bigquery[pandas]) (1.2.0)\n",
      "Requirement already satisfied: google-cloud-core<2.0dev,>=1.4.1 in c:\\users\\juanr\\anaconda3\\lib\\site-packages (from google-cloud-bigquery[pandas]) (1.6.0)\n",
      "Requirement already satisfied: google-api-core[grpc]<2.0.0dev,>=1.23.0 in c:\\users\\juanr\\anaconda3\\lib\\site-packages (from google-cloud-bigquery[pandas]) (1.26.1)\n",
      "Requirement already satisfied: pyarrow<4.0dev,>=1.0.0 in c:\\users\\juanr\\anaconda3\\lib\\site-packages (from google-cloud-bigquery[pandas]) (3.0.0)\n",
      "Requirement already satisfied: pandas>=0.23.0 in c:\\users\\juanr\\anaconda3\\lib\\site-packages (from google-cloud-bigquery[pandas]) (1.2.3)\n",
      "Requirement already satisfied: pytz in c:\\users\\juanr\\anaconda3\\lib\\site-packages (from google-api-core[grpc]<2.0.0dev,>=1.23.0->google-cloud-bigquery[pandas]) (2019.3)\n",
      "Requirement already satisfied: googleapis-common-protos<2.0dev,>=1.6.0 in c:\\users\\juanr\\anaconda3\\lib\\site-packages (from google-api-core[grpc]<2.0.0dev,>=1.23.0->google-cloud-bigquery[pandas]) (1.53.0)\n",
      "Requirement already satisfied: six>=1.13.0 in c:\\users\\juanr\\anaconda3\\lib\\site-packages (from google-api-core[grpc]<2.0.0dev,>=1.23.0->google-cloud-bigquery[pandas]) (1.15.0)\n",
      "Requirement already satisfied: setuptools>=40.3.0 in c:\\users\\juanr\\anaconda3\\lib\\site-packages (from google-api-core[grpc]<2.0.0dev,>=1.23.0->google-cloud-bigquery[pandas]) (41.4.0)\n",
      "Requirement already satisfied: requests<3.0.0dev,>=2.18.0 in c:\\users\\juanr\\anaconda3\\lib\\site-packages (from google-api-core[grpc]<2.0.0dev,>=1.23.0->google-cloud-bigquery[pandas]) (2.22.0)\n",
      "Requirement already satisfied: google-auth<2.0dev,>=1.21.1 in c:\\users\\juanr\\anaconda3\\lib\\site-packages (from google-api-core[grpc]<2.0.0dev,>=1.23.0->google-cloud-bigquery[pandas]) (1.27.1)\n",
      "Requirement already satisfied: grpcio<2.0dev,>=1.29.0 in c:\\users\\juanr\\anaconda3\\lib\\site-packages (from google-api-core[grpc]<2.0.0dev,>=1.23.0->google-cloud-bigquery[pandas]) (1.36.1)\n",
      "Requirement already satisfied: rsa<5,>=3.1.4 in c:\\users\\juanr\\anaconda3\\lib\\site-packages (from google-auth<2.0dev,>=1.21.1->google-api-core[grpc]<2.0.0dev,>=1.23.0->google-cloud-bigquery[pandas]) (4.7.2)\n",
      "Requirement already satisfied: cachetools<5.0,>=2.0.0 in c:\\users\\juanr\\anaconda3\\lib\\site-packages (from google-auth<2.0dev,>=1.21.1->google-api-core[grpc]<2.0.0dev,>=1.23.0->google-cloud-bigquery[pandas]) (4.2.1)\n",
      "Requirement already satisfied: pyasn1-modules>=0.2.1 in c:\\users\\juanr\\anaconda3\\lib\\site-packages (from google-auth<2.0dev,>=1.21.1->google-api-core[grpc]<2.0.0dev,>=1.23.0->google-cloud-bigquery[pandas]) (0.2.8)\n",
      "Requirement already satisfied: google-crc32c<2.0dev,>=1.0 in c:\\users\\juanr\\anaconda3\\lib\\site-packages (from google-resumable-media<2.0dev,>=0.6.0->google-cloud-bigquery[pandas]) (1.1.2)\n",
      "Requirement already satisfied: cffi>=1.0.0 in c:\\users\\juanr\\anaconda3\\lib\\site-packages (from google-crc32c<2.0dev,>=1.0->google-resumable-media<2.0dev,>=0.6.0->google-cloud-bigquery[pandas]) (1.12.3)\n",
      "Requirement already satisfied: pycparser in c:\\users\\juanr\\anaconda3\\lib\\site-packages (from cffi>=1.0.0->google-crc32c<2.0dev,>=1.0->google-resumable-media<2.0dev,>=0.6.0->google-cloud-bigquery[pandas]) (2.19)\n",
      "Requirement already satisfied: pyparsing>=2.0.2 in c:\\users\\juanr\\anaconda3\\lib\\site-packages (from packaging>=14.3->google-cloud-bigquery[pandas]) (2.4.2)\n",
      "Requirement already satisfied: python-dateutil>=2.7.3 in c:\\users\\juanr\\anaconda3\\lib\\site-packages (from pandas>=0.23.0->google-cloud-bigquery[pandas]) (2.8.0)\n",
      "Requirement already satisfied: numpy>=1.16.5 in c:\\users\\juanr\\anaconda3\\lib\\site-packages (from pandas>=0.23.0->google-cloud-bigquery[pandas]) (1.20.1)\n",
      "Requirement already satisfied: pyasn1<0.5.0,>=0.4.6 in c:\\users\\juanr\\anaconda3\\lib\\site-packages (from pyasn1-modules>=0.2.1->google-auth<2.0dev,>=1.21.1->google-api-core[grpc]<2.0.0dev,>=1.23.0->google-cloud-bigquery[pandas]) (0.4.8)\n",
      "Requirement already satisfied: urllib3!=1.25.0,!=1.25.1,<1.26,>=1.21.1 in c:\\users\\juanr\\anaconda3\\lib\\site-packages (from requests<3.0.0dev,>=2.18.0->google-api-core[grpc]<2.0.0dev,>=1.23.0->google-cloud-bigquery[pandas]) (1.24.2)\n",
      "Requirement already satisfied: certifi>=2017.4.17 in c:\\users\\juanr\\anaconda3\\lib\\site-packages (from requests<3.0.0dev,>=2.18.0->google-api-core[grpc]<2.0.0dev,>=1.23.0->google-cloud-bigquery[pandas]) (2019.9.11)\n",
      "Requirement already satisfied: chardet<3.1.0,>=3.0.2 in c:\\users\\juanr\\anaconda3\\lib\\site-packages (from requests<3.0.0dev,>=2.18.0->google-api-core[grpc]<2.0.0dev,>=1.23.0->google-cloud-bigquery[pandas]) (3.0.4)\n",
      "Requirement already satisfied: idna<2.9,>=2.5 in c:\\users\\juanr\\anaconda3\\lib\\site-packages (from requests<3.0.0dev,>=2.18.0->google-api-core[grpc]<2.0.0dev,>=1.23.0->google-cloud-bigquery[pandas]) (2.8)\n"
     ]
    }
   ],
   "source": [
    "!pip install --upgrade pandas\n",
    "!pip install google-cloud-bigquery-storage\n",
    "!pip install --upgrade \"google-cloud-bigquery[pandas]\""
   ]
  },
  {
   "cell_type": "code",
   "execution_count": 2,
   "metadata": {},
   "outputs": [
    {
     "name": "stdout",
     "output_type": "stream",
     "text": [
      "Requirement already satisfied: pyarrow in c:\\users\\juanr\\anaconda3\\lib\\site-packages (3.0.0)\n",
      "Requirement already satisfied: numpy>=1.16.6 in c:\\users\\juanr\\anaconda3\\lib\\site-packages (from pyarrow) (1.20.1)\n"
     ]
    }
   ],
   "source": [
    "!pip install pyarrow"
   ]
  },
  {
   "cell_type": "code",
   "execution_count": 3,
   "metadata": {},
   "outputs": [],
   "source": [
    "import pandas as pd\n",
    "pd.set_option('display.max_columns', None)\n",
    "pd.set_option(\"max_rows\", None)\n",
    "from matplotlib import pyplot as plt\n",
    "plt.style.use('ggplot')\n",
    "%matplotlib inline"
   ]
  },
  {
   "cell_type": "code",
   "execution_count": 4,
   "metadata": {},
   "outputs": [],
   "source": [
    "from google.cloud import bigquery"
   ]
  },
  {
   "cell_type": "code",
   "execution_count": 5,
   "metadata": {},
   "outputs": [],
   "source": [
    "import os\n",
    "os.environ[\"GOOGLE_APPLICATION_CREDENTIALS\"]=\"noble-freehold-302621-da5328bdc237.json\"\n",
    "client = bigquery.Client()"
   ]
  },
  {
   "cell_type": "code",
   "execution_count": 6,
   "metadata": {},
   "outputs": [],
   "source": [
    "%load_ext google.cloud.bigquery"
   ]
  },
  {
   "cell_type": "code",
   "execution_count": 7,
   "metadata": {},
   "outputs": [
    {
     "name": "stderr",
     "output_type": "stream",
     "text": [
      "Query complete after 0.09s: 100%|█████████████████████████████████████████████████████| 1/1 [00:00<00:00, 99.98query/s]\n",
      "Downloading: 100%|███████████████████████████████████████████████████████████████████| 52/52 [00:02<00:00, 21.21rows/s]\n"
     ]
    }
   ],
   "source": [
    "%%bigquery state_2018_5yr\n",
    "SELECT *\n",
    "FROM\n",
    "    `bigquery-public-data.census_bureau_acs.state_2018_5yr`"
   ]
  },
  {
   "cell_type": "code",
   "execution_count": 8,
   "metadata": {},
   "outputs": [
    {
     "data": {
      "text/plain": [
       "(52, 242)"
      ]
     },
     "execution_count": 8,
     "metadata": {},
     "output_type": "execute_result"
    }
   ],
   "source": [
    "state_2018_5yr.shape"
   ]
  },
  {
   "cell_type": "code",
   "execution_count": 9,
   "metadata": {},
   "outputs": [
    {
     "name": "stdout",
     "output_type": "stream",
     "text": [
      "geo_id\n",
      "do_date\n",
      "total_pop\n",
      "households\n",
      "male_pop\n",
      "female_pop\n",
      "median_age\n",
      "male_under_5\n",
      "male_5_to_9\n",
      "male_10_to_14\n",
      "male_15_to_17\n",
      "male_18_to_19\n",
      "male_20\n",
      "male_21\n",
      "male_22_to_24\n",
      "male_25_to_29\n",
      "male_30_to_34\n",
      "male_35_to_39\n",
      "male_40_to_44\n",
      "male_45_to_49\n",
      "male_50_to_54\n",
      "male_55_to_59\n",
      "male_60_to_61\n",
      "male_62_to_64\n",
      "male_65_to_66\n",
      "male_67_to_69\n",
      "male_70_to_74\n",
      "male_75_to_79\n",
      "male_80_to_84\n",
      "male_85_and_over\n",
      "female_under_5\n",
      "female_5_to_9\n",
      "female_10_to_14\n",
      "female_15_to_17\n",
      "female_18_to_19\n",
      "female_20\n",
      "female_21\n",
      "female_22_to_24\n",
      "female_25_to_29\n",
      "female_30_to_34\n",
      "female_35_to_39\n",
      "female_40_to_44\n",
      "female_45_to_49\n",
      "female_50_to_54\n",
      "female_55_to_59\n",
      "female_60_to_61\n",
      "female_62_to_64\n",
      "female_65_to_66\n",
      "female_67_to_69\n",
      "female_70_to_74\n",
      "female_75_to_79\n",
      "female_80_to_84\n",
      "female_85_and_over\n",
      "white_pop\n",
      "population_1_year_and_over\n",
      "population_3_years_over\n",
      "pop_5_years_over\n",
      "pop_15_and_over\n",
      "pop_16_over\n",
      "pop_25_years_over\n",
      "pop_25_64\n",
      "pop_never_married\n",
      "pop_now_married\n",
      "pop_separated\n",
      "pop_widowed\n",
      "pop_divorced\n",
      "not_us_citizen_pop\n",
      "black_pop\n",
      "asian_pop\n",
      "hispanic_pop\n",
      "amerindian_pop\n",
      "other_race_pop\n",
      "two_or_more_races_pop\n",
      "hispanic_any_race\n",
      "not_hispanic_pop\n",
      "asian_male_45_54\n",
      "asian_male_55_64\n",
      "black_male_45_54\n",
      "black_male_55_64\n",
      "hispanic_male_45_54\n",
      "hispanic_male_55_64\n",
      "white_male_45_54\n",
      "white_male_55_64\n",
      "median_income\n",
      "income_per_capita\n",
      "income_less_10000\n",
      "income_10000_14999\n",
      "income_15000_19999\n",
      "income_20000_24999\n",
      "income_25000_29999\n",
      "income_30000_34999\n",
      "income_35000_39999\n",
      "income_40000_44999\n",
      "income_45000_49999\n",
      "income_50000_59999\n",
      "income_60000_74999\n",
      "income_75000_99999\n",
      "income_100000_124999\n",
      "income_125000_149999\n",
      "income_150000_199999\n",
      "income_200000_or_more\n",
      "pop_determined_poverty_status\n",
      "poverty\n",
      "gini_index\n",
      "housing_units\n",
      "renter_occupied_housing_units_paying_cash_median_gross_rent\n",
      "owner_occupied_housing_units_lower_value_quartile\n",
      "owner_occupied_housing_units_median_value\n",
      "owner_occupied_housing_units_upper_value_quartile\n",
      "occupied_housing_units\n",
      "housing_units_renter_occupied\n",
      "vacant_housing_units\n",
      "vacant_housing_units_for_rent\n",
      "vacant_housing_units_for_sale\n",
      "dwellings_1_units_detached\n",
      "dwellings_1_units_attached\n",
      "dwellings_2_units\n",
      "dwellings_3_to_4_units\n",
      "dwellings_5_to_9_units\n",
      "dwellings_10_to_19_units\n",
      "dwellings_20_to_49_units\n",
      "dwellings_50_or_more_units\n",
      "mobile_homes\n",
      "housing_built_2005_or_later\n",
      "housing_built_2000_to_2004\n",
      "housing_built_1939_or_earlier\n",
      "median_year_structure_built\n",
      "married_households\n",
      "nonfamily_households\n",
      "family_households\n",
      "households_public_asst_or_food_stamps\n",
      "male_male_households\n",
      "female_female_households\n",
      "children\n",
      "children_in_single_female_hh\n",
      "median_rent\n",
      "percent_income_spent_on_rent\n",
      "rent_burden_not_computed\n",
      "rent_over_50_percent\n",
      "rent_40_to_50_percent\n",
      "rent_35_to_40_percent\n",
      "rent_30_to_35_percent\n",
      "rent_25_to_30_percent\n",
      "rent_20_to_25_percent\n",
      "rent_15_to_20_percent\n",
      "rent_10_to_15_percent\n",
      "rent_under_10_percent\n",
      "owner_occupied_housing_units\n",
      "million_dollar_housing_units\n",
      "mortgaged_housing_units\n",
      "different_house_year_ago_different_city\n",
      "different_house_year_ago_same_city\n",
      "families_with_young_children\n",
      "two_parent_families_with_young_children\n",
      "two_parents_in_labor_force_families_with_young_children\n",
      "two_parents_father_in_labor_force_families_with_young_children\n",
      "two_parents_mother_in_labor_force_families_with_young_children\n",
      "two_parents_not_in_labor_force_families_with_young_children\n",
      "one_parent_families_with_young_children\n",
      "father_one_parent_families_with_young_children\n",
      "father_in_labor_force_one_parent_families_with_young_children\n",
      "commute_less_10_mins\n",
      "commute_10_14_mins\n",
      "commute_15_19_mins\n",
      "commute_20_24_mins\n",
      "commute_25_29_mins\n",
      "commute_30_34_mins\n",
      "commute_35_44_mins\n",
      "commute_60_more_mins\n",
      "commute_45_59_mins\n",
      "commuters_16_over\n",
      "walked_to_work\n",
      "worked_at_home\n",
      "no_car\n",
      "no_cars\n",
      "one_car\n",
      "two_cars\n",
      "three_cars\n",
      "four_more_cars\n",
      "aggregate_travel_time_to_work\n",
      "commuters_by_public_transportation\n",
      "commuters_by_bus\n",
      "commuters_by_car_truck_van\n",
      "commuters_by_carpool\n",
      "commuters_by_subway_or_elevated\n",
      "commuters_drove_alone\n",
      "group_quarters\n",
      "associates_degree\n",
      "bachelors_degree\n",
      "high_school_diploma\n",
      "less_one_year_college\n",
      "masters_degree\n",
      "one_year_more_college\n",
      "less_than_high_school_graduate\n",
      "high_school_including_ged\n",
      "bachelors_degree_2\n",
      "bachelors_degree_or_higher_25_64\n",
      "graduate_professional_degree\n",
      "some_college_and_associates_degree\n",
      "male_45_64_associates_degree\n",
      "male_45_64_bachelors_degree\n",
      "male_45_64_graduate_degree\n",
      "male_45_64_less_than_9_grade\n",
      "male_45_64_grade_9_12\n",
      "male_45_64_high_school\n",
      "male_45_64_some_college\n",
      "male_45_to_64\n",
      "employed_pop\n",
      "unemployed_pop\n",
      "pop_in_labor_force\n",
      "not_in_labor_force\n",
      "workers_16_and_over\n",
      "armed_forces\n",
      "civilian_labor_force\n",
      "employed_agriculture_forestry_fishing_hunting_mining\n",
      "employed_arts_entertainment_recreation_accommodation_food\n",
      "employed_construction\n",
      "employed_education_health_social\n",
      "employed_finance_insurance_real_estate\n",
      "employed_information\n",
      "employed_manufacturing\n",
      "employed_other_services_not_public_admin\n",
      "employed_public_administration\n",
      "employed_retail_trade\n",
      "employed_science_management_admin_waste\n",
      "employed_transportation_warehousing_utilities\n",
      "employed_wholesale_trade\n",
      "occupation_management_arts\n",
      "occupation_natural_resources_construction_maintenance\n",
      "occupation_production_transportation_material\n",
      "occupation_sales_office\n",
      "occupation_services\n",
      "management_business_sci_arts_employed\n",
      "sales_office_employed\n",
      "in_grades_1_to_4\n",
      "in_grades_5_to_8\n",
      "in_grades_9_to_12\n",
      "in_school\n",
      "in_undergrad_college\n",
      "speak_only_english_at_home\n",
      "speak_spanish_at_home\n",
      "speak_spanish_at_home_low_english\n"
     ]
    }
   ],
   "source": [
    "for col in state_2018_5yr.columns:\n",
    "    print(col)"
   ]
  },
  {
   "cell_type": "code",
   "execution_count": 13,
   "metadata": {},
   "outputs": [
    {
     "data": {
      "text/plain": [
       "32411.262103872632"
      ]
     },
     "execution_count": 13,
     "metadata": {},
     "output_type": "execute_result"
    }
   ],
   "source": [
    "allStates_pop = state_2018_5yr['total_pop'].sum()\n",
    "average_income =  ((state_2018_5yr['income_per_capita']*state_2018_5yr['total_pop']).sum())/allStates_pop\n",
    "average_income"
   ]
  },
  {
   "cell_type": "code",
   "execution_count": 14,
   "metadata": {},
   "outputs": [],
   "source": [
    "bins = [\n",
    "    'income_less_10000',\n",
    "    'income_10000_14999',\n",
    "    'income_15000_19999',\n",
    "    'income_20000_24999',\n",
    "    'income_25000_29999',\n",
    "    'income_30000_34999',\n",
    "    'income_35000_39999',\n",
    "    'income_40000_44999',\n",
    "    'income_45000_49999',\n",
    "    'income_50000_59999',\n",
    "    'income_60000_74999',\n",
    "    'income_75000_99999',\n",
    "    'income_100000_124999',\n",
    "    'income_125000_149999',\n",
    "    'income_150000_199999',\n",
    "    'income_200000_or_more'\n",
    "]\n",
    "binMiddle = [\n",
    "    5000,\n",
    "    12500,\n",
    "    17500,\n",
    "    22500,\n",
    "    27500,\n",
    "    32500,\n",
    "    37500,\n",
    "    42500,\n",
    "    47500,\n",
    "    55000,\n",
    "    67500,\n",
    "    87500,\n",
    "    112500,\n",
    "    137500,\n",
    "    175000,\n",
    "    300000\n",
    "    \n",
    "]\n",
    "def median_income(obs):\n",
    "    household=0\n",
    "    for idx,bin in enumerate(bins):\n",
    "        household+=obs[bin]\n",
    "        if household >= obs['medianPoint']:\n",
    "            return binMiddle[idx]\n",
    "        \n",
    "    \n",
    "state_2018_5yr['medianPoint']=state_2018_5yr['households']/2\n",
    "\n",
    "state_2018_5yr['stateMedian']=state_2018_5yr.apply(lambda row:median_income(row),axis=1)\n"
   ]
  },
  {
   "cell_type": "code",
   "execution_count": 16,
   "metadata": {},
   "outputs": [
    {
     "data": {
      "text/plain": [
       "60913.46153846154"
      ]
     },
     "execution_count": 16,
     "metadata": {},
     "output_type": "execute_result"
    }
   ],
   "source": [
    "state_2018_5yr['stateMedian'].mean()\n"
   ]
  },
  {
   "cell_type": "code",
   "execution_count": 17,
   "metadata": {},
   "outputs": [
    {
     "data": {
      "text/plain": [
       "<matplotlib.axes._subplots.AxesSubplot at 0x1bf01098b48>"
      ]
     },
     "execution_count": 17,
     "metadata": {},
     "output_type": "execute_result"
    },
    {
     "data": {
      "image/png": "[encoded data removed]",
      "text/plain": [
       "<Figure size 432x288 with 1 Axes>"
      ]
     },
     "metadata": {
      "needs_background": "light"
     },
     "output_type": "display_data"
    }
   ],
   "source": [
    "state_2018_5yr['median_income'].plot.hist()"
   ]
  },
  {
   "cell_type": "code",
   "execution_count": null,
   "metadata": {},
   "outputs": [],
   "source": [
    "#Problem 1\n",
    "-Rethink Median \n",
    "#Problem 2 \n",
    "-Seperating States \n",
    "-Second Questions"
   ]
  }
 ],
 "metadata": {
  "kernelspec": {
   "display_name": "Python 3",
   "language": "python",
   "name": "python3"
  },
  "language_info": {
   "codemirror_mode": {
    "name": "ipython",
    "version": 3
   },
   "file_extension": ".py",
   "mimetype": "text/x-python",
   "name": "python",
   "nbconvert_exporter": "python",
   "pygments_lexer": "ipython3",
   "version": "3.7.4"
  }
 },
 "nbformat": 4,
 "nbformat_minor": 4
}
