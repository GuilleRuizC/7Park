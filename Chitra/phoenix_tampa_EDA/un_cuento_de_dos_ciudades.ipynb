{
 "cells": [
  {
   "cell_type": "markdown",
   "metadata": {},
   "source": [
    "## Un cuento de dos ciudades"
   ]
  },
  {
   "cell_type": "code",
   "execution_count": 1,
   "metadata": {},
   "outputs": [],
   "source": [
    "import pandas as pd\n",
    "import numpy as np\n",
    "pd.set_option('display.max_columns', None)\n",
    "pd.set_option(\"max_rows\", None)\n",
    "from matplotlib import pyplot as plt\n",
    "%matplotlib inline\n",
    "from google.cloud import bigquery\n",
    "import os\n",
    "os.environ[\"GOOGLE_APPLICATION_CREDENTIALS\"]=\"../utility-vista-307720-6cec755818c9.json\"\n",
    "client = bigquery.Client()\n",
    "%load_ext google.cloud.bigquery\n",
    "import seaborn as sns"
   ]
  },
  {
   "cell_type": "markdown",
   "metadata": {},
   "source": [
    "### Extracting Phoenix ACS data from years 2015-2017 from Google BigQuery"
   ]
  },
  {
   "cell_type": "code",
   "execution_count": 2,
   "metadata": {},
   "outputs": [
    {
     "name": "stderr",
     "output_type": "stream",
     "text": [
      "Query complete after 0.02s: 100%|██████████| 1/1 [00:00<00:00, 268.37query/s]\n",
      "Downloading: 100%|██████████| 130/130 [00:02<00:00, 64.64rows/s]\n"
     ]
    }
   ],
   "source": [
    "%%bigquery acs_phoenix_zip_codes_2015_5yr\n",
    "SELECT *\n",
    "FROM\n",
    "    `bigquery-public-data.census_bureau_acs.zip_codes_2015_5yr`\n",
    "WHERE geo_id in ('85032', '85281', '85225', '85308', '85142', '85251', '85282',\n",
    "       '85383', '85204', '85345', '85301', '85022', '85008', '85255',\n",
    "       '85201', '85326', '85351', '85338', '85205', '85374', '85254',\n",
    "       '85248', '85207', '85122', '85016', '85224', '85283', '85209',\n",
    "       '85018', '85382', '85260', '85044', '85029', '85041', '85206',\n",
    "       '85234', '85020', '85295', '85208', '85021', '85202', '85296',\n",
    "       '85249', '85286', '85027', '85226', '85015', '85051', '85086',\n",
    "       '85033', '85120', '85302', '85210', '85138', '85035', '85379',\n",
    "       '85042', '85233', '85213', '85037', '85257', '85023', '85339',\n",
    "       '85212', '85143', '85140', '85048', '85014', '85323', '85395',\n",
    "       '85392', '85268', '85203', '85050', '85009', '85331', '85017',\n",
    "       '85053', '85340', '85353', '85396', '85119', '85024', '85132',\n",
    "       '85335', '85013', '85085', '85040', '85381', '85304', '85303',\n",
    "       '85388', '85306', '85006', '85373', '85250', '85043', '85215',\n",
    "       '85028', '85031', '85019', '85284', '85262', '85118', '85139',\n",
    "       '85310', '85083', '85266', '85128', '85007', '85305', '85004',\n",
    "       '85003', '85131', '85390', '85012', '85355', '85123', '85087',\n",
    "       '85378', '85307', '85194', '85363', '85045', '85361', '85623',\n",
    "       '85034', '85263', '85377', '85631', '85173');"
   ]
  },
  {
   "cell_type": "code",
   "execution_count": 3,
   "metadata": {},
   "outputs": [
    {
     "name": "stderr",
     "output_type": "stream",
     "text": [
      "Query complete after 0.00s: 100%|██████████| 1/1 [00:00<00:00, 393.28query/s]\n",
      "Downloading: 100%|██████████| 130/130 [00:02<00:00, 59.25rows/s]\n"
     ]
    }
   ],
   "source": [
    "%%bigquery acs_phoenix_zip_codes_2016_5yr\n",
    "SELECT *\n",
    "FROM\n",
    "    `bigquery-public-data.census_bureau_acs.zip_codes_2016_5yr`\n",
    "WHERE geo_id in ('85032', '85281', '85225', '85308', '85142', '85251', '85282',\n",
    "       '85383', '85204', '85345', '85301', '85022', '85008', '85255',\n",
    "       '85201', '85326', '85351', '85338', '85205', '85374', '85254',\n",
    "       '85248', '85207', '85122', '85016', '85224', '85283', '85209',\n",
    "       '85018', '85382', '85260', '85044', '85029', '85041', '85206',\n",
    "       '85234', '85020', '85295', '85208', '85021', '85202', '85296',\n",
    "       '85249', '85286', '85027', '85226', '85015', '85051', '85086',\n",
    "       '85033', '85120', '85302', '85210', '85138', '85035', '85379',\n",
    "       '85042', '85233', '85213', '85037', '85257', '85023', '85339',\n",
    "       '85212', '85143', '85140', '85048', '85014', '85323', '85395',\n",
    "       '85392', '85268', '85203', '85050', '85009', '85331', '85017',\n",
    "       '85053', '85340', '85353', '85396', '85119', '85024', '85132',\n",
    "       '85335', '85013', '85085', '85040', '85381', '85304', '85303',\n",
    "       '85388', '85306', '85006', '85373', '85250', '85043', '85215',\n",
    "       '85028', '85031', '85019', '85284', '85262', '85118', '85139',\n",
    "       '85310', '85083', '85266', '85128', '85007', '85305', '85004',\n",
    "       '85003', '85131', '85390', '85012', '85355', '85123', '85087',\n",
    "       '85378', '85307', '85194', '85363', '85045', '85361', '85623',\n",
    "       '85034', '85263', '85377', '85631', '85173');"
   ]
  },
  {
   "cell_type": "code",
   "execution_count": 4,
   "metadata": {},
   "outputs": [
    {
     "name": "stderr",
     "output_type": "stream",
     "text": [
      "Query complete after 0.00s: 100%|██████████| 1/1 [00:00<00:00, 236.63query/s]\n",
      "Downloading: 100%|██████████| 130/130 [00:02<00:00, 54.51rows/s]\n"
     ]
    }
   ],
   "source": [
    "%%bigquery acs_phoenix_zip_codes_2017_5yr\n",
    "SELECT *\n",
    "FROM\n",
    "    `bigquery-public-data.census_bureau_acs.zip_codes_2017_5yr`\n",
    "WHERE geo_id in ('85032', '85281', '85225', '85308', '85142', '85251', '85282',\n",
    "       '85383', '85204', '85345', '85301', '85022', '85008', '85255',\n",
    "       '85201', '85326', '85351', '85338', '85205', '85374', '85254',\n",
    "       '85248', '85207', '85122', '85016', '85224', '85283', '85209',\n",
    "       '85018', '85382', '85260', '85044', '85029', '85041', '85206',\n",
    "       '85234', '85020', '85295', '85208', '85021', '85202', '85296',\n",
    "       '85249', '85286', '85027', '85226', '85015', '85051', '85086',\n",
    "       '85033', '85120', '85302', '85210', '85138', '85035', '85379',\n",
    "       '85042', '85233', '85213', '85037', '85257', '85023', '85339',\n",
    "       '85212', '85143', '85140', '85048', '85014', '85323', '85395',\n",
    "       '85392', '85268', '85203', '85050', '85009', '85331', '85017',\n",
    "       '85053', '85340', '85353', '85396', '85119', '85024', '85132',\n",
    "       '85335', '85013', '85085', '85040', '85381', '85304', '85303',\n",
    "       '85388', '85306', '85006', '85373', '85250', '85043', '85215',\n",
    "       '85028', '85031', '85019', '85284', '85262', '85118', '85139',\n",
    "       '85310', '85083', '85266', '85128', '85007', '85305', '85004',\n",
    "       '85003', '85131', '85390', '85012', '85355', '85123', '85087',\n",
    "       '85378', '85307', '85194', '85363', '85045', '85361', '85623',\n",
    "       '85034', '85263', '85377', '85631', '85173');"
   ]
  },
  {
   "cell_type": "code",
   "execution_count": 5,
   "metadata": {},
   "outputs": [],
   "source": [
    "acs_phoenix_zip_codes_2015_5yr[\"Year\"]=2015\n",
    "acs_phoenix_zip_codes_2016_5yr[\"Year\"]=2016\n",
    "acs_phoenix_zip_codes_2017_5yr[\"Year\"]=2017\n",
    "acs_phoenix_cols_2015=acs_phoenix_zip_codes_2015_5yr.columns\n",
    "acs_phoenix_cols_2016=acs_phoenix_zip_codes_2016_5yr.columns\n",
    "acs_phoenix_cols_2017=acs_phoenix_zip_codes_2017_5yr.columns\n",
    "acs_phoenix_cols_2017.tolist().index('pop_separated')\n",
    "common_columns=list((((\n",
    "(set(acs_phoenix_cols_2015))).intersection(set(acs_phoenix_cols_2016)))\n",
    "                    .intersection(set(acs_phoenix_cols_2017))))\n",
    "frames=[acs_phoenix_zip_codes_2015_5yr[common_columns],\n",
    "        acs_phoenix_zip_codes_2016_5yr[common_columns],\n",
    "        acs_phoenix_zip_codes_2017_5yr[common_columns]]\n",
    "acs_all_phoenix=pd.concat(frames)"
   ]
  },
  {
   "cell_type": "code",
   "execution_count": 6,
   "metadata": {},
   "outputs": [
    {
     "data": {
      "text/plain": [
       "(390, 247)"
      ]
     },
     "execution_count": 6,
     "metadata": {},
     "output_type": "execute_result"
    }
   ],
   "source": [
    "acs_all_phoenix.head()\n",
    "acs_all_phoenix.shape"
   ]
  },
  {
   "cell_type": "markdown",
   "metadata": {},
   "source": [
    "#### Calculating the extent of missingness in the data we have collected from 2015-2017"
   ]
  },
  {
   "cell_type": "code",
   "execution_count": 7,
   "metadata": {},
   "outputs": [
    {
     "name": "stdout",
     "output_type": "stream",
     "text": [
      "8\n",
      "268\n"
     ]
    }
   ],
   "source": [
    "missingRowsACS = pd.isnull(acs_all_phoenix).sum(axis=1) > 0\n",
    "missingColsACS = pd.isnull(acs_all_phoenix).sum(axis=0) > 0\n",
    "print(missingColsACS.sum())\n",
    "print(missingRowsACS.sum())"
   ]
  },
  {
   "cell_type": "code",
   "execution_count": 8,
   "metadata": {},
   "outputs": [
    {
     "name": "stdout",
     "output_type": "stream",
     "text": [
      "Dropping percent_income_spent_on_rent from ACS\n",
      "Dropping speak_only_english_at_home from ACS\n",
      "Dropping aggregate_travel_time_to_work from ACS\n",
      "Dropping speak_spanish_at_home_low_english from ACS\n",
      "Dropping pop_5_years_over from ACS\n",
      "Dropping renter_occupied_housing_units_paying_cash_median_gross_rent from ACS\n",
      "Dropping median_rent from ACS\n",
      "Dropping speak_spanish_at_home from ACS\n"
     ]
    }
   ],
   "source": [
    "#Drop columns that have missing data for 2 or more zipcodes\n",
    "for col in acs_all_phoenix.columns[missingColsACS]:\n",
    "    if pd.isnull(acs_all_phoenix[col]).sum()>=0: \n",
    "        print(f\"Dropping {col} from ACS\")\n",
    "        acs_all_phoenix.drop(col,axis=1,inplace=True)"
   ]
  },
  {
   "cell_type": "code",
   "execution_count": 9,
   "metadata": {},
   "outputs": [
    {
     "data": {
      "text/plain": [
       "(390, 239)"
      ]
     },
     "execution_count": 9,
     "metadata": {},
     "output_type": "execute_result"
    }
   ],
   "source": [
    "acs_all_phoenix.shape"
   ]
  },
  {
   "cell_type": "code",
   "execution_count": 10,
   "metadata": {},
   "outputs": [],
   "source": [
    "acs_all_phoenix = acs_all_phoenix.reindex(sorted(acs_all_phoenix.columns), axis=1)"
   ]
  },
  {
   "cell_type": "markdown",
   "metadata": {},
   "source": [
    "### Extracting Tampa ACS data from years 2015-2017 from Google BigQuery"
   ]
  },
  {
   "cell_type": "code",
   "execution_count": 11,
   "metadata": {},
   "outputs": [
    {
     "name": "stderr",
     "output_type": "stream",
     "text": [
      "Query complete after 0.00s: 100%|██████████| 1/1 [00:00<00:00, 387.61query/s]\n",
      "Downloading: 100%|██████████| 125/125 [00:01<00:00, 68.26rows/s]\n"
     ]
    }
   ],
   "source": [
    "%%bigquery acs_tampa_zip_codes_2015_5yr\n",
    "SELECT *\n",
    "FROM\n",
    "    `bigquery-public-data.census_bureau_acs.zip_codes_2015_5yr`\n",
    "WHERE geo_id in ('33647', '33511', '33578', '34668', '34698', '33614', '34655',\n",
    "       '33615', '33617', '33612', '34667', '34609', '33610', '33624',\n",
    "       '33771', '33573', '33611', '33702', '34653', '33604', '33613',\n",
    "       '33707', '33710', '33756', '33764', '34683', '33619', '33713',\n",
    "       '34684', '33709', '33705', '34608', '34652', '33770', '34689',\n",
    "       '34606', '33594', '33579', '33542', '33626', '33618', '33543',\n",
    "       '33772', '33781', '33541', '33701', '33703', '33607', '33712',\n",
    "       '33510', '33570', '33755', '34691', '33625', '33629', '34639',\n",
    "       '33556', '33563', '34677', '33706', '33763', '33708', '33596',\n",
    "       '33558', '34601', '34638', '34654', '33716', '33584', '33547',\n",
    "       '33782', '33602', '33544', '34613', '33569', '33606', '33572',\n",
    "       '33774', '33761', '33714', '33759', '33609', '33773', '34695',\n",
    "       '33603', '33711', '33634', '33598', '33760', '33704', '33566',\n",
    "       '33767', '34685', '33635', '33525', '33777', '33637', '33778',\n",
    "       '33605', '33545', '33616', '33565', '33549', '33523', '33559',\n",
    "       '33765', '33715', '33534', '34669', '34610', '33527', '33776',\n",
    "       '33540', '33592', '34607', '34688', '33785', '33567', '33597',\n",
    "       '33548', '34602', '33762', '34614', '34637', '33576');"
   ]
  },
  {
   "cell_type": "code",
   "execution_count": 12,
   "metadata": {},
   "outputs": [
    {
     "name": "stderr",
     "output_type": "stream",
     "text": [
      "Query complete after 0.00s: 100%|██████████| 1/1 [00:00<00:00, 458.74query/s] \n",
      "Downloading: 100%|██████████| 125/125 [00:01<00:00, 77.86rows/s]\n"
     ]
    }
   ],
   "source": [
    "%%bigquery acs_tampa_zip_codes_2016_5yr\n",
    "SELECT *\n",
    "FROM\n",
    "    `bigquery-public-data.census_bureau_acs.zip_codes_2016_5yr`\n",
    "WHERE geo_id in ('33647', '33511', '33578', '34668', '34698', '33614', '34655',\n",
    "       '33615', '33617', '33612', '34667', '34609', '33610', '33624',\n",
    "       '33771', '33573', '33611', '33702', '34653', '33604', '33613',\n",
    "       '33707', '33710', '33756', '33764', '34683', '33619', '33713',\n",
    "       '34684', '33709', '33705', '34608', '34652', '33770', '34689',\n",
    "       '34606', '33594', '33579', '33542', '33626', '33618', '33543',\n",
    "       '33772', '33781', '33541', '33701', '33703', '33607', '33712',\n",
    "       '33510', '33570', '33755', '34691', '33625', '33629', '34639',\n",
    "       '33556', '33563', '34677', '33706', '33763', '33708', '33596',\n",
    "       '33558', '34601', '34638', '34654', '33716', '33584', '33547',\n",
    "       '33782', '33602', '33544', '34613', '33569', '33606', '33572',\n",
    "       '33774', '33761', '33714', '33759', '33609', '33773', '34695',\n",
    "       '33603', '33711', '33634', '33598', '33760', '33704', '33566',\n",
    "       '33767', '34685', '33635', '33525', '33777', '33637', '33778',\n",
    "       '33605', '33545', '33616', '33565', '33549', '33523', '33559',\n",
    "       '33765', '33715', '33534', '34669', '34610', '33527', '33776',\n",
    "       '33540', '33592', '34607', '34688', '33785', '33567', '33597',\n",
    "       '33548', '34602', '33762', '34614', '34637', '33576');"
   ]
  },
  {
   "cell_type": "code",
   "execution_count": 13,
   "metadata": {},
   "outputs": [
    {
     "name": "stderr",
     "output_type": "stream",
     "text": [
      "Query complete after 0.00s: 100%|██████████| 1/1 [00:00<00:00, 377.66query/s]\n",
      "Downloading: 100%|██████████| 125/125 [00:01<00:00, 77.23rows/s]\n"
     ]
    }
   ],
   "source": [
    "%%bigquery acs_tampa_zip_codes_2017_5yr\n",
    "SELECT *\n",
    "FROM\n",
    "    `bigquery-public-data.census_bureau_acs.zip_codes_2017_5yr`\n",
    "WHERE geo_id in ('33647', '33511', '33578', '34668', '34698', '33614', '34655',\n",
    "       '33615', '33617', '33612', '34667', '34609', '33610', '33624',\n",
    "       '33771', '33573', '33611', '33702', '34653', '33604', '33613',\n",
    "       '33707', '33710', '33756', '33764', '34683', '33619', '33713',\n",
    "       '34684', '33709', '33705', '34608', '34652', '33770', '34689',\n",
    "       '34606', '33594', '33579', '33542', '33626', '33618', '33543',\n",
    "       '33772', '33781', '33541', '33701', '33703', '33607', '33712',\n",
    "       '33510', '33570', '33755', '34691', '33625', '33629', '34639',\n",
    "       '33556', '33563', '34677', '33706', '33763', '33708', '33596',\n",
    "       '33558', '34601', '34638', '34654', '33716', '33584', '33547',\n",
    "       '33782', '33602', '33544', '34613', '33569', '33606', '33572',\n",
    "       '33774', '33761', '33714', '33759', '33609', '33773', '34695',\n",
    "       '33603', '33711', '33634', '33598', '33760', '33704', '33566',\n",
    "       '33767', '34685', '33635', '33525', '33777', '33637', '33778',\n",
    "       '33605', '33545', '33616', '33565', '33549', '33523', '33559',\n",
    "       '33765', '33715', '33534', '34669', '34610', '33527', '33776',\n",
    "       '33540', '33592', '34607', '34688', '33785', '33567', '33597',\n",
    "       '33548', '34602', '33762', '34614', '34637', '33576');"
   ]
  },
  {
   "cell_type": "code",
   "execution_count": 14,
   "metadata": {},
   "outputs": [],
   "source": [
    "acs_tampa_zip_codes_2015_5yr[\"Year\"]=2015\n",
    "acs_tampa_zip_codes_2016_5yr[\"Year\"]=2016\n",
    "acs_tampa_zip_codes_2017_5yr[\"Year\"]=2017\n",
    "acs_tampa_cols_2015=acs_tampa_zip_codes_2015_5yr.columns\n",
    "acs_tampa_cols_2016=acs_tampa_zip_codes_2016_5yr.columns\n",
    "acs_tampa_cols_2017=acs_tampa_zip_codes_2017_5yr.columns\n",
    "acs_tampa_cols_2017.tolist().index('pop_separated')\n",
    "common_columns_tampa=list((((\n",
    "(set(acs_tampa_cols_2015))).intersection(set(acs_tampa_cols_2016)))\n",
    "                    .intersection(set(acs_tampa_cols_2017))))\n",
    "frames=[acs_tampa_zip_codes_2015_5yr[common_columns],\n",
    "        acs_tampa_zip_codes_2016_5yr[common_columns],\n",
    "        acs_tampa_zip_codes_2017_5yr[common_columns]]\n",
    "acs_all_tampa=pd.concat(frames)"
   ]
  },
  {
   "cell_type": "code",
   "execution_count": 15,
   "metadata": {},
   "outputs": [
    {
     "name": "stdout",
     "output_type": "stream",
     "text": [
      "(256, 120)\n",
      "Dropping 2010-10 from All\n"
     ]
    },
    {
     "name": "stderr",
     "output_type": "stream",
     "text": [
      "/Users/chitrasharathchandra/opt/anaconda3/lib/python3.8/site-packages/pandas/core/frame.py:4163: SettingWithCopyWarning: \n",
      "A value is trying to be set on a copy of a slice from a DataFrame\n",
      "\n",
      "See the caveats in the documentation: https://pandas.pydata.org/pandas-docs/stable/user_guide/indexing.html#returning-a-view-versus-a-copy\n",
      "  return super().drop(\n"
     ]
    },
    {
     "data": {
      "text/plain": [
       "array(['85032', '85281', '85225', '85308', '33647', '85142', '85251',\n",
       "       '85282', '85383', '33511', '85204', '85345', '85301', '85022',\n",
       "       '33578', '85008', '85255', '34668', '85201', '85326', '34698',\n",
       "       '85351', '85338', '85205', '85374', '85254', '85248', '85207',\n",
       "       '33614', '85122', '34655', '85016', '85224', '33615', '33617',\n",
       "       '85283', '33612', '85209', '85018', '85382', '85260', '85044',\n",
       "       '85029', '85041', '85206', '85234', '34667', '34609', '85020',\n",
       "       '85295', '85208', '85021', '85202', '85296', '85249', '85286',\n",
       "       '85027', '33610', '85226', '85015', '33624', '33771', '85051',\n",
       "       '33573', '33611', '85086', '85033', '85120', '85302', '85210',\n",
       "       '85138', '33702', '34653', '33604', '85035', '33613', '85379',\n",
       "       '33707', '85042', '85233', '85213', '33710', '85037', '85257',\n",
       "       '33756', '85023', '85339', '85212', '33764', '34683', '33619',\n",
       "       '33713', '85143', '85140', '34684', '33709', '85048', '33705',\n",
       "       '85014', '85323', '34608', '85395', '85392', '85268', '34652',\n",
       "       '33770', '34689', '85203', '34606', '85050', '85009', '33594',\n",
       "       '33579', '33542', '85331', '33626', '33618', '33543', '33772',\n",
       "       '85017', '33781', '85053', '85340', '33541', '85353', '33701',\n",
       "       '33703', '33607', '33712', '33510', '33570', '33755', '85396',\n",
       "       '85119', '34691', '85024', '85132', '33625', '33629', '85335',\n",
       "       '34639', '85013', '33556', '33563', '85085', '34677', '33706',\n",
       "       '33763', '33708', '85040', '33596', '85381', '33558', '34601',\n",
       "       '34638', '34654', '33716', '33584', '85304', '33547', '33782',\n",
       "       '33602', '33544', '34613', '33569', '85303', '85388', '85306',\n",
       "       '85006', '33606', '33572', '85373', '85250', '33774', '33761',\n",
       "       '33714', '85043', '33759', '85215', '85028', '33609', '33773',\n",
       "       '34695', '85031', '33603', '33711', '33634', '85019', '33598',\n",
       "       '85284', '33760', '33704', '33566', '33767', '34685', '33635',\n",
       "       '33525', '33777', '85262', '33637', '33778', '85118', '33605',\n",
       "       '33545', '33616', '85139', '85310', '33565', '33549', '85083',\n",
       "       '33523', '33559', '33765', '33715', '33534', '34669', '85266',\n",
       "       '34610', '85128', '33527', '33776', '85007', '85305', '33540',\n",
       "       '85004', '85003', '85131', '85390', '33592', '85012', '34607',\n",
       "       '34688', '85355', '85123', '85087', '33785', '33567', '85378',\n",
       "       '33597', '85307', '33548', '34602', '33762', '34614', '85194',\n",
       "       '34637', '85363', '33576', '85045', '85361', '85623', '85034',\n",
       "       '85263', '85377', '85631', '85173'], dtype='<U21')"
      ]
     },
     "execution_count": 15,
     "metadata": {},
     "output_type": "execute_result"
    }
   ],
   "source": [
    "zriall=pd.read_csv(\"Zip_Zri_AllHomesPlusMultifamily.csv\")\n",
    "zriall.rename(columns={\"RegionName\":\"zipcode\"},inplace=True)\n",
    "missingMetros = pd.isnull(zriall[\"Metro\"])\n",
    "zriall=zriall[~missingMetros]\n",
    "zriall.rename(columns={\"RegionName\":\"zipcode\"},inplace=True)\n",
    "phoenixzri = zriall[(zriall.Metro.str.contains('Phoenix')) | (zriall.Metro.str.contains('Tampa'))]\n",
    "print(phoenixzri.shape)\n",
    "\n",
    "missingRowsAll = pd.isnull(phoenixzri).sum(axis=1) > 0\n",
    "missingColsAll = pd.isnull(phoenixzri).sum(axis=0) > 0\n",
    "\n",
    "#Dropping columns with more than 1/2 of a zipcode's data missing\n",
    "for col in phoenixzri.columns[missingColsAll]:\n",
    "    if pd.isnull(phoenixzri[col]).sum()>15:\n",
    "        print(f\"Dropping {col} from All\")\n",
    "        phoenixzri.drop(col,axis=1,inplace=True)\n",
    "\n",
    "#Dropping zipcodes with more than 40% of index data missing\n",
    "phoenixzri = phoenixzri[pd.isnull(phoenixzri).sum(axis=1)<50]\n",
    "phoenixzri['zipcode'].unique().astype(str)"
   ]
  },
  {
   "cell_type": "markdown",
   "metadata": {},
   "source": [
    "### Demographics"
   ]
  },
  {
   "cell_type": "markdown",
   "metadata": {},
   "source": [
    "## Age"
   ]
  },
  {
   "cell_type": "code",
   "execution_count": 16,
   "metadata": {},
   "outputs": [],
   "source": [
    "def age(df):\n",
    "    df=df.copy()\n",
    "    female_under_18 = df.female_under_5 + df.female_5_to_9 + df.female_10_to_14 + df.female_15_to_17 + df.female_18_to_19\n",
    "    female_under_60 = df.female_20 + df.female_21 + df.female_22_to_24 + df.female_25_to_29 + df.female_30_to_34 + df.female_35_to_39 + df.female_40_to_44 + df.female_45_to_49 + df.female_50_to_54 + df.female_55_to_59 \n",
    "    female_over_60 = df.female_60_to_61 + df.female_62_to_64 + df.female_65_to_66 + df.female_67_to_69 \n",
    "    female_under_18 = female_under_18.astype(float)\n",
    "    female_under_60 = female_under_60.astype(float)\n",
    "    female_over_60 = female_over_60.astype(float)\n",
    "    male_under_18 = df.male_under_5 + df.male_5_to_9 + df.male_10_to_14 + df.male_15_to_17 + df.male_18_to_19\n",
    "    male_under_60 = df.male_20 + df.male_21 + df.male_22_to_24 + df.male_25_to_29 + df.male_30_to_34 + df.male_35_to_39 + df.male_40_to_44 + df.male_45_to_49 + df.male_50_to_54 + df.male_55_to_59 \n",
    "    male_over_60 = df.male_60_61 + df.male_62_64 + df.male_65_to_66 + df.male_67_to_69 + df.male_70_to_74 + df.male_75_to_79 + df.male_80_to_84 + df.male_85_and_over\n",
    "    under_18=female_under_18.astype(float)+male_under_18.astype(float)\n",
    "    under_60=female_under_60.astype(float)+male_under_60.astype(float)\n",
    "    over_60=female_over_60.astype(float)+male_over_60.astype(float)\n",
    "    total_pop_year=df['total_pop'].astype(float).sum()\n",
    "    return (round(under_18.sum()/total_pop_year*100),round(under_60.sum()/total_pop_year*100),round(over_60.sum()/total_pop_year*100))"
   ]
  },
  {
   "cell_type": "code",
   "execution_count": 116,
   "metadata": {
    "scrolled": true
   },
   "outputs": [
    {
     "name": "stderr",
     "output_type": "stream",
     "text": [
      "<ipython-input-116-148037ea58c2>:22: MatplotlibDeprecationWarning: Adding an axes using the same arguments as a previous axes currently reuses the earlier instance.  In a future version, a new instance will always be created and returned.  Meanwhile, this warning can be suppressed, and the future behavior ensured, by passing a unique label to each axes instance.\n",
      "  ax1=plt.axes()\n",
      "<ipython-input-116-148037ea58c2>:31: MatplotlibDeprecationWarning: Adding an axes using the same arguments as a previous axes currently reuses the earlier instance.  In a future version, a new instance will always be created and returned.  Meanwhile, this warning can be suppressed, and the future behavior ensured, by passing a unique label to each axes instance.\n",
      "  ax2=plt.axes()\n",
      "<ipython-input-116-148037ea58c2>:40: MatplotlibDeprecationWarning: Adding an axes using the same arguments as a previous axes currently reuses the earlier instance.  In a future version, a new instance will always be created and returned.  Meanwhile, this warning can be suppressed, and the future behavior ensured, by passing a unique label to each axes instance.\n",
      "  ax3=plt.axes()\n"
     ]
    },
    {
     "data": {
      "text/plain": [
       "Text(0, 0.5, 'Percentage of Population')"
      ]
     },
     "execution_count": 116,
     "metadata": {},
     "output_type": "execute_result"
    },
    {
     "data": {
      "image/png": "[encoded data removed]",
      "text/plain": [
       "<Figure size 432x288 with 1 Axes>"
      ]
     },
     "metadata": {
      "needs_background": "light"
     },
     "output_type": "display_data"
    },
    {
     "data": {
      "image/png": "[encoded data removed]",
      "text/plain": [
       "<Figure size 432x288 with 1 Axes>"
      ]
     },
     "metadata": {
      "needs_background": "light"
     },
     "output_type": "display_data"
    },
    {
     "data": {
      "image/png": "[encoded data removed]",
      "text/plain": [
       "<Figure size 432x288 with 1 Axes>"
      ]
     },
     "metadata": {
      "needs_background": "light"
     },
     "output_type": "display_data"
    }
   ],
   "source": [
    "phoenix_over_60=[]\n",
    "tampa_over_60=[]\n",
    "phoenix_under_60=[]\n",
    "tampa_under_60=[]\n",
    "phoenix_under_18=[]\n",
    "tampa_under_18=[]\n",
    "age_over_60_sns=pd.DataFrame()\n",
    "for year in range(2015,2018):\n",
    "    under_18_phoenix,under_60_phoenix,over_60_phoenix=age(acs_all_phoenix[acs_all_phoenix[\"Year\"]==year])\n",
    "    under_18_tampa,under_60_tampa,over_60_tampa=age(acs_all_tampa[acs_all_tampa[\"Year\"]==year])\n",
    "    phoenix_over_60.append(over_60_phoenix)\n",
    "    tampa_over_60.append(over_60_tampa)\n",
    "    phoenix_under_60.append(under_60_phoenix)\n",
    "    tampa_under_60.append(under_60_tampa)\n",
    "    phoenix_under_18.append(under_18_phoenix)\n",
    "    tampa_under_18.append(under_18_tampa)\n",
    "#     age_over_60_sns=age_over_60_sns.append({\"Year\":str(year),\"Ciudad\":\"Phoenix\",\"Count\":over_60_phoenix},ignore_index=True)\n",
    "#     age_over_60_sns=age_over_60_sns.append({\"Year\":str(year),\"Ciudad\":\"Tampa\",\"Count\":over_60_tampa},ignore_index=True)\n",
    "age_over_60=pd.DataFrame({'Phoenix':phoenix_over_60,'Tampa':tampa_over_60},index=['2015','2016','2017'])\n",
    "\n",
    "age_over_60.plot.bar(rot=45,color=[\"#7FFFD4\",\"#ff7faa\"],edgecolor=\"white\",width=0.3)\n",
    "ax1=plt.axes()\n",
    "ax1.set_facecolor(\"orange\")\n",
    "plt.title('Population Over 60', color='black')\n",
    "plt.legend(loc='center left', bbox_to_anchor=(1.0, 0.5))\n",
    "plt.xlabel(\"Year\")\n",
    "plt.ylabel(\"Percentage of Population\")\n",
    "\n",
    "age_under_60=pd.DataFrame({'Phoenix':phoenix_under_60,'Tampa':tampa_under_60},index=['2015','2016','2017'])\n",
    "age_under_60.plot.bar(rot=45,color=[\"#7FFFD4\",\"#ff7faa\"],edgecolor=\"white\",width=0.3)\n",
    "ax2=plt.axes()\n",
    "ax2.set_facecolor(\"white\")\n",
    "plt.title('Population between 18 and 59', color='black')\n",
    "plt.legend(loc='center left', bbox_to_anchor=(1.0, 0.5))\n",
    "plt.xlabel(\"Year\")\n",
    "plt.ylabel(\"Percentage of Population\")\n",
    "\n",
    "age_under_18=pd.DataFrame({'Phoenix':phoenix_under_18,'Tampa':tampa_under_18},index=['2015','2016','2017'])\n",
    "age_under_18.plot.bar(rot=45,color=[\"#7FFFD4\",\"#ff7faa\"],edgecolor=\"white\",width=0.3)\n",
    "ax3=plt.axes()\n",
    "ax3.set_facecolor(\"#66ffff\")\n",
    "plt.title('Population Under 18', color='black')\n",
    "plt.legend(loc='center left', bbox_to_anchor=(1.0, 0.5))\n",
    "plt.xlabel(\"Year\")\n",
    "plt.ylabel(\"Percentage of Population\")\n",
    "\n",
    "# ax = sns.barplot(x=\"Year\", y=\"Count\", hue=\"Ciudad\", data=age_over_60_sns, palette=[\"#7FFFD4\",\"#ff7faa\"])\n",
    "# plt.legend(loc='center left', bbox_to_anchor=(1.0, 0.5))\n"
   ]
  },
  {
   "cell_type": "code",
   "execution_count": 111,
   "metadata": {},
   "outputs": [
    {
     "data": {
      "text/html": [
       "<div>\n",
       "<style scoped>\n",
       "    .dataframe tbody tr th:only-of-type {\n",
       "        vertical-align: middle;\n",
       "    }\n",
       "\n",
       "    .dataframe tbody tr th {\n",
       "        vertical-align: top;\n",
       "    }\n",
       "\n",
       "    .dataframe thead th {\n",
       "        text-align: right;\n",
       "    }\n",
       "</style>\n",
       "<table border=\"1\" class=\"dataframe\">\n",
       "  <thead>\n",
       "    <tr style=\"text-align: right;\">\n",
       "      <th></th>\n",
       "      <th>City</th>\n",
       "      <th>Year</th>\n",
       "      <th>Under 18</th>\n",
       "      <th>Between 19 and 60</th>\n",
       "      <th>Above 60</th>\n",
       "    </tr>\n",
       "  </thead>\n",
       "  <tbody>\n",
       "    <tr>\n",
       "      <th>0</th>\n",
       "      <td>Phoenix</td>\n",
       "      <td>2015</td>\n",
       "      <td>28</td>\n",
       "      <td>54</td>\n",
       "      <td>13</td>\n",
       "    </tr>\n",
       "    <tr>\n",
       "      <th>1</th>\n",
       "      <td>Tampa</td>\n",
       "      <td>2017</td>\n",
       "      <td>23</td>\n",
       "      <td>53</td>\n",
       "      <td>17</td>\n",
       "    </tr>\n",
       "    <tr>\n",
       "      <th>2</th>\n",
       "      <td>Phoenix</td>\n",
       "      <td>2018</td>\n",
       "      <td>28</td>\n",
       "      <td>53</td>\n",
       "      <td>14</td>\n",
       "    </tr>\n",
       "    <tr>\n",
       "      <th>3</th>\n",
       "      <td>Tampa</td>\n",
       "      <td>2015</td>\n",
       "      <td>23</td>\n",
       "      <td>52</td>\n",
       "      <td>18</td>\n",
       "    </tr>\n",
       "    <tr>\n",
       "      <th>4</th>\n",
       "      <td>Phoenix</td>\n",
       "      <td>2017</td>\n",
       "      <td>28</td>\n",
       "      <td>53</td>\n",
       "      <td>14</td>\n",
       "    </tr>\n",
       "    <tr>\n",
       "      <th>5</th>\n",
       "      <td>Tampa</td>\n",
       "      <td>2018</td>\n",
       "      <td>23</td>\n",
       "      <td>52</td>\n",
       "      <td>18</td>\n",
       "    </tr>\n",
       "  </tbody>\n",
       "</table>\n",
       "</div>"
      ],
      "text/plain": [
       "      City  Year  Under 18  Between 19 and 60  Above 60\n",
       "0  Phoenix  2015        28                 54        13\n",
       "1    Tampa  2017        23                 53        17\n",
       "2  Phoenix  2018        28                 53        14\n",
       "3    Tampa  2015        23                 52        18\n",
       "4  Phoenix  2017        28                 53        14\n",
       "5    Tampa  2018        23                 52        18"
      ]
     },
     "execution_count": 111,
     "metadata": {},
     "output_type": "execute_result"
    }
   ],
   "source": [
    "under_18=[]\n",
    "between_19_60=[]\n",
    "above_60=[]\n",
    "age_over_60_sns=pd.DataFrame()\n",
    "for year in range(2015,2018):\n",
    "    under_18_phoenix,under_60_phoenix,over_60_phoenix=age(acs_all_phoenix[acs_all_phoenix[\"Year\"]==year])\n",
    "    under_18_tampa,under_60_tampa,over_60_tampa=age(acs_all_tampa[acs_all_tampa[\"Year\"]==year])\n",
    "    under_18.append(under_18_phoenix)\n",
    "    under_18.append(under_18_tampa)\n",
    "    between_19_60.append(under_60_phoenix)\n",
    "    between_19_60.append(under_60_tampa)\n",
    "    above_60.append(over_60_phoenix)\n",
    "    above_60.append(over_60_tampa)\n",
    "df_age=pd.DataFrame({'City':[\"Phoenix\",\"Tampa\"]*3,\n",
    "                     'Year':[2015,2017,2018]*2,\n",
    "                     'Under 18':under_18,\n",
    "                    'Between 19 and 60':between_19_60,\n",
    "                    'Above 60':above_60})\n",
    "df_age"
   ]
  },
  {
   "cell_type": "markdown",
   "metadata": {},
   "source": [
    "## Commute"
   ]
  },
  {
   "cell_type": "code",
   "execution_count": 122,
   "metadata": {},
   "outputs": [
    {
     "name": "stderr",
     "output_type": "stream",
     "text": [
      "<ipython-input-122-4173c45c276d>:33: MatplotlibDeprecationWarning: Adding an axes using the same arguments as a previous axes currently reuses the earlier instance.  In a future version, a new instance will always be created and returned.  Meanwhile, this warning can be suppressed, and the future behavior ensured, by passing a unique label to each axes instance.\n",
      "  ax1=plt.axes()\n"
     ]
    },
    {
     "data": {
      "text/plain": [
       "Text(0, 0.5, 'Percentage of Population')"
      ]
     },
     "execution_count": 122,
     "metadata": {},
     "output_type": "execute_result"
    },
    {
     "data": {
      "image/png": "[encoded data removed]",
      "text/plain": [
       "<Figure size 432x288 with 1 Axes>"
      ]
     },
     "metadata": {
      "needs_background": "light"
     },
     "output_type": "display_data"
    },
    {
     "data": {
      "image/png": "[encoded data removed]",
      "text/plain": [
       "<Figure size 432x288 with 1 Axes>"
      ]
     },
     "metadata": {
      "needs_background": "light"
     },
     "output_type": "display_data"
    },
    {
     "data": {
      "image/png": "[encoded data removed]",
      "text/plain": [
       "<Figure size 432x288 with 1 Axes>"
      ]
     },
     "metadata": {
      "needs_background": "light"
     },
     "output_type": "display_data"
    }
   ],
   "source": [
    "def commute(df):\n",
    "    df=df.copy()\n",
    "    commute_less_than_30 = df.commute_5_9_mins + df.commute_less_10_mins + df.commute_10_14_mins + df.commute_15_19_mins + df.commute_20_24_mins + df.commute_25_29_mins\n",
    "    commute_less_than_60 = df.commute_30_34_mins + df.commute_35_39_mins + df.commute_35_44_mins + df.commute_40_44_mins + df.commute_45_59_mins\n",
    "    commute_over_60 = df.commute_60_89_mins + df.commute_60_more_mins + df.commute_90_more_mins\n",
    "    total_pop_year=df['total_pop'].astype(float).sum()\n",
    "    return (round(commute_less_than_30.astype(float).sum()/total_pop_year*100),\n",
    "            round(commute_less_than_60.astype(float).sum()/total_pop_year*100),\n",
    "            round(commute_over_60.astype(float).sum()/total_pop_year*100))\n",
    "phoenix_under10=[]\n",
    "tampa_under10=[]\n",
    "phoenix_tento50=[]\n",
    "tampa_tento50=[]\n",
    "phoenix_over50=[]\n",
    "tampa_over50=[]\n",
    "\n",
    "for year in range(2015,2018):\n",
    "    under10_phoenix,tento50_phoenix,over50_phoenix=commute(acs_all_phoenix[acs_all_phoenix[\"Year\"]==year])\n",
    "    under10_tampa,tento50_tampa,over50_tampa=age(acs_all_tampa[acs_all_tampa[\"Year\"]==year])\n",
    "    phoenix_under10.append(under10_phoenix)\n",
    "    tampa_under10.append(under10_tampa)\n",
    "    phoenix_tento50.append(tento50_phoenix)\n",
    "    tampa_tento50.append(tento50_tampa)\n",
    "    phoenix_over50.append(over50_phoenix)\n",
    "    tampa_over50.append(over50_tampa)\n",
    "\n",
    "commute_under_10=pd.DataFrame({'Phoenix':phoenix_under10,'Tampa':tampa_under10},index=['2015','2016','2017'])\n",
    "commute_10_to_50=pd.DataFrame({'Phoenix':phoenix_tento50,'Tampa':tampa_tento50},index=['2015','2016','2017'])\n",
    "commute_over50=pd.DataFrame({'Phoenix':phoenix_over50,'Tampa':tampa_over50},index=['2015','2016','2017'])\n",
    "\n",
    "\n",
    "commute_under_10.plot.bar(rot=45, color=[\"#66ffff\",\"#cc66ff\"],edgecolor=\"white\",width=0.3)\n",
    "ax1=plt.axes()\n",
    "ax1.set_facecolor(\"black\")\n",
    "plt.title('Commute under 10 minutes', color='black')\n",
    "plt.legend(loc='center left', bbox_to_anchor=(1.0, 0.5))\n",
    "plt.xlabel(\"Year\")\n",
    "plt.ylabel(\"Percentage of Population\")\n",
    "\n",
    "commute_10_to_50.plot.bar(rot=45,color=[\"#66ffff\",\"#cc66ff\"],edgecolor=\"white\",width=0.3)\n",
    "plt.title('Commute between 10 to 50 minutes', color='black')\n",
    "plt.legend(loc='center left', bbox_to_anchor=(1.0, 0.5))\n",
    "plt.xlabel(\"Year\")\n",
    "plt.ylabel(\"Percentage of Population\")\n",
    "\n",
    "commute_over50.plot.bar(rot=45,color=[\"#66ffff\",\"#cc66ff\"],edgecolor=\"white\",width=0.3)\n",
    "plt.title('Commute over 50 minutes', color='black')\n",
    "plt.legend(loc='center left', bbox_to_anchor=(1.0, 0.5))\n",
    "plt.xlabel(\"Year\")\n",
    "plt.ylabel(\"Percentage of Population\")"
   ]
  },
  {
   "cell_type": "markdown",
   "metadata": {},
   "source": [
    "## Rental Index"
   ]
  },
  {
   "cell_type": "markdown",
   "metadata": {},
   "source": [
    "## Housing inventory"
   ]
  },
  {
   "cell_type": "code",
   "execution_count": 118,
   "metadata": {},
   "outputs": [
    {
     "data": {
      "text/plain": [
       "Text(0, 0.5, 'Percentage of Dwellings')"
      ]
     },
     "execution_count": 118,
     "metadata": {},
     "output_type": "execute_result"
    },
    {
     "data": {
      "image/png": "[encoded data removed]",
      "text/plain": [
       "<Figure size 432x288 with 1 Axes>"
      ]
     },
     "metadata": {
      "needs_background": "light"
     },
     "output_type": "display_data"
    },
    {
     "data": {
      "image/png": "[encoded data removed]",
      "text/plain": [
       "<Figure size 432x288 with 1 Axes>"
      ]
     },
     "metadata": {
      "needs_background": "light"
     },
     "output_type": "display_data"
    }
   ],
   "source": [
    "def housing(df):\n",
    "    df=df.copy()\n",
    "    sf_dwellings = df.dwellings_1_units_attached + df.dwellings_1_units_detached + df.dwellings_2_units + df.dwellings_3_to_4_units\n",
    "    mf_dwellings = df.dwellings_5_to_9_units + df.dwellings_10_to_19_units + df.dwellings_20_to_49_units + df.dwellings_50_or_more_units\n",
    "    total_dwellings = sf_dwellings+mf_dwellings\n",
    "    vacant_dwellings = df.vacant_housing_units\n",
    "\n",
    "    return ((sf_dwellings.astype(float).sum()/total_dwellings.astype(float).sum()*100),\n",
    "           (mf_dwellings.astype(float).sum()/total_dwellings.astype(float).sum()*100),\n",
    "           (vacant_dwellings.astype(float).sum()/total_dwellings.astype(float).sum()*100))\n",
    "#https://mf.freddiemac.com/about/multifamily-vs-single-family.html - multifamily is 5 or more units\n",
    "phoenix_housing_df=pd.DataFrame()\n",
    "tampa_housing_df=pd.DataFrame()\n",
    "for year in range(2015,2018):\n",
    "    sf_dwelling_phoenix,mf_dwelling_phoenix,vacant_dwelling_phoenix=housing(acs_all_phoenix[acs_all_phoenix[\"Year\"]==year])\n",
    "    sf_dwelling_tampa,mf_dwelling_tampa,vacant_dwelling_tampa=housing(acs_all_tampa[acs_all_tampa[\"Year\"]==year])\n",
    "    phoenix_housing_df=phoenix_housing_df.append({\n",
    "        \"Year\": str(year),\n",
    "        \"Single Family\": sf_dwelling_phoenix,\n",
    "        \"Multi Family\": mf_dwelling_phoenix,\n",
    "        \"Vacant Dwelling\": vacant_dwelling_phoenix\n",
    "    }, ignore_index=True)\n",
    "    tampa_housing_df=tampa_housing_df.append({\n",
    "        \"Year\": str(year),\n",
    "        \"Single Family\": sf_dwelling_tampa,\n",
    "        \"Multi Family\": mf_dwelling_tampa,\n",
    "        \"Vacant Dwelling\": vacant_dwelling_tampa\n",
    "    },ignore_index=True)\n",
    "phoenix_housing_df.index=[2015,2016,2017]\n",
    "phoenix_housing_df.plot.bar(color=[\"#ffcccc\",\"#ccccff\",\"#33ccff\"])\n",
    "plt.title('Phoenix Housing Inventory', color='black')\n",
    "plt.legend(loc='center left', bbox_to_anchor=(1.0, 0.5))\n",
    "plt.xlabel(\"Year\")\n",
    "plt.ylabel(\"Percentage of Dwellings\")\n",
    "\n",
    "tampa_housing_df.index=[2015,2016,2017]\n",
    "tampa_housing_df.plot.bar(color=[\"#ffcccc\",\"#ccccff\",\"#33ccff\"])\n",
    "plt.title('Tampa Housing Inventory', color='black')\n",
    "plt.legend(loc='center left', bbox_to_anchor=(1.0, 0.5))\n",
    "plt.xlabel(\"Year\")\n",
    "plt.ylabel(\"Percentage of Dwellings\")\n"
   ]
  },
  {
   "cell_type": "markdown",
   "metadata": {},
   "source": [
    "## Rent Burden"
   ]
  },
  {
   "cell_type": "code",
   "execution_count": 119,
   "metadata": {},
   "outputs": [
    {
     "data": {
      "text/plain": [
       "Text(0, 0.5, 'Percentage of Population')"
      ]
     },
     "execution_count": 119,
     "metadata": {},
     "output_type": "execute_result"
    },
    {
     "data": {
      "image/png": "[encoded data removed]",
      "text/plain": [
       "<Figure size 432x288 with 1 Axes>"
      ]
     },
     "metadata": {
      "needs_background": "light"
     },
     "output_type": "display_data"
    },
    {
     "data": {
      "image/png": "[encoded data removed]",
      "text/plain": [
       "<Figure size 432x288 with 1 Axes>"
      ]
     },
     "metadata": {
      "needs_background": "light"
     },
     "output_type": "display_data"
    }
   ],
   "source": [
    "def rent_burden(df):\n",
    "    df=df.copy()\n",
    "    under10 = df.rent_under_10_percent\n",
    "    tento50 = df.rent_40_to_50_percent + df.rent_35_to_40_percent + df.rent_30_to_35_percent+ df.rent_25_to_30_percent + df.rent_20_to_25_percent + df.rent_15_to_20_percent + df.rent_10_to_15_percent\n",
    "    over50 = df.rent_over_50_percent\n",
    "    allrentburdens=under10+tento50+over50\n",
    "    return (under10.astype(float).sum()/allrentburdens.astype(float).sum(),\n",
    "            tento50.astype(float).sum()/allrentburdens.astype(float).sum(),\n",
    "            over50.astype(float).sum()/allrentburdens.astype(float).sum())\n",
    "\n",
    "phoenix_rent_burden_df=pd.DataFrame()\n",
    "tampa_rent_burden_housing_df=pd.DataFrame()\n",
    "for year in range(2015,2018):\n",
    "    under10_rent_phoenix,tento50_rent_phoenix,over50_rent_phoenix=rent_burden(acs_all_phoenix[acs_all_phoenix[\"Year\"]==year])\n",
    "    under10_rent_tampa,tento50_rent_tampa,over50_rent_tampa=rent_burden(acs_all_tampa[acs_all_tampa[\"Year\"]==year])\n",
    "    phoenix_rent_burden_df=phoenix_rent_burden_df.append({\n",
    "        \"Year\": str(year),\n",
    "        \"Under 10%\": under10_rent_phoenix,\n",
    "        \"10 to 50%\": tento50_rent_phoenix,\n",
    "        \"Over 50%\": over50_rent_phoenix\n",
    "    }, ignore_index=True)\n",
    "    tampa_rent_burden_housing_df=tampa_rent_burden_housing_df.append({\n",
    "        \"Year\": str(year),\n",
    "        \"Under 10%\": under10_rent_tampa,\n",
    "        \"10 to 50%\": tento50_rent_tampa,\n",
    "        \"Over 50%\": over50_rent_tampa\n",
    "    },ignore_index=True)\n",
    "phoenix_rent_burden_df.index=[2015,2016,2017]\n",
    "phoenix_rent_burden_df.plot.bar(color=[\"#ffcccc\",\"#ccccff\",\"#33ccff\"])\n",
    "plt.title('Phoenix Rent Burden', color='black')\n",
    "plt.legend(loc='center left', bbox_to_anchor=(1.0, 0.5))\n",
    "plt.xlabel(\"Year\")\n",
    "plt.ylabel(\"Percentage of Population\")\n",
    "\n",
    "tampa_rent_burden_housing_df.index=[2015,2016,2017]\n",
    "tampa_rent_burden_housing_df.plot.bar(color=[\"#ffcccc\",\"#ccccff\",\"#33ccff\"])\n",
    "plt.title('Tampa Rent Burden', color='black')\n",
    "plt.legend(loc='center left', bbox_to_anchor=(1.0, 0.5))\n",
    "plt.xlabel(\"Year\")\n",
    "plt.ylabel(\"Percentage of Population\")"
   ]
  }
 ],
 "metadata": {
  "kernelspec": {
   "display_name": "Python 3",
   "language": "python",
   "name": "python3"
  },
  "language_info": {
   "codemirror_mode": {
    "name": "ipython",
    "version": 3
   },
   "file_extension": ".py",
   "mimetype": "text/x-python",
   "name": "python",
   "nbconvert_exporter": "python",
   "pygments_lexer": "ipython3",
   "version": "3.8.5"
  }
 },
 "nbformat": 4,
 "nbformat_minor": 5
}
