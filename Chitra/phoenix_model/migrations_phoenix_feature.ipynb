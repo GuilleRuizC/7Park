{
 "cells": [
  {
   "cell_type": "code",
   "execution_count": 1,
   "metadata": {},
   "outputs": [],
   "source": [
    "#This file reads in Census Migration data for Maricopa couty which is in the Phoenix area\n",
    "#Migration is a key indicator for rental prices especially in Phoenix where the market is driven\n",
    "#by a lot of migration from California where housing is very expensive\n",
    "import pandas as pd"
   ]
  },
  {
   "cell_type": "code",
   "execution_count": 30,
   "metadata": {},
   "outputs": [],
   "source": [
    "migration2011=pd.read_csv(\"./data/Maricopa County, Arizona_ACS_2007_2011_Total_IN.csv\")\n",
    "migration2012=pd.read_csv(\"./data/Maricopa County, Arizona_ACS_2008_2012_Total_IN.csv\")\n",
    "migration2013=pd.read_csv(\"./data/Maricopa County, Arizona_ACS_2009_2013_Total_IN.csv\")\n",
    "migration2014=pd.read_csv(\"./data/Maricopa County, Arizona_ACS_2010_2014_Total_IN.csv\")\n",
    "migration2015=pd.read_csv(\"./data/Maricopa County, Arizona_ACS_2011_2015_All_IN.csv\")\n",
    "migration2016=pd.read_csv(\"./data/Maricopa County, Arizona_ACS_2012_2016_All_IN.csv\")\n",
    "migration2017=pd.read_csv(\"./data/Maricopa County, Arizona_ACS_2013_2017_All_IN.csv\")\n",
    "acs_phoenix_raw=pd.read_csv(\"ACS_Phoenix_Imputed.csv\")\n",
    "acs_phoenix=pd.read_csv(\"ACS_Phoenix_Imputed_Final.csv\")"
   ]
  },
  {
   "cell_type": "code",
   "execution_count": 22,
   "metadata": {},
   "outputs": [],
   "source": [
    "migration2011[\"Year\"]=2011\n",
    "migration2012[\"Year\"]=2012\n",
    "migration2013[\"Year\"]=2013\n",
    "migration2014[\"Year\"]=2014\n",
    "migration2015[\"Year\"]=2015\n",
    "migration2016[\"Year\"]=2016\n",
    "migration2017[\"Year\"]=2017"
   ]
  },
  {
   "cell_type": "code",
   "execution_count": 23,
   "metadata": {},
   "outputs": [],
   "source": [
    "frames=[migration2011,migration2012,migration2013,migration2014,migration2015,migration2016,migration2017]\n",
    "migrations=pd.concat(frames)"
   ]
  },
  {
   "cell_type": "code",
   "execution_count": 24,
   "metadata": {},
   "outputs": [],
   "source": [
    "migration_by_year=migrations.groupby(\"Year\")[\"Total\"].agg(\"count\")"
   ]
  },
  {
   "cell_type": "code",
   "execution_count": 41,
   "metadata": {},
   "outputs": [],
   "source": [
    "yearly_population=acs_phoenix_raw.groupby(\"do_date\")[\"total_pop\"].agg(\"sum\")\n",
    "yearly_population.index=[int(str(val)[4:]) for val in yearly_population.index]"
   ]
  },
  {
   "cell_type": "code",
   "execution_count": 42,
   "metadata": {},
   "outputs": [],
   "source": [
    "def getMigration(row):\n",
    "    return migration_by_year[row[\"Year\"]]*(row[\"total_pop\"]/yearly_population[row[\"Year\"]])"
   ]
  },
  {
   "cell_type": "code",
   "execution_count": 43,
   "metadata": {},
   "outputs": [],
   "source": [
    "acs_phoenix.loc[:,\"migrations\"]=acs_phoenix.apply(getMigration,axis=1)"
   ]
  },
  {
   "cell_type": "code",
   "execution_count": 48,
   "metadata": {},
   "outputs": [],
   "source": [
    "acs_phoenix.to_csv(\"ACS_Migrations_Phoenix.csv\")"
   ]
  }
 ],
 "metadata": {
  "kernelspec": {
   "display_name": "Python 3",
   "language": "python",
   "name": "python3"
  },
  "language_info": {
   "codemirror_mode": {
    "name": "ipython",
    "version": 3
   },
   "file_extension": ".py",
   "mimetype": "text/x-python",
   "name": "python",
   "nbconvert_exporter": "python",
   "pygments_lexer": "ipython3",
   "version": "3.8.5"
  }
 },
 "nbformat": 4,
 "nbformat_minor": 4
}
