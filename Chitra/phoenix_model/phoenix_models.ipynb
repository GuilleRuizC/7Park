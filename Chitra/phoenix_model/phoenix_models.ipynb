{
 "cells": [
  {
   "cell_type": "code",
   "execution_count": 25,
   "metadata": {},
   "outputs": [],
   "source": [
    "#In this file I start with running the Lasso on subset of variables based on slope analysis\n",
    "#It brings down the number of features to about 95 \n",
    "#Running subsequent VIF requires elimination of a couple of variables\n",
    "#VIF values are still high but the model is producing Train and Test R2 of about 0.69 and 0.65\n",
    "\n",
    "#Second part of the work here was to introduce the migration data\n",
    "#Introducing this feature did not improve R2 significantly but no clear conclusions can be drawn\n",
    "#until the multicolinearity issue is reso\n",
    "import pandas as pd\n",
    "import numpy as np\n",
    "pd.set_option('display.max_columns', None)\n",
    "pd.set_option(\"max_rows\", None)\n",
    "from matplotlib import pyplot as plt\n",
    "%matplotlib inline\n",
    "from sklearn.linear_model import LinearRegression, Lasso, ElasticNet\n",
    "from sklearn.model_selection import GridSearchCV\n",
    "from sklearn.metrics import mean_squared_error\n",
    "from sklearn.pipeline import Pipeline, make_pipeline\n",
    "from sklearn.preprocessing import StandardScaler\n",
    "from sklearn.preprocessing import OneHotEncoder\n",
    "from sklearn.impute import SimpleImputer\n",
    "from sklearn.compose import ColumnTransformer\n",
    "from sklearn.model_selection import train_test_split\n",
    "from sklearn.ensemble import RandomForestRegressor \n",
    "from sklearn.model_selection import cross_val_score\n",
    "import seaborn as sns"
   ]
  },
  {
   "cell_type": "code",
   "execution_count": 194,
   "metadata": {},
   "outputs": [],
   "source": [
    "phoenix_zri=pd.read_csv(\"Phoenix_MF_ZRI.csv\")\n",
    "acs_features=pd.read_csv(\"ACS_Phoenix_Imputed_Final.csv\")\n",
    "migration_feature=pd.read_csv(\"ACS_Migrations_Phoenix.csv\")"
   ]
  },
  {
   "cell_type": "code",
   "execution_count": 195,
   "metadata": {},
   "outputs": [],
   "source": [
    "migration_feature=migration_feature[\"migrations\"]"
   ]
  },
  {
   "cell_type": "code",
   "execution_count": 207,
   "metadata": {},
   "outputs": [],
   "source": [
    "y=phoenix_zri.sort_values([\"zipcode\",\"Year\",\"Month\"])[\"ZRI\"]\n",
    "#features selected by slope analysis \n",
    "features=[\n",
    "    #'hispanic_any_race',\n",
    " 'income_30000_34999',\n",
    " 'bachelors_degree_or_higher_25_64',\n",
    " 'in_grades_9_to_12',\n",
    " 'commute_90_more_mins',\n",
    " 'bachelors_degree',\n",
    " 'poverty',\n",
    " 'occupation_management_arts',\n",
    " 'female_70_to_74',\n",
    " 'median_income',\n",
    " 'owner_occupied_housing_units_upper_value_quartile',\n",
    " 'in_grades_1_to_4',\n",
    " 'income_25000_29999',\n",
    " 'female_5_to_9',\n",
    " 'vacant_housing_units_for_rent',\n",
    " 'income_125000_149999',\n",
    " 'male_75_to_79',\n",
    " 'two_parents_in_labor_force_families_with_young_children',\n",
    " 'employed_wholesale_trade',\n",
    " 'mobile_homes',\n",
    " 'vacant_housing_units_for_sale',\n",
    " 'rent_15_to_20_percent',\n",
    " 'employed_information',\n",
    " 'one_parent_families_with_young_children',\n",
    " 'male_45_64_graduate_degree',\n",
    " 'rent_10_to_15_percent',\n",
    " 'families_with_young_children',\n",
    " 'female_85_and_over',\n",
    " 'Year',\n",
    " 'female_15_to_17',\n",
    " 'white_male_55_64',\n",
    " 'father_in_labor_force_one_parent_families_with_young_children',\n",
    " 'high_school_diploma',\n",
    " 'male_15_to_17',\n",
    " 'commute_5_9_mins',\n",
    " 'high_school_including_ged',\n",
    " 'percent_income_spent_on_rent',\n",
    " 'commuters_by_carpool',\n",
    " 'occupation_production_transportation_material',\n",
    " 'income_10000_14999',\n",
    " 'million_dollar_housing_units',\n",
    " 'dwellings_2_units',\n",
    " 'hispanic_male_45_54',\n",
    " 'bachelors_degree_2',\n",
    " 'hispanic_pop',\n",
    " 'male_5_to_9',\n",
    " 'owner_occupied_housing_units_lower_value_quartile',\n",
    " 'employed_other_services_not_public_admin',\n",
    " 'male_85_and_over',\n",
    " 'unemployed_pop',\n",
    " 'male_45_64_grade_9_12',\n",
    " 'do_date',\n",
    " 'commute_30_34_mins',\n",
    " 'rent_40_to_50_percent',\n",
    " 'hispanic_male_55_64',\n",
    " 'income_75000_99999',\n",
    " 'owner_occupied_housing_units_median_value',\n",
    " 'different_house_year_ago_same_city',\n",
    " 'income_150000_199999',\n",
    " 'employed_finance_insurance_real_estate',\n",
    " 'amerindian_including_hispanic',\n",
    " 'income_200000_or_more',\n",
    " 'rent_30_to_35_percent',\n",
    " 'dwellings_1_units_attached',\n",
    " 'commute_60_89_mins',\n",
    " 'children',\n",
    " 'income_15000_19999',\n",
    " 'female_under_5',\n",
    " 'male_45_64_bachelors_degree',\n",
    " 'dwellings_50_or_more_units',\n",
    " 'white_pop',\n",
    " 'two_parents_not_in_labor_force_families_with_young_children',\n",
    " 'female_10_to_14',\n",
    " 'occupation_services',\n",
    " 'gini_index',\n",
    " 'less_one_year_college',\n",
    " 'commute_25_29_mins',\n",
    " 'renter_occupied_housing_units_paying_cash_median_gross_rent',\n",
    " 'commuters_by_bus',\n",
    " 'male_under_5',\n",
    " 'rent_35_to_40_percent',\n",
    " 'median_age',\n",
    " 'occupation_natural_resources_construction_maintenance',\n",
    " 'no_car',\n",
    " 'male_45_64_less_than_9_grade',\n",
    " 'male_10_to_14',\n",
    " 'male_67_to_69',\n",
    " 'geo_id',\n",
    " 'worked_at_home',\n",
    " 'children_in_single_female_hh',\n",
    " 'female_75_to_79',\n",
    " 'male_45_64_high_school',\n",
    " 'households_public_asst_or_food_stamps',\n",
    " 'less_than_high_school_graduate',\n",
    " 'median_rent',\n",
    " 'two_parent_families_with_young_children',\n",
    " 'employed_construction',\n",
    " 'father_one_parent_families_with_young_children',\n",
    " 'not_us_citizen_pop',\n",
    " 'commute_45_59_mins',\n",
    " 'no_cars',\n",
    " 'amerindian_pop',\n",
    " 'masters_degree',\n",
    " 'rent_under_10_percent',\n",
    " 'in_grades_5_to_8',\n",
    " 'income_20000_24999',\n",
    " 'commute_60_more_mins',\n",
    " #'management_business_sci_arts_employed',\n",
    " 'commute_less_10_mins',\n",
    " 'income_100000_124999',\n",
    " 'nonfamily_households',\n",
    " 'male_65_to_66',\n",
    " 'housing_built_2005_or_later',\n",
    " 'graduate_professional_degree',\n",
    " 'income_per_capita',\n",
    " 'two_parents_father_in_labor_force_families_with_young_children']\n",
    "X=acs_features[features].astype(float)"
   ]
  },
  {
   "cell_type": "code",
   "execution_count": 208,
   "metadata": {},
   "outputs": [
    {
     "name": "stdout",
     "output_type": "stream",
     "text": [
      "10.0\n"
     ]
    },
    {
     "name": "stderr",
     "output_type": "stream",
     "text": [
      "/Users/chitrasharathchandra/opt/anaconda3/lib/python3.8/site-packages/sklearn/linear_model/_coordinate_descent.py:529: ConvergenceWarning: Objective did not converge. You might want to increase the number of iterations. Duality gap: 2769882.8511624825, tolerance: 181.58406836601307\n",
      "  model = cd_fast.enet_coordinate_descent(\n",
      "/Users/chitrasharathchandra/opt/anaconda3/lib/python3.8/site-packages/sklearn/linear_model/_coordinate_descent.py:529: ConvergenceWarning: Objective did not converge. You might want to increase the number of iterations. Duality gap: 2942320.452661757, tolerance: 184.85309390522877\n",
      "  model = cd_fast.enet_coordinate_descent(\n",
      "/Users/chitrasharathchandra/opt/anaconda3/lib/python3.8/site-packages/sklearn/linear_model/_coordinate_descent.py:529: ConvergenceWarning: Objective did not converge. You might want to increase the number of iterations. Duality gap: 2333697.8627396794, tolerance: 189.89185978758172\n",
      "  model = cd_fast.enet_coordinate_descent(\n"
     ]
    },
    {
     "name": "stdout",
     "output_type": "stream",
     "text": [
      "12.105263157894736\n"
     ]
    },
    {
     "name": "stderr",
     "output_type": "stream",
     "text": [
      "/Users/chitrasharathchandra/opt/anaconda3/lib/python3.8/site-packages/sklearn/linear_model/_coordinate_descent.py:529: ConvergenceWarning: Objective did not converge. You might want to increase the number of iterations. Duality gap: 2793149.43272897, tolerance: 181.58406836601307\n",
      "  model = cd_fast.enet_coordinate_descent(\n",
      "/Users/chitrasharathchandra/opt/anaconda3/lib/python3.8/site-packages/sklearn/linear_model/_coordinate_descent.py:529: ConvergenceWarning: Objective did not converge. You might want to increase the number of iterations. Duality gap: 3013535.9108095802, tolerance: 184.85309390522877\n",
      "  model = cd_fast.enet_coordinate_descent(\n",
      "/Users/chitrasharathchandra/opt/anaconda3/lib/python3.8/site-packages/sklearn/linear_model/_coordinate_descent.py:529: ConvergenceWarning: Objective did not converge. You might want to increase the number of iterations. Duality gap: 2361727.411153806, tolerance: 189.89185978758172\n",
      "  model = cd_fast.enet_coordinate_descent(\n"
     ]
    },
    {
     "name": "stdout",
     "output_type": "stream",
     "text": [
      "14.210526315789473\n"
     ]
    },
    {
     "name": "stderr",
     "output_type": "stream",
     "text": [
      "/Users/chitrasharathchandra/opt/anaconda3/lib/python3.8/site-packages/sklearn/linear_model/_coordinate_descent.py:529: ConvergenceWarning: Objective did not converge. You might want to increase the number of iterations. Duality gap: 2855940.271619156, tolerance: 181.58406836601307\n",
      "  model = cd_fast.enet_coordinate_descent(\n",
      "/Users/chitrasharathchandra/opt/anaconda3/lib/python3.8/site-packages/sklearn/linear_model/_coordinate_descent.py:529: ConvergenceWarning: Objective did not converge. You might want to increase the number of iterations. Duality gap: 3080175.9322840064, tolerance: 184.85309390522877\n",
      "  model = cd_fast.enet_coordinate_descent(\n",
      "/Users/chitrasharathchandra/opt/anaconda3/lib/python3.8/site-packages/sklearn/linear_model/_coordinate_descent.py:529: ConvergenceWarning: Objective did not converge. You might want to increase the number of iterations. Duality gap: 2408924.526258442, tolerance: 189.89185978758172\n",
      "  model = cd_fast.enet_coordinate_descent(\n"
     ]
    },
    {
     "name": "stdout",
     "output_type": "stream",
     "text": [
      "16.315789473684212\n"
     ]
    },
    {
     "name": "stderr",
     "output_type": "stream",
     "text": [
      "/Users/chitrasharathchandra/opt/anaconda3/lib/python3.8/site-packages/sklearn/linear_model/_coordinate_descent.py:529: ConvergenceWarning: Objective did not converge. You might want to increase the number of iterations. Duality gap: 2948316.781972931, tolerance: 181.58406836601307\n",
      "  model = cd_fast.enet_coordinate_descent(\n",
      "/Users/chitrasharathchandra/opt/anaconda3/lib/python3.8/site-packages/sklearn/linear_model/_coordinate_descent.py:529: ConvergenceWarning: Objective did not converge. You might want to increase the number of iterations. Duality gap: 3139757.771451923, tolerance: 184.85309390522877\n",
      "  model = cd_fast.enet_coordinate_descent(\n",
      "/Users/chitrasharathchandra/opt/anaconda3/lib/python3.8/site-packages/sklearn/linear_model/_coordinate_descent.py:529: ConvergenceWarning: Objective did not converge. You might want to increase the number of iterations. Duality gap: 2461910.6189526566, tolerance: 189.89185978758172\n",
      "  model = cd_fast.enet_coordinate_descent(\n"
     ]
    },
    {
     "name": "stdout",
     "output_type": "stream",
     "text": [
      "18.421052631578945\n"
     ]
    },
    {
     "name": "stderr",
     "output_type": "stream",
     "text": [
      "/Users/chitrasharathchandra/opt/anaconda3/lib/python3.8/site-packages/sklearn/linear_model/_coordinate_descent.py:529: ConvergenceWarning: Objective did not converge. You might want to increase the number of iterations. Duality gap: 2998942.7678357936, tolerance: 181.58406836601307\n",
      "  model = cd_fast.enet_coordinate_descent(\n",
      "/Users/chitrasharathchandra/opt/anaconda3/lib/python3.8/site-packages/sklearn/linear_model/_coordinate_descent.py:529: ConvergenceWarning: Objective did not converge. You might want to increase the number of iterations. Duality gap: 3192226.6955818557, tolerance: 184.85309390522877\n",
      "  model = cd_fast.enet_coordinate_descent(\n",
      "/Users/chitrasharathchandra/opt/anaconda3/lib/python3.8/site-packages/sklearn/linear_model/_coordinate_descent.py:529: ConvergenceWarning: Objective did not converge. You might want to increase the number of iterations. Duality gap: 2490737.6036789604, tolerance: 189.89185978758172\n",
      "  model = cd_fast.enet_coordinate_descent(\n"
     ]
    },
    {
     "name": "stdout",
     "output_type": "stream",
     "text": [
      "20.526315789473685\n"
     ]
    },
    {
     "name": "stderr",
     "output_type": "stream",
     "text": [
      "/Users/chitrasharathchandra/opt/anaconda3/lib/python3.8/site-packages/sklearn/linear_model/_coordinate_descent.py:529: ConvergenceWarning: Objective did not converge. You might want to increase the number of iterations. Duality gap: 3041302.741631741, tolerance: 181.58406836601307\n",
      "  model = cd_fast.enet_coordinate_descent(\n",
      "/Users/chitrasharathchandra/opt/anaconda3/lib/python3.8/site-packages/sklearn/linear_model/_coordinate_descent.py:529: ConvergenceWarning: Objective did not converge. You might want to increase the number of iterations. Duality gap: 3237879.8326239134, tolerance: 184.85309390522877\n",
      "  model = cd_fast.enet_coordinate_descent(\n",
      "/Users/chitrasharathchandra/opt/anaconda3/lib/python3.8/site-packages/sklearn/linear_model/_coordinate_descent.py:529: ConvergenceWarning: Objective did not converge. You might want to increase the number of iterations. Duality gap: 2513076.6690527075, tolerance: 189.89185978758172\n",
      "  model = cd_fast.enet_coordinate_descent(\n"
     ]
    },
    {
     "name": "stdout",
     "output_type": "stream",
     "text": [
      "22.63157894736842\n"
     ]
    },
    {
     "name": "stderr",
     "output_type": "stream",
     "text": [
      "/Users/chitrasharathchandra/opt/anaconda3/lib/python3.8/site-packages/sklearn/linear_model/_coordinate_descent.py:529: ConvergenceWarning: Objective did not converge. You might want to increase the number of iterations. Duality gap: 3068217.575806652, tolerance: 181.58406836601307\n",
      "  model = cd_fast.enet_coordinate_descent(\n",
      "/Users/chitrasharathchandra/opt/anaconda3/lib/python3.8/site-packages/sklearn/linear_model/_coordinate_descent.py:529: ConvergenceWarning: Objective did not converge. You might want to increase the number of iterations. Duality gap: 3259747.5240560793, tolerance: 184.85309390522877\n",
      "  model = cd_fast.enet_coordinate_descent(\n",
      "/Users/chitrasharathchandra/opt/anaconda3/lib/python3.8/site-packages/sklearn/linear_model/_coordinate_descent.py:529: ConvergenceWarning: Objective did not converge. You might want to increase the number of iterations. Duality gap: 2550820.730411809, tolerance: 189.89185978758172\n",
      "  model = cd_fast.enet_coordinate_descent(\n"
     ]
    },
    {
     "name": "stdout",
     "output_type": "stream",
     "text": [
      "24.736842105263158\n"
     ]
    },
    {
     "name": "stderr",
     "output_type": "stream",
     "text": [
      "/Users/chitrasharathchandra/opt/anaconda3/lib/python3.8/site-packages/sklearn/linear_model/_coordinate_descent.py:529: ConvergenceWarning: Objective did not converge. You might want to increase the number of iterations. Duality gap: 3096356.2484632675, tolerance: 181.58406836601307\n",
      "  model = cd_fast.enet_coordinate_descent(\n",
      "/Users/chitrasharathchandra/opt/anaconda3/lib/python3.8/site-packages/sklearn/linear_model/_coordinate_descent.py:529: ConvergenceWarning: Objective did not converge. You might want to increase the number of iterations. Duality gap: 3270147.4644321026, tolerance: 184.85309390522877\n",
      "  model = cd_fast.enet_coordinate_descent(\n",
      "/Users/chitrasharathchandra/opt/anaconda3/lib/python3.8/site-packages/sklearn/linear_model/_coordinate_descent.py:529: ConvergenceWarning: Objective did not converge. You might want to increase the number of iterations. Duality gap: 2586368.836292164, tolerance: 189.89185978758172\n",
      "  model = cd_fast.enet_coordinate_descent(\n"
     ]
    },
    {
     "name": "stdout",
     "output_type": "stream",
     "text": [
      "26.842105263157894\n"
     ]
    },
    {
     "name": "stderr",
     "output_type": "stream",
     "text": [
      "/Users/chitrasharathchandra/opt/anaconda3/lib/python3.8/site-packages/sklearn/linear_model/_coordinate_descent.py:529: ConvergenceWarning: Objective did not converge. You might want to increase the number of iterations. Duality gap: 3077811.679031516, tolerance: 181.58406836601307\n",
      "  model = cd_fast.enet_coordinate_descent(\n",
      "/Users/chitrasharathchandra/opt/anaconda3/lib/python3.8/site-packages/sklearn/linear_model/_coordinate_descent.py:529: ConvergenceWarning: Objective did not converge. You might want to increase the number of iterations. Duality gap: 3316207.0563097727, tolerance: 184.85309390522877\n",
      "  model = cd_fast.enet_coordinate_descent(\n",
      "/Users/chitrasharathchandra/opt/anaconda3/lib/python3.8/site-packages/sklearn/linear_model/_coordinate_descent.py:529: ConvergenceWarning: Objective did not converge. You might want to increase the number of iterations. Duality gap: 2605065.781783243, tolerance: 189.89185978758172\n",
      "  model = cd_fast.enet_coordinate_descent(\n"
     ]
    },
    {
     "name": "stdout",
     "output_type": "stream",
     "text": [
      "28.94736842105263\n"
     ]
    },
    {
     "name": "stderr",
     "output_type": "stream",
     "text": [
      "/Users/chitrasharathchandra/opt/anaconda3/lib/python3.8/site-packages/sklearn/linear_model/_coordinate_descent.py:529: ConvergenceWarning: Objective did not converge. You might want to increase the number of iterations. Duality gap: 3116439.875425167, tolerance: 181.58406836601307\n",
      "  model = cd_fast.enet_coordinate_descent(\n",
      "/Users/chitrasharathchandra/opt/anaconda3/lib/python3.8/site-packages/sklearn/linear_model/_coordinate_descent.py:529: ConvergenceWarning: Objective did not converge. You might want to increase the number of iterations. Duality gap: 3351686.7199636684, tolerance: 184.85309390522877\n",
      "  model = cd_fast.enet_coordinate_descent(\n",
      "/Users/chitrasharathchandra/opt/anaconda3/lib/python3.8/site-packages/sklearn/linear_model/_coordinate_descent.py:529: ConvergenceWarning: Objective did not converge. You might want to increase the number of iterations. Duality gap: 2632049.146989811, tolerance: 189.89185978758172\n",
      "  model = cd_fast.enet_coordinate_descent(\n"
     ]
    },
    {
     "name": "stdout",
     "output_type": "stream",
     "text": [
      "31.052631578947366\n"
     ]
    },
    {
     "name": "stderr",
     "output_type": "stream",
     "text": [
      "/Users/chitrasharathchandra/opt/anaconda3/lib/python3.8/site-packages/sklearn/linear_model/_coordinate_descent.py:529: ConvergenceWarning: Objective did not converge. You might want to increase the number of iterations. Duality gap: 3143150.800754683, tolerance: 181.58406836601307\n",
      "  model = cd_fast.enet_coordinate_descent(\n",
      "/Users/chitrasharathchandra/opt/anaconda3/lib/python3.8/site-packages/sklearn/linear_model/_coordinate_descent.py:529: ConvergenceWarning: Objective did not converge. You might want to increase the number of iterations. Duality gap: 3412292.4961119182, tolerance: 184.85309390522877\n",
      "  model = cd_fast.enet_coordinate_descent(\n",
      "/Users/chitrasharathchandra/opt/anaconda3/lib/python3.8/site-packages/sklearn/linear_model/_coordinate_descent.py:529: ConvergenceWarning: Objective did not converge. You might want to increase the number of iterations. Duality gap: 2645287.9227235937, tolerance: 189.89185978758172\n",
      "  model = cd_fast.enet_coordinate_descent(\n"
     ]
    },
    {
     "name": "stdout",
     "output_type": "stream",
     "text": [
      "33.1578947368421\n"
     ]
    },
    {
     "name": "stderr",
     "output_type": "stream",
     "text": [
      "/Users/chitrasharathchandra/opt/anaconda3/lib/python3.8/site-packages/sklearn/linear_model/_coordinate_descent.py:529: ConvergenceWarning: Objective did not converge. You might want to increase the number of iterations. Duality gap: 3191213.8179779532, tolerance: 181.58406836601307\n",
      "  model = cd_fast.enet_coordinate_descent(\n",
      "/Users/chitrasharathchandra/opt/anaconda3/lib/python3.8/site-packages/sklearn/linear_model/_coordinate_descent.py:529: ConvergenceWarning: Objective did not converge. You might want to increase the number of iterations. Duality gap: 3468383.062494501, tolerance: 184.85309390522877\n",
      "  model = cd_fast.enet_coordinate_descent(\n",
      "/Users/chitrasharathchandra/opt/anaconda3/lib/python3.8/site-packages/sklearn/linear_model/_coordinate_descent.py:529: ConvergenceWarning: Objective did not converge. You might want to increase the number of iterations. Duality gap: 2658714.929591733, tolerance: 189.89185978758172\n",
      "  model = cd_fast.enet_coordinate_descent(\n"
     ]
    },
    {
     "name": "stdout",
     "output_type": "stream",
     "text": [
      "35.26315789473684\n"
     ]
    },
    {
     "name": "stderr",
     "output_type": "stream",
     "text": [
      "/Users/chitrasharathchandra/opt/anaconda3/lib/python3.8/site-packages/sklearn/linear_model/_coordinate_descent.py:529: ConvergenceWarning: Objective did not converge. You might want to increase the number of iterations. Duality gap: 3219537.8475849438, tolerance: 181.58406836601307\n",
      "  model = cd_fast.enet_coordinate_descent(\n",
      "/Users/chitrasharathchandra/opt/anaconda3/lib/python3.8/site-packages/sklearn/linear_model/_coordinate_descent.py:529: ConvergenceWarning: Objective did not converge. You might want to increase the number of iterations. Duality gap: 3510248.3959965953, tolerance: 184.85309390522877\n",
      "  model = cd_fast.enet_coordinate_descent(\n",
      "/Users/chitrasharathchandra/opt/anaconda3/lib/python3.8/site-packages/sklearn/linear_model/_coordinate_descent.py:529: ConvergenceWarning: Objective did not converge. You might want to increase the number of iterations. Duality gap: 2642069.277290844, tolerance: 189.89185978758172\n",
      "  model = cd_fast.enet_coordinate_descent(\n"
     ]
    },
    {
     "name": "stdout",
     "output_type": "stream",
     "text": [
      "37.368421052631575\n"
     ]
    },
    {
     "name": "stderr",
     "output_type": "stream",
     "text": [
      "/Users/chitrasharathchandra/opt/anaconda3/lib/python3.8/site-packages/sklearn/linear_model/_coordinate_descent.py:529: ConvergenceWarning: Objective did not converge. You might want to increase the number of iterations. Duality gap: 3263646.670906178, tolerance: 181.58406836601307\n",
      "  model = cd_fast.enet_coordinate_descent(\n",
      "/Users/chitrasharathchandra/opt/anaconda3/lib/python3.8/site-packages/sklearn/linear_model/_coordinate_descent.py:529: ConvergenceWarning: Objective did not converge. You might want to increase the number of iterations. Duality gap: 3533266.801586698, tolerance: 184.85309390522877\n",
      "  model = cd_fast.enet_coordinate_descent(\n",
      "/Users/chitrasharathchandra/opt/anaconda3/lib/python3.8/site-packages/sklearn/linear_model/_coordinate_descent.py:529: ConvergenceWarning: Objective did not converge. You might want to increase the number of iterations. Duality gap: 2668412.4633093444, tolerance: 189.89185978758172\n",
      "  model = cd_fast.enet_coordinate_descent(\n"
     ]
    },
    {
     "name": "stdout",
     "output_type": "stream",
     "text": [
      "39.473684210526315\n"
     ]
    },
    {
     "name": "stderr",
     "output_type": "stream",
     "text": [
      "/Users/chitrasharathchandra/opt/anaconda3/lib/python3.8/site-packages/sklearn/linear_model/_coordinate_descent.py:529: ConvergenceWarning: Objective did not converge. You might want to increase the number of iterations. Duality gap: 3290197.9338406427, tolerance: 181.58406836601307\n",
      "  model = cd_fast.enet_coordinate_descent(\n",
      "/Users/chitrasharathchandra/opt/anaconda3/lib/python3.8/site-packages/sklearn/linear_model/_coordinate_descent.py:529: ConvergenceWarning: Objective did not converge. You might want to increase the number of iterations. Duality gap: 3545599.0379400766, tolerance: 184.85309390522877\n",
      "  model = cd_fast.enet_coordinate_descent(\n",
      "/Users/chitrasharathchandra/opt/anaconda3/lib/python3.8/site-packages/sklearn/linear_model/_coordinate_descent.py:529: ConvergenceWarning: Objective did not converge. You might want to increase the number of iterations. Duality gap: 2694752.8606569725, tolerance: 189.89185978758172\n",
      "  model = cd_fast.enet_coordinate_descent(\n"
     ]
    },
    {
     "name": "stdout",
     "output_type": "stream",
     "text": [
      "41.578947368421055\n"
     ]
    },
    {
     "name": "stderr",
     "output_type": "stream",
     "text": [
      "/Users/chitrasharathchandra/opt/anaconda3/lib/python3.8/site-packages/sklearn/linear_model/_coordinate_descent.py:529: ConvergenceWarning: Objective did not converge. You might want to increase the number of iterations. Duality gap: 3325189.7062741946, tolerance: 181.58406836601307\n",
      "  model = cd_fast.enet_coordinate_descent(\n",
      "/Users/chitrasharathchandra/opt/anaconda3/lib/python3.8/site-packages/sklearn/linear_model/_coordinate_descent.py:529: ConvergenceWarning: Objective did not converge. You might want to increase the number of iterations. Duality gap: 3551274.7990871714, tolerance: 184.85309390522877\n",
      "  model = cd_fast.enet_coordinate_descent(\n",
      "/Users/chitrasharathchandra/opt/anaconda3/lib/python3.8/site-packages/sklearn/linear_model/_coordinate_descent.py:529: ConvergenceWarning: Objective did not converge. You might want to increase the number of iterations. Duality gap: 2725688.697697389, tolerance: 189.89185978758172\n",
      "  model = cd_fast.enet_coordinate_descent(\n"
     ]
    },
    {
     "name": "stdout",
     "output_type": "stream",
     "text": [
      "43.68421052631579\n"
     ]
    },
    {
     "name": "stderr",
     "output_type": "stream",
     "text": [
      "/Users/chitrasharathchandra/opt/anaconda3/lib/python3.8/site-packages/sklearn/linear_model/_coordinate_descent.py:529: ConvergenceWarning: Objective did not converge. You might want to increase the number of iterations. Duality gap: 3347912.2523112334, tolerance: 181.58406836601307\n",
      "  model = cd_fast.enet_coordinate_descent(\n",
      "/Users/chitrasharathchandra/opt/anaconda3/lib/python3.8/site-packages/sklearn/linear_model/_coordinate_descent.py:529: ConvergenceWarning: Objective did not converge. You might want to increase the number of iterations. Duality gap: 3559916.244734162, tolerance: 184.85309390522877\n",
      "  model = cd_fast.enet_coordinate_descent(\n",
      "/Users/chitrasharathchandra/opt/anaconda3/lib/python3.8/site-packages/sklearn/linear_model/_coordinate_descent.py:529: ConvergenceWarning: Objective did not converge. You might want to increase the number of iterations. Duality gap: 2735089.3177744416, tolerance: 189.89185978758172\n",
      "  model = cd_fast.enet_coordinate_descent(\n"
     ]
    },
    {
     "name": "stdout",
     "output_type": "stream",
     "text": [
      "45.78947368421053\n"
     ]
    },
    {
     "name": "stderr",
     "output_type": "stream",
     "text": [
      "/Users/chitrasharathchandra/opt/anaconda3/lib/python3.8/site-packages/sklearn/linear_model/_coordinate_descent.py:529: ConvergenceWarning: Objective did not converge. You might want to increase the number of iterations. Duality gap: 3337692.5623253547, tolerance: 181.58406836601307\n",
      "  model = cd_fast.enet_coordinate_descent(\n",
      "/Users/chitrasharathchandra/opt/anaconda3/lib/python3.8/site-packages/sklearn/linear_model/_coordinate_descent.py:529: ConvergenceWarning: Objective did not converge. You might want to increase the number of iterations. Duality gap: 3598313.2579232818, tolerance: 184.85309390522877\n",
      "  model = cd_fast.enet_coordinate_descent(\n",
      "/Users/chitrasharathchandra/opt/anaconda3/lib/python3.8/site-packages/sklearn/linear_model/_coordinate_descent.py:529: ConvergenceWarning: Objective did not converge. You might want to increase the number of iterations. Duality gap: 2746783.783757044, tolerance: 189.89185978758172\n",
      "  model = cd_fast.enet_coordinate_descent(\n"
     ]
    },
    {
     "name": "stdout",
     "output_type": "stream",
     "text": [
      "47.89473684210526\n"
     ]
    },
    {
     "name": "stderr",
     "output_type": "stream",
     "text": [
      "/Users/chitrasharathchandra/opt/anaconda3/lib/python3.8/site-packages/sklearn/linear_model/_coordinate_descent.py:529: ConvergenceWarning: Objective did not converge. You might want to increase the number of iterations. Duality gap: 3307320.439898937, tolerance: 181.58406836601307\n",
      "  model = cd_fast.enet_coordinate_descent(\n",
      "/Users/chitrasharathchandra/opt/anaconda3/lib/python3.8/site-packages/sklearn/linear_model/_coordinate_descent.py:529: ConvergenceWarning: Objective did not converge. You might want to increase the number of iterations. Duality gap: 3627767.6244703876, tolerance: 184.85309390522877\n",
      "  model = cd_fast.enet_coordinate_descent(\n",
      "/Users/chitrasharathchandra/opt/anaconda3/lib/python3.8/site-packages/sklearn/linear_model/_coordinate_descent.py:529: ConvergenceWarning: Objective did not converge. You might want to increase the number of iterations. Duality gap: 2752502.692422862, tolerance: 189.89185978758172\n",
      "  model = cd_fast.enet_coordinate_descent(\n"
     ]
    },
    {
     "name": "stdout",
     "output_type": "stream",
     "text": [
      "50.0\n"
     ]
    },
    {
     "name": "stderr",
     "output_type": "stream",
     "text": [
      "/Users/chitrasharathchandra/opt/anaconda3/lib/python3.8/site-packages/sklearn/linear_model/_coordinate_descent.py:529: ConvergenceWarning: Objective did not converge. You might want to increase the number of iterations. Duality gap: 3275904.122086937, tolerance: 181.58406836601307\n",
      "  model = cd_fast.enet_coordinate_descent(\n",
      "/Users/chitrasharathchandra/opt/anaconda3/lib/python3.8/site-packages/sklearn/linear_model/_coordinate_descent.py:529: ConvergenceWarning: Objective did not converge. You might want to increase the number of iterations. Duality gap: 3588299.012533161, tolerance: 184.85309390522877\n",
      "  model = cd_fast.enet_coordinate_descent(\n",
      "/Users/chitrasharathchandra/opt/anaconda3/lib/python3.8/site-packages/sklearn/linear_model/_coordinate_descent.py:529: ConvergenceWarning: Objective did not converge. You might want to increase the number of iterations. Duality gap: 2732293.0147780534, tolerance: 189.89185978758172\n",
      "  model = cd_fast.enet_coordinate_descent(\n"
     ]
    }
   ],
   "source": [
    "XTrain, XTest, ytrain, ytest = train_test_split(X, y)\n",
    "alpha_list = np.linspace(10, 50, 20)\n",
    "results = []\n",
    "\n",
    "for alpha in alpha_list:\n",
    "    print(alpha)\n",
    "    lasso = Lasso(fit_intercept=True, alpha=alpha, max_iter=30000, tol=0.00001)\n",
    "    score = cross_val_score(lasso, XTrain, ytrain, cv=3).mean()\n",
    "    results.append({'alpha':alpha, 'model': lasso, 'score': score})\n",
    "    \n",
    "resultsDF = pd.DataFrame(results)\n"
   ]
  },
  {
   "cell_type": "code",
   "execution_count": 209,
   "metadata": {},
   "outputs": [
    {
     "data": {
      "text/plain": [
       "<AxesSubplot:xlabel='alpha', ylabel='score'>"
      ]
     },
     "execution_count": 209,
     "metadata": {},
     "output_type": "execute_result"
    },
    {
     "data": {
      "image/png": "[encoded data removed]",
      "text/plain": [
       "<Figure size 432x288 with 1 Axes>"
      ]
     },
     "metadata": {
      "needs_background": "light"
     },
     "output_type": "display_data"
    }
   ],
   "source": [
    "resultsDF = resultsDF.iloc[0:500,]\n",
    "sns.lineplot(data=resultsDF, x=\"alpha\", y=\"score\")"
   ]
  },
  {
   "cell_type": "code",
   "execution_count": 210,
   "metadata": {},
   "outputs": [
    {
     "data": {
      "text/plain": [
       "Lasso(alpha=41.578947368421055, max_iter=30000, tol=1e-05)"
      ]
     },
     "execution_count": 210,
     "metadata": {},
     "output_type": "execute_result"
    }
   ],
   "source": [
    "optimal_model = resultsDF['model'][resultsDF['score'] == resultsDF['score'].max()].values[0]\n",
    "optimal_model"
   ]
  },
  {
   "cell_type": "code",
   "execution_count": 211,
   "metadata": {},
   "outputs": [
    {
     "name": "stderr",
     "output_type": "stream",
     "text": [
      "/Users/chitrasharathchandra/opt/anaconda3/lib/python3.8/site-packages/sklearn/linear_model/_coordinate_descent.py:529: ConvergenceWarning: Objective did not converge. You might want to increase the number of iterations. Duality gap: 4975291.815476217, tolerance: 278.22787960784314\n",
      "  model = cd_fast.enet_coordinate_descent(\n"
     ]
    },
    {
     "data": {
      "text/plain": [
       "Lasso(alpha=41.578947368421055, max_iter=30000, tol=1e-05)"
      ]
     },
     "execution_count": 211,
     "metadata": {},
     "output_type": "execute_result"
    }
   ],
   "source": [
    "optimal_model.fit(XTrain, ytrain)"
   ]
  },
  {
   "cell_type": "code",
   "execution_count": 212,
   "metadata": {},
   "outputs": [
    {
     "data": {
      "text/plain": [
       "0.692069486853456"
      ]
     },
     "execution_count": 212,
     "metadata": {},
     "output_type": "execute_result"
    }
   ],
   "source": [
    "optimal_model.score(XTrain, ytrain)"
   ]
  },
  {
   "cell_type": "code",
   "execution_count": 213,
   "metadata": {},
   "outputs": [
    {
     "data": {
      "text/plain": [
       "0.6554571807560101"
      ]
     },
     "execution_count": 213,
     "metadata": {},
     "output_type": "execute_result"
    }
   ],
   "source": [
    "optimal_model.score(XTest, ytest)"
   ]
  },
  {
   "cell_type": "code",
   "execution_count": 223,
   "metadata": {},
   "outputs": [
    {
     "data": {
      "text/plain": [
       "Index(['rent_35_to_40_percent', 'dwellings_2_units',\n",
       "       'two_parents_not_in_labor_force_families_with_young_children',\n",
       "       'income_30000_34999', 'income_200000_or_more', 'male_65_to_66',\n",
       "       'male_45_64_graduate_degree', 'amerindian_pop', 'male_85_and_over',\n",
       "       'amerindian_including_hispanic', 'male_under_5', 'male_15_to_17',\n",
       "       'rent_30_to_35_percent', 'million_dollar_housing_units', 'male_5_to_9',\n",
       "       'hispanic_male_45_54',\n",
       "       'two_parents_in_labor_force_families_with_young_children',\n",
       "       'in_grades_1_to_4', 'commute_25_29_mins', 'employed_wholesale_trade',\n",
       "       'income_100000_124999', 'no_cars', 'commute_60_more_mins',\n",
       "       'hispanic_male_55_64', 'male_45_64_bachelors_degree',\n",
       "       'income_75000_99999', 'dwellings_50_or_more_units',\n",
       "       'commute_45_59_mins', 'rent_40_to_50_percent', 'rent_10_to_15_percent',\n",
       "       'two_parents_father_in_labor_force_families_with_young_children',\n",
       "       'female_under_5', 'income_150000_199999',\n",
       "       'father_one_parent_families_with_young_children',\n",
       "       'less_than_high_school_graduate', 'commute_90_more_mins',\n",
       "       'mobile_homes', 'no_car', 'commuters_by_bus',\n",
       "       'high_school_including_ged', 'income_125000_149999',\n",
       "       'nonfamily_households', 'families_with_young_children',\n",
       "       'children_in_single_female_hh', 'worked_at_home',\n",
       "       'male_45_64_less_than_9_grade',\n",
       "       'employed_other_services_not_public_admin', 'employed_information',\n",
       "       'vacant_housing_units_for_rent', 'dwellings_1_units_attached',\n",
       "       'income_20000_24999', 'female_15_to_17', 'income_25000_29999',\n",
       "       'commute_less_10_mins', 'not_us_citizen_pop', 'female_75_to_79',\n",
       "       'in_grades_5_to_8', 'rent_15_to_20_percent', 'commuters_by_carpool',\n",
       "       'households_public_asst_or_food_stamps',\n",
       "       'occupation_production_transportation_material',\n",
       "       'male_45_64_high_school', 'income_10000_14999', 'female_85_and_over',\n",
       "       'bachelors_degree', 'rent_under_10_percent', 'male_67_to_69',\n",
       "       'occupation_natural_resources_construction_maintenance',\n",
       "       'commute_5_9_mins', 'hispanic_pop',\n",
       "       'employed_finance_insurance_real_estate', 'female_10_to_14',\n",
       "       'high_school_diploma', 'unemployed_pop', 'bachelors_degree_2',\n",
       "       'income_per_capita', 'median_income', 'housing_built_2005_or_later',\n",
       "       'male_75_to_79', 'different_house_year_ago_same_city',\n",
       "       'less_one_year_college', 'poverty', 'bachelors_degree_or_higher_25_64',\n",
       "       'occupation_services', 'female_70_to_74', 'white_male_55_64',\n",
       "       'vacant_housing_units_for_sale', 'commute_30_34_mins', 'do_date',\n",
       "       'white_pop', 'children', 'in_grades_9_to_12',\n",
       "       'owner_occupied_housing_units_upper_value_quartile',\n",
       "       'owner_occupied_housing_units_median_value',\n",
       "       'owner_occupied_housing_units_lower_value_quartile'],\n",
       "      dtype='object')"
      ]
     },
     "execution_count": 223,
     "metadata": {},
     "output_type": "execute_result"
    }
   ],
   "source": [
    "lassoCoef = pd.Series(optimal_model.coef_, index=XTrain.columns)\n",
    "sortedCoefs = np.abs(lassoCoef).sort_values(ascending=False)\n",
    "features_to_keep_lasso=sortedCoefs[sortedCoefs!=0].index\n",
    "features_to_keep_lasso"
   ]
  },
  {
   "cell_type": "code",
   "execution_count": 224,
   "metadata": {},
   "outputs": [
    {
     "data": {
      "text/plain": [
       "95"
      ]
     },
     "execution_count": 224,
     "metadata": {},
     "output_type": "execute_result"
    }
   ],
   "source": [
    "len(features_to_keep_lasso)"
   ]
  },
  {
   "cell_type": "code",
   "execution_count": 216,
   "metadata": {},
   "outputs": [
    {
     "name": "stdout",
     "output_type": "stream",
     "text": [
      "Train Score: 0.6996\n",
      "Test Score:  0.6941\n",
      "0.005470318361916693\n"
     ]
    }
   ],
   "source": [
    "Xlasso=acs_features[features_to_keep_lasso]\n",
    "lm = LinearRegression()\n",
    "\n",
    "X1_train, X1_test, Y_train, Y_test = train_test_split(acs_features[features_to_keep_lasso].astype(float),y,test_size=0.2)\n",
    "lm.fit(X1_train, Y_train)\n",
    "\n",
    "print(\"Train Score: %.4f\" % lm.score(X1_train, Y_train))\n",
    "print(\"Test Score:  %.4f\" % lm.score(X1_test, Y_test))\n",
    "\n",
    "print(lm.score(X1_train, Y_train)- lm.score(X1_test, Y_test))"
   ]
  },
  {
   "cell_type": "code",
   "execution_count": 218,
   "metadata": {},
   "outputs": [
    {
     "data": {
      "text/plain": [
       "const                                                             2.110145e+08\n",
       "children                                                          2.796574e+04\n",
       "families_with_young_children                                      9.788189e+03\n",
       "bachelors_degree_2                                                9.712036e+03\n",
       "bachelors_degree                                                  9.059021e+03\n",
       "high_school_including_ged                                         7.068509e+03\n",
       "owner_occupied_housing_units_median_value                         4.560153e+03\n",
       "high_school_diploma                                               4.157767e+03\n",
       "bachelors_degree_or_higher_25_64                                  3.544250e+03\n",
       "income_per_capita                                                 3.088787e+03\n",
       "hispanic_pop                                                      2.539994e+03\n",
       "in_grades_1_to_4                                                  2.439647e+03\n",
       "owner_occupied_housing_units_upper_value_quartile                 2.244414e+03\n",
       "median_income                                                     2.028015e+03\n",
       "in_grades_9_to_12                                                 1.923560e+03\n",
       "less_than_high_school_graduate                                    1.804889e+03\n",
       "income_200000_or_more                                             1.780146e+03\n",
       "in_grades_5_to_8                                                  1.732908e+03\n",
       "amerindian_including_hispanic                                     1.666094e+03\n",
       "amerindian_pop                                                    1.578214e+03\n",
       "white_pop                                                         1.528046e+03\n",
       "owner_occupied_housing_units_lower_value_quartile                 1.479171e+03\n",
       "no_cars                                                           1.418400e+03\n",
       "male_under_5                                                      1.290060e+03\n",
       "not_us_citizen_pop                                                1.033025e+03\n",
       "commute_less_10_mins                                              9.967564e+02\n",
       "poverty                                                           9.580865e+02\n",
       "households_public_asst_or_food_stamps                             9.236794e+02\n",
       "female_under_5                                                    9.176290e+02\n",
       "male_15_to_17                                                     8.589183e+02\n",
       "occupation_services                                               7.634645e+02\n",
       "commute_5_9_mins                                                  7.372092e+02\n",
       "female_15_to_17                                                   7.037072e+02\n",
       "children_in_single_female_hh                                      7.027755e+02\n",
       "nonfamily_households                                              6.423564e+02\n",
       "male_45_64_graduate_degree                                        5.852091e+02\n",
       "no_car                                                            5.717463e+02\n",
       "commuters_by_carpool                                              5.470536e+02\n",
       "male_45_64_less_than_9_grade                                      5.080564e+02\n",
       "different_house_year_ago_same_city                                4.942654e+02\n",
       "female_10_to_14                                                   4.762110e+02\n",
       "mobile_homes                                                      4.480359e+02\n",
       "dwellings_2_units                                                 4.352721e+02\n",
       "male_5_to_9                                                       4.252024e+02\n",
       "occupation_natural_resources_construction_maintenance             3.959865e+02\n",
       "white_male_55_64                                                  3.820582e+02\n",
       "less_one_year_college                                             3.792856e+02\n",
       "hispanic_male_45_54                                               3.634602e+02\n",
       "dwellings_50_or_more_units                                        3.486045e+02\n",
       "income_75000_99999                                                3.424023e+02\n",
       "commuters_by_bus                                                  3.242057e+02\n",
       "two_parents_in_labor_force_families_with_young_children           3.191338e+02\n",
       "hispanic_male_55_64                                               3.093902e+02\n",
       "occupation_production_transportation_material                     3.088487e+02\n",
       "commute_25_29_mins                                                3.010079e+02\n",
       "two_parents_father_in_labor_force_families_with_young_children    2.783947e+02\n",
       "male_45_64_bachelors_degree                                       2.737629e+02\n",
       "unemployed_pop                                                    2.653447e+02\n",
       "income_25000_29999                                                2.439311e+02\n",
       "income_20000_24999                                                2.285692e+02\n",
       "female_85_and_over                                                2.236409e+02\n",
       "employed_finance_insurance_real_estate                            2.221233e+02\n",
       "commute_45_59_mins                                                2.180341e+02\n",
       "rent_40_to_50_percent                                             2.046512e+02\n",
       "dwellings_1_units_attached                                        2.042621e+02\n",
       "worked_at_home                                                    1.920074e+02\n",
       "income_10000_14999                                                1.883359e+02\n",
       "vacant_housing_units_for_rent                                     1.792591e+02\n",
       "income_150000_199999                                              1.737330e+02\n",
       "male_45_64_high_school                                            1.610874e+02\n",
       "commute_30_34_mins                                                1.598273e+02\n",
       "income_100000_124999                                              1.595570e+02\n",
       "male_85_and_over                                                  1.578456e+02\n",
       "do_date                                                           1.525323e+02\n",
       "million_dollar_housing_units                                      1.494604e+02\n",
       "income_125000_149999                                              1.428497e+02\n",
       "rent_10_to_15_percent                                             1.301848e+02\n",
       "rent_30_to_35_percent                                             1.211665e+02\n",
       "rent_35_to_40_percent                                             1.121243e+02\n",
       "commute_60_more_mins                                              1.030779e+02\n",
       "income_30000_34999                                                9.563311e+01\n",
       "male_67_to_69                                                     9.417025e+01\n",
       "father_one_parent_families_with_young_children                    9.134490e+01\n",
       "female_75_to_79                                                   8.888500e+01\n",
       "employed_other_services_not_public_admin                          8.587301e+01\n",
       "rent_15_to_20_percent                                             8.531895e+01\n",
       "female_70_to_74                                                   8.052032e+01\n",
       "vacant_housing_units_for_sale                                     7.896646e+01\n",
       "male_75_to_79                                                     7.387683e+01\n",
       "employed_wholesale_trade                                          7.247719e+01\n",
       "employed_information                                              6.770945e+01\n",
       "rent_under_10_percent                                             5.811902e+01\n",
       "commute_90_more_mins                                              5.346638e+01\n",
       "male_65_to_66                                                     5.010560e+01\n",
       "two_parents_not_in_labor_force_families_with_young_children       2.373050e+01\n",
       "housing_built_2005_or_later                                       1.721442e+01\n",
       "dtype: float64"
      ]
     },
     "execution_count": 218,
     "metadata": {},
     "output_type": "execute_result"
    }
   ],
   "source": [
    "import statsmodels.api as sm\n",
    "from statsmodels.stats.outliers_influence import variance_inflation_factor\n",
    "from statsmodels.tools.tools import add_constant\n",
    "\n",
    "Xlasso = add_constant(X1_train)\n",
    "pd.Series([variance_inflation_factor(Xlasso.values, i) \n",
    "               for i in range(Xlasso.shape[1])], \n",
    "              index=Xlasso.columns).sort_values(ascending=False)"
   ]
  },
  {
   "cell_type": "code",
   "execution_count": 125,
   "metadata": {},
   "outputs": [
    {
     "name": "stdout",
     "output_type": "stream",
     "text": [
      "10.0\n"
     ]
    },
    {
     "name": "stderr",
     "output_type": "stream",
     "text": [
      "/Users/chitrasharathchandra/opt/anaconda3/lib/python3.8/site-packages/sklearn/linear_model/_coordinate_descent.py:529: ConvergenceWarning: Objective did not converge. You might want to increase the number of iterations. Duality gap: 2209754.4784769714, tolerance: 174.51943111111115\n",
      "  model = cd_fast.enet_coordinate_descent(\n",
      "/Users/chitrasharathchandra/opt/anaconda3/lib/python3.8/site-packages/sklearn/linear_model/_coordinate_descent.py:529: ConvergenceWarning: Objective did not converge. You might want to increase the number of iterations. Duality gap: 2581148.706366412, tolerance: 174.8582832679739\n",
      "  model = cd_fast.enet_coordinate_descent(\n",
      "/Users/chitrasharathchandra/opt/anaconda3/lib/python3.8/site-packages/sklearn/linear_model/_coordinate_descent.py:529: ConvergenceWarning: Objective did not converge. You might want to increase the number of iterations. Duality gap: 2310020.766405875, tolerance: 179.0914811764706\n",
      "  model = cd_fast.enet_coordinate_descent(\n"
     ]
    },
    {
     "name": "stdout",
     "output_type": "stream",
     "text": [
      "12.105263157894736\n"
     ]
    },
    {
     "name": "stderr",
     "output_type": "stream",
     "text": [
      "/Users/chitrasharathchandra/opt/anaconda3/lib/python3.8/site-packages/sklearn/linear_model/_coordinate_descent.py:529: ConvergenceWarning: Objective did not converge. You might want to increase the number of iterations. Duality gap: 2368323.8590813596, tolerance: 174.51943111111115\n",
      "  model = cd_fast.enet_coordinate_descent(\n",
      "/Users/chitrasharathchandra/opt/anaconda3/lib/python3.8/site-packages/sklearn/linear_model/_coordinate_descent.py:529: ConvergenceWarning: Objective did not converge. You might want to increase the number of iterations. Duality gap: 2749257.45004862, tolerance: 174.8582832679739\n",
      "  model = cd_fast.enet_coordinate_descent(\n",
      "/Users/chitrasharathchandra/opt/anaconda3/lib/python3.8/site-packages/sklearn/linear_model/_coordinate_descent.py:529: ConvergenceWarning: Objective did not converge. You might want to increase the number of iterations. Duality gap: 2369959.1092884107, tolerance: 179.0914811764706\n",
      "  model = cd_fast.enet_coordinate_descent(\n"
     ]
    },
    {
     "name": "stdout",
     "output_type": "stream",
     "text": [
      "14.210526315789473\n"
     ]
    },
    {
     "name": "stderr",
     "output_type": "stream",
     "text": [
      "/Users/chitrasharathchandra/opt/anaconda3/lib/python3.8/site-packages/sklearn/linear_model/_coordinate_descent.py:529: ConvergenceWarning: Objective did not converge. You might want to increase the number of iterations. Duality gap: 2441038.38560399, tolerance: 174.51943111111115\n",
      "  model = cd_fast.enet_coordinate_descent(\n",
      "/Users/chitrasharathchandra/opt/anaconda3/lib/python3.8/site-packages/sklearn/linear_model/_coordinate_descent.py:529: ConvergenceWarning: Objective did not converge. You might want to increase the number of iterations. Duality gap: 2765291.6028521466, tolerance: 174.8582832679739\n",
      "  model = cd_fast.enet_coordinate_descent(\n",
      "/Users/chitrasharathchandra/opt/anaconda3/lib/python3.8/site-packages/sklearn/linear_model/_coordinate_descent.py:529: ConvergenceWarning: Objective did not converge. You might want to increase the number of iterations. Duality gap: 2417788.4265958886, tolerance: 179.0914811764706\n",
      "  model = cd_fast.enet_coordinate_descent(\n"
     ]
    },
    {
     "name": "stdout",
     "output_type": "stream",
     "text": [
      "16.315789473684212\n"
     ]
    },
    {
     "name": "stderr",
     "output_type": "stream",
     "text": [
      "/Users/chitrasharathchandra/opt/anaconda3/lib/python3.8/site-packages/sklearn/linear_model/_coordinate_descent.py:529: ConvergenceWarning: Objective did not converge. You might want to increase the number of iterations. Duality gap: 2482420.1091023865, tolerance: 174.51943111111115\n",
      "  model = cd_fast.enet_coordinate_descent(\n",
      "/Users/chitrasharathchandra/opt/anaconda3/lib/python3.8/site-packages/sklearn/linear_model/_coordinate_descent.py:529: ConvergenceWarning: Objective did not converge. You might want to increase the number of iterations. Duality gap: 2824768.7647742266, tolerance: 174.8582832679739\n",
      "  model = cd_fast.enet_coordinate_descent(\n",
      "/Users/chitrasharathchandra/opt/anaconda3/lib/python3.8/site-packages/sklearn/linear_model/_coordinate_descent.py:529: ConvergenceWarning: Objective did not converge. You might want to increase the number of iterations. Duality gap: 2477205.5152302394, tolerance: 179.0914811764706\n",
      "  model = cd_fast.enet_coordinate_descent(\n"
     ]
    },
    {
     "name": "stdout",
     "output_type": "stream",
     "text": [
      "18.421052631578945\n"
     ]
    },
    {
     "name": "stderr",
     "output_type": "stream",
     "text": [
      "/Users/chitrasharathchandra/opt/anaconda3/lib/python3.8/site-packages/sklearn/linear_model/_coordinate_descent.py:529: ConvergenceWarning: Objective did not converge. You might want to increase the number of iterations. Duality gap: 2391256.7341642035, tolerance: 174.51943111111115\n",
      "  model = cd_fast.enet_coordinate_descent(\n",
      "/Users/chitrasharathchandra/opt/anaconda3/lib/python3.8/site-packages/sklearn/linear_model/_coordinate_descent.py:529: ConvergenceWarning: Objective did not converge. You might want to increase the number of iterations. Duality gap: 2901766.847519011, tolerance: 174.8582832679739\n",
      "  model = cd_fast.enet_coordinate_descent(\n",
      "/Users/chitrasharathchandra/opt/anaconda3/lib/python3.8/site-packages/sklearn/linear_model/_coordinate_descent.py:529: ConvergenceWarning: Objective did not converge. You might want to increase the number of iterations. Duality gap: 2528005.415944054, tolerance: 179.0914811764706\n",
      "  model = cd_fast.enet_coordinate_descent(\n"
     ]
    },
    {
     "name": "stdout",
     "output_type": "stream",
     "text": [
      "20.526315789473685\n"
     ]
    },
    {
     "name": "stderr",
     "output_type": "stream",
     "text": [
      "/Users/chitrasharathchandra/opt/anaconda3/lib/python3.8/site-packages/sklearn/linear_model/_coordinate_descent.py:529: ConvergenceWarning: Objective did not converge. You might want to increase the number of iterations. Duality gap: 2444039.720056342, tolerance: 174.51943111111115\n",
      "  model = cd_fast.enet_coordinate_descent(\n",
      "/Users/chitrasharathchandra/opt/anaconda3/lib/python3.8/site-packages/sklearn/linear_model/_coordinate_descent.py:529: ConvergenceWarning: Objective did not converge. You might want to increase the number of iterations. Duality gap: 2958214.468063681, tolerance: 174.8582832679739\n",
      "  model = cd_fast.enet_coordinate_descent(\n",
      "/Users/chitrasharathchandra/opt/anaconda3/lib/python3.8/site-packages/sklearn/linear_model/_coordinate_descent.py:529: ConvergenceWarning: Objective did not converge. You might want to increase the number of iterations. Duality gap: 2556151.6681336886, tolerance: 179.0914811764706\n",
      "  model = cd_fast.enet_coordinate_descent(\n"
     ]
    },
    {
     "name": "stdout",
     "output_type": "stream",
     "text": [
      "22.63157894736842\n"
     ]
    },
    {
     "name": "stderr",
     "output_type": "stream",
     "text": [
      "/Users/chitrasharathchandra/opt/anaconda3/lib/python3.8/site-packages/sklearn/linear_model/_coordinate_descent.py:529: ConvergenceWarning: Objective did not converge. You might want to increase the number of iterations. Duality gap: 2455243.180317279, tolerance: 174.51943111111115\n",
      "  model = cd_fast.enet_coordinate_descent(\n",
      "/Users/chitrasharathchandra/opt/anaconda3/lib/python3.8/site-packages/sklearn/linear_model/_coordinate_descent.py:529: ConvergenceWarning: Objective did not converge. You might want to increase the number of iterations. Duality gap: 2998982.608767606, tolerance: 174.8582832679739\n",
      "  model = cd_fast.enet_coordinate_descent(\n",
      "/Users/chitrasharathchandra/opt/anaconda3/lib/python3.8/site-packages/sklearn/linear_model/_coordinate_descent.py:529: ConvergenceWarning: Objective did not converge. You might want to increase the number of iterations. Duality gap: 2590825.2826973116, tolerance: 179.0914811764706\n",
      "  model = cd_fast.enet_coordinate_descent(\n"
     ]
    },
    {
     "name": "stdout",
     "output_type": "stream",
     "text": [
      "24.736842105263158\n"
     ]
    },
    {
     "name": "stderr",
     "output_type": "stream",
     "text": [
      "/Users/chitrasharathchandra/opt/anaconda3/lib/python3.8/site-packages/sklearn/linear_model/_coordinate_descent.py:529: ConvergenceWarning: Objective did not converge. You might want to increase the number of iterations. Duality gap: 2354031.7800324922, tolerance: 174.51943111111115\n",
      "  model = cd_fast.enet_coordinate_descent(\n",
      "/Users/chitrasharathchandra/opt/anaconda3/lib/python3.8/site-packages/sklearn/linear_model/_coordinate_descent.py:529: ConvergenceWarning: Objective did not converge. You might want to increase the number of iterations. Duality gap: 3028741.1756497934, tolerance: 174.8582832679739\n",
      "  model = cd_fast.enet_coordinate_descent(\n",
      "/Users/chitrasharathchandra/opt/anaconda3/lib/python3.8/site-packages/sklearn/linear_model/_coordinate_descent.py:529: ConvergenceWarning: Objective did not converge. You might want to increase the number of iterations. Duality gap: 2650336.7984799184, tolerance: 179.0914811764706\n",
      "  model = cd_fast.enet_coordinate_descent(\n"
     ]
    },
    {
     "name": "stdout",
     "output_type": "stream",
     "text": [
      "26.842105263157894\n"
     ]
    },
    {
     "name": "stderr",
     "output_type": "stream",
     "text": [
      "/Users/chitrasharathchandra/opt/anaconda3/lib/python3.8/site-packages/sklearn/linear_model/_coordinate_descent.py:529: ConvergenceWarning: Objective did not converge. You might want to increase the number of iterations. Duality gap: 2546955.3648651447, tolerance: 174.51943111111115\n",
      "  model = cd_fast.enet_coordinate_descent(\n",
      "/Users/chitrasharathchandra/opt/anaconda3/lib/python3.8/site-packages/sklearn/linear_model/_coordinate_descent.py:529: ConvergenceWarning: Objective did not converge. You might want to increase the number of iterations. Duality gap: 3060046.805363546, tolerance: 174.8582832679739\n",
      "  model = cd_fast.enet_coordinate_descent(\n",
      "/Users/chitrasharathchandra/opt/anaconda3/lib/python3.8/site-packages/sklearn/linear_model/_coordinate_descent.py:529: ConvergenceWarning: Objective did not converge. You might want to increase the number of iterations. Duality gap: 2659357.652084538, tolerance: 179.0914811764706\n",
      "  model = cd_fast.enet_coordinate_descent(\n"
     ]
    },
    {
     "name": "stdout",
     "output_type": "stream",
     "text": [
      "28.94736842105263\n"
     ]
    },
    {
     "name": "stderr",
     "output_type": "stream",
     "text": [
      "/Users/chitrasharathchandra/opt/anaconda3/lib/python3.8/site-packages/sklearn/linear_model/_coordinate_descent.py:529: ConvergenceWarning: Objective did not converge. You might want to increase the number of iterations. Duality gap: 2644425.197559068, tolerance: 174.51943111111115\n",
      "  model = cd_fast.enet_coordinate_descent(\n",
      "/Users/chitrasharathchandra/opt/anaconda3/lib/python3.8/site-packages/sklearn/linear_model/_coordinate_descent.py:529: ConvergenceWarning: Objective did not converge. You might want to increase the number of iterations. Duality gap: 3030725.3617610103, tolerance: 174.8582832679739\n",
      "  model = cd_fast.enet_coordinate_descent(\n",
      "/Users/chitrasharathchandra/opt/anaconda3/lib/python3.8/site-packages/sklearn/linear_model/_coordinate_descent.py:529: ConvergenceWarning: Objective did not converge. You might want to increase the number of iterations. Duality gap: 2641525.4690086376, tolerance: 179.0914811764706\n",
      "  model = cd_fast.enet_coordinate_descent(\n"
     ]
    },
    {
     "name": "stdout",
     "output_type": "stream",
     "text": [
      "31.052631578947366\n"
     ]
    },
    {
     "name": "stderr",
     "output_type": "stream",
     "text": [
      "/Users/chitrasharathchandra/opt/anaconda3/lib/python3.8/site-packages/sklearn/linear_model/_coordinate_descent.py:529: ConvergenceWarning: Objective did not converge. You might want to increase the number of iterations. Duality gap: 2708761.146794058, tolerance: 174.51943111111115\n",
      "  model = cd_fast.enet_coordinate_descent(\n",
      "/Users/chitrasharathchandra/opt/anaconda3/lib/python3.8/site-packages/sklearn/linear_model/_coordinate_descent.py:529: ConvergenceWarning: Objective did not converge. You might want to increase the number of iterations. Duality gap: 3026127.3053677175, tolerance: 174.8582832679739\n",
      "  model = cd_fast.enet_coordinate_descent(\n",
      "/Users/chitrasharathchandra/opt/anaconda3/lib/python3.8/site-packages/sklearn/linear_model/_coordinate_descent.py:529: ConvergenceWarning: Objective did not converge. You might want to increase the number of iterations. Duality gap: 2529621.6497272076, tolerance: 179.0914811764706\n",
      "  model = cd_fast.enet_coordinate_descent(\n"
     ]
    },
    {
     "name": "stdout",
     "output_type": "stream",
     "text": [
      "33.1578947368421\n"
     ]
    },
    {
     "name": "stderr",
     "output_type": "stream",
     "text": [
      "/Users/chitrasharathchandra/opt/anaconda3/lib/python3.8/site-packages/sklearn/linear_model/_coordinate_descent.py:529: ConvergenceWarning: Objective did not converge. You might want to increase the number of iterations. Duality gap: 2752708.370030547, tolerance: 174.51943111111115\n",
      "  model = cd_fast.enet_coordinate_descent(\n",
      "/Users/chitrasharathchandra/opt/anaconda3/lib/python3.8/site-packages/sklearn/linear_model/_coordinate_descent.py:529: ConvergenceWarning: Objective did not converge. You might want to increase the number of iterations. Duality gap: 3058146.9933861378, tolerance: 174.8582832679739\n",
      "  model = cd_fast.enet_coordinate_descent(\n",
      "/Users/chitrasharathchandra/opt/anaconda3/lib/python3.8/site-packages/sklearn/linear_model/_coordinate_descent.py:529: ConvergenceWarning: Objective did not converge. You might want to increase the number of iterations. Duality gap: 2565121.310436908, tolerance: 179.0914811764706\n",
      "  model = cd_fast.enet_coordinate_descent(\n"
     ]
    },
    {
     "name": "stdout",
     "output_type": "stream",
     "text": [
      "35.26315789473684\n"
     ]
    },
    {
     "name": "stderr",
     "output_type": "stream",
     "text": [
      "/Users/chitrasharathchandra/opt/anaconda3/lib/python3.8/site-packages/sklearn/linear_model/_coordinate_descent.py:529: ConvergenceWarning: Objective did not converge. You might want to increase the number of iterations. Duality gap: 2788139.502374308, tolerance: 174.51943111111115\n",
      "  model = cd_fast.enet_coordinate_descent(\n",
      "/Users/chitrasharathchandra/opt/anaconda3/lib/python3.8/site-packages/sklearn/linear_model/_coordinate_descent.py:529: ConvergenceWarning: Objective did not converge. You might want to increase the number of iterations. Duality gap: 3114306.0504382416, tolerance: 174.8582832679739\n",
      "  model = cd_fast.enet_coordinate_descent(\n",
      "/Users/chitrasharathchandra/opt/anaconda3/lib/python3.8/site-packages/sklearn/linear_model/_coordinate_descent.py:529: ConvergenceWarning: Objective did not converge. You might want to increase the number of iterations. Duality gap: 2739523.5772762205, tolerance: 179.0914811764706\n",
      "  model = cd_fast.enet_coordinate_descent(\n"
     ]
    },
    {
     "name": "stdout",
     "output_type": "stream",
     "text": [
      "37.368421052631575\n"
     ]
    },
    {
     "name": "stderr",
     "output_type": "stream",
     "text": [
      "/Users/chitrasharathchandra/opt/anaconda3/lib/python3.8/site-packages/sklearn/linear_model/_coordinate_descent.py:529: ConvergenceWarning: Objective did not converge. You might want to increase the number of iterations. Duality gap: 2814180.307800753, tolerance: 174.51943111111115\n",
      "  model = cd_fast.enet_coordinate_descent(\n",
      "/Users/chitrasharathchandra/opt/anaconda3/lib/python3.8/site-packages/sklearn/linear_model/_coordinate_descent.py:529: ConvergenceWarning: Objective did not converge. You might want to increase the number of iterations. Duality gap: 3135036.862803704, tolerance: 174.8582832679739\n",
      "  model = cd_fast.enet_coordinate_descent(\n",
      "/Users/chitrasharathchandra/opt/anaconda3/lib/python3.8/site-packages/sklearn/linear_model/_coordinate_descent.py:529: ConvergenceWarning: Objective did not converge. You might want to increase the number of iterations. Duality gap: 2843911.3501491975, tolerance: 179.0914811764706\n",
      "  model = cd_fast.enet_coordinate_descent(\n"
     ]
    },
    {
     "name": "stdout",
     "output_type": "stream",
     "text": [
      "39.473684210526315\n"
     ]
    },
    {
     "name": "stderr",
     "output_type": "stream",
     "text": [
      "/Users/chitrasharathchandra/opt/anaconda3/lib/python3.8/site-packages/sklearn/linear_model/_coordinate_descent.py:529: ConvergenceWarning: Objective did not converge. You might want to increase the number of iterations. Duality gap: 2849735.656446605, tolerance: 174.51943111111115\n",
      "  model = cd_fast.enet_coordinate_descent(\n",
      "/Users/chitrasharathchandra/opt/anaconda3/lib/python3.8/site-packages/sklearn/linear_model/_coordinate_descent.py:529: ConvergenceWarning: Objective did not converge. You might want to increase the number of iterations. Duality gap: 3158100.697291106, tolerance: 174.8582832679739\n",
      "  model = cd_fast.enet_coordinate_descent(\n",
      "/Users/chitrasharathchandra/opt/anaconda3/lib/python3.8/site-packages/sklearn/linear_model/_coordinate_descent.py:529: ConvergenceWarning: Objective did not converge. You might want to increase the number of iterations. Duality gap: 2916685.2142784423, tolerance: 179.0914811764706\n",
      "  model = cd_fast.enet_coordinate_descent(\n"
     ]
    },
    {
     "name": "stdout",
     "output_type": "stream",
     "text": [
      "41.578947368421055\n"
     ]
    },
    {
     "name": "stderr",
     "output_type": "stream",
     "text": [
      "/Users/chitrasharathchandra/opt/anaconda3/lib/python3.8/site-packages/sklearn/linear_model/_coordinate_descent.py:529: ConvergenceWarning: Objective did not converge. You might want to increase the number of iterations. Duality gap: 2910923.016369199, tolerance: 174.51943111111115\n",
      "  model = cd_fast.enet_coordinate_descent(\n",
      "/Users/chitrasharathchandra/opt/anaconda3/lib/python3.8/site-packages/sklearn/linear_model/_coordinate_descent.py:529: ConvergenceWarning: Objective did not converge. You might want to increase the number of iterations. Duality gap: 3191407.0186589174, tolerance: 174.8582832679739\n",
      "  model = cd_fast.enet_coordinate_descent(\n",
      "/Users/chitrasharathchandra/opt/anaconda3/lib/python3.8/site-packages/sklearn/linear_model/_coordinate_descent.py:529: ConvergenceWarning: Objective did not converge. You might want to increase the number of iterations. Duality gap: 2933021.134361922, tolerance: 179.0914811764706\n",
      "  model = cd_fast.enet_coordinate_descent(\n"
     ]
    },
    {
     "name": "stdout",
     "output_type": "stream",
     "text": [
      "43.68421052631579\n"
     ]
    },
    {
     "name": "stderr",
     "output_type": "stream",
     "text": [
      "/Users/chitrasharathchandra/opt/anaconda3/lib/python3.8/site-packages/sklearn/linear_model/_coordinate_descent.py:529: ConvergenceWarning: Objective did not converge. You might want to increase the number of iterations. Duality gap: 2922854.1392059345, tolerance: 174.51943111111115\n",
      "  model = cd_fast.enet_coordinate_descent(\n",
      "/Users/chitrasharathchandra/opt/anaconda3/lib/python3.8/site-packages/sklearn/linear_model/_coordinate_descent.py:529: ConvergenceWarning: Objective did not converge. You might want to increase the number of iterations. Duality gap: 3222737.434006746, tolerance: 174.8582832679739\n",
      "  model = cd_fast.enet_coordinate_descent(\n",
      "/Users/chitrasharathchandra/opt/anaconda3/lib/python3.8/site-packages/sklearn/linear_model/_coordinate_descent.py:529: ConvergenceWarning: Objective did not converge. You might want to increase the number of iterations. Duality gap: 2957884.021159066, tolerance: 179.0914811764706\n",
      "  model = cd_fast.enet_coordinate_descent(\n"
     ]
    },
    {
     "name": "stdout",
     "output_type": "stream",
     "text": [
      "45.78947368421053\n"
     ]
    },
    {
     "name": "stderr",
     "output_type": "stream",
     "text": [
      "/Users/chitrasharathchandra/opt/anaconda3/lib/python3.8/site-packages/sklearn/linear_model/_coordinate_descent.py:529: ConvergenceWarning: Objective did not converge. You might want to increase the number of iterations. Duality gap: 2919693.5436777864, tolerance: 174.51943111111115\n",
      "  model = cd_fast.enet_coordinate_descent(\n",
      "/Users/chitrasharathchandra/opt/anaconda3/lib/python3.8/site-packages/sklearn/linear_model/_coordinate_descent.py:529: ConvergenceWarning: Objective did not converge. You might want to increase the number of iterations. Duality gap: 3250314.3228502665, tolerance: 174.8582832679739\n",
      "  model = cd_fast.enet_coordinate_descent(\n",
      "/Users/chitrasharathchandra/opt/anaconda3/lib/python3.8/site-packages/sklearn/linear_model/_coordinate_descent.py:529: ConvergenceWarning: Objective did not converge. You might want to increase the number of iterations. Duality gap: 3050964.489071654, tolerance: 179.0914811764706\n",
      "  model = cd_fast.enet_coordinate_descent(\n"
     ]
    },
    {
     "name": "stdout",
     "output_type": "stream",
     "text": [
      "47.89473684210526\n"
     ]
    },
    {
     "name": "stderr",
     "output_type": "stream",
     "text": [
      "/Users/chitrasharathchandra/opt/anaconda3/lib/python3.8/site-packages/sklearn/linear_model/_coordinate_descent.py:529: ConvergenceWarning: Objective did not converge. You might want to increase the number of iterations. Duality gap: 2947466.5754199605, tolerance: 174.51943111111115\n",
      "  model = cd_fast.enet_coordinate_descent(\n",
      "/Users/chitrasharathchandra/opt/anaconda3/lib/python3.8/site-packages/sklearn/linear_model/_coordinate_descent.py:529: ConvergenceWarning: Objective did not converge. You might want to increase the number of iterations. Duality gap: 3273043.999260784, tolerance: 174.8582832679739\n",
      "  model = cd_fast.enet_coordinate_descent(\n",
      "/Users/chitrasharathchandra/opt/anaconda3/lib/python3.8/site-packages/sklearn/linear_model/_coordinate_descent.py:529: ConvergenceWarning: Objective did not converge. You might want to increase the number of iterations. Duality gap: 3084977.0158329355, tolerance: 179.0914811764706\n",
      "  model = cd_fast.enet_coordinate_descent(\n"
     ]
    },
    {
     "name": "stdout",
     "output_type": "stream",
     "text": [
      "50.0\n"
     ]
    },
    {
     "name": "stderr",
     "output_type": "stream",
     "text": [
      "/Users/chitrasharathchandra/opt/anaconda3/lib/python3.8/site-packages/sklearn/linear_model/_coordinate_descent.py:529: ConvergenceWarning: Objective did not converge. You might want to increase the number of iterations. Duality gap: 2969619.9311574847, tolerance: 174.51943111111115\n",
      "  model = cd_fast.enet_coordinate_descent(\n",
      "/Users/chitrasharathchandra/opt/anaconda3/lib/python3.8/site-packages/sklearn/linear_model/_coordinate_descent.py:529: ConvergenceWarning: Objective did not converge. You might want to increase the number of iterations. Duality gap: 3306671.1143854996, tolerance: 174.8582832679739\n",
      "  model = cd_fast.enet_coordinate_descent(\n",
      "/Users/chitrasharathchandra/opt/anaconda3/lib/python3.8/site-packages/sklearn/linear_model/_coordinate_descent.py:529: ConvergenceWarning: Objective did not converge. You might want to increase the number of iterations. Duality gap: 3116114.2980725793, tolerance: 179.0914811764706\n",
      "  model = cd_fast.enet_coordinate_descent(\n"
     ]
    }
   ],
   "source": [
    "XMig=pd.concat([X,migration_feature],axis=1)\n",
    "XMigTrain, XMigTest, ytrain, ytest = train_test_split(XMig, y)\n",
    "alpha_list = np.linspace(10, 50, 20)\n",
    "resultsMig = []\n",
    "\n",
    "for alpha in alpha_list:\n",
    "    print(alpha)\n",
    "    lasso = Lasso(fit_intercept=True, alpha=alpha, max_iter=30000, tol=0.00001)\n",
    "    score = cross_val_score(lasso, XMigTrain, ytrain, cv=3).mean()\n",
    "    resultsMig.append({'alpha':alpha, 'model': lasso, 'score': score})\n",
    "    \n",
    "resultsMigDF = pd.DataFrame(resultsMig)"
   ]
  },
  {
   "cell_type": "code",
   "execution_count": 126,
   "metadata": {},
   "outputs": [
    {
     "data": {
      "text/plain": [
       "<AxesSubplot:xlabel='alpha', ylabel='score'>"
      ]
     },
     "execution_count": 126,
     "metadata": {},
     "output_type": "execute_result"
    },
    {
     "data": {
      "image/png": "[encoded data removed]",
      "text/plain": [
       "<Figure size 432x288 with 1 Axes>"
      ]
     },
     "metadata": {
      "needs_background": "light"
     },
     "output_type": "display_data"
    }
   ],
   "source": [
    "resultsMigDF = resultsMigDF.iloc[0:500,]\n",
    "sns.lineplot(data=resultsMigDF, x=\"alpha\", y=\"score\")"
   ]
  },
  {
   "cell_type": "code",
   "execution_count": 127,
   "metadata": {},
   "outputs": [
    {
     "data": {
      "text/plain": [
       "Lasso(alpha=41.578947368421055, max_iter=30000, tol=1e-05)"
      ]
     },
     "execution_count": 127,
     "metadata": {},
     "output_type": "execute_result"
    }
   ],
   "source": [
    "optimal_mig_model = resultsMigDF['model'][resultsMigDF['score'] == resultsMigDF['score'].max()].values[0]\n",
    "optimal_mig_model"
   ]
  },
  {
   "cell_type": "code",
   "execution_count": 132,
   "metadata": {},
   "outputs": [
    {
     "name": "stderr",
     "output_type": "stream",
     "text": [
      "/Users/chitrasharathchandra/opt/anaconda3/lib/python3.8/site-packages/sklearn/linear_model/_coordinate_descent.py:529: ConvergenceWarning: Objective did not converge. You might want to increase the number of iterations. Duality gap: 4695329.955328941, tolerance: 264.3000880610022\n",
      "  model = cd_fast.enet_coordinate_descent(\n"
     ]
    },
    {
     "data": {
      "text/plain": [
       "Lasso(alpha=41.578947368421055, max_iter=30000, tol=1e-05)"
      ]
     },
     "execution_count": 132,
     "metadata": {},
     "output_type": "execute_result"
    }
   ],
   "source": [
    "optimal_mig_model.fit(XMigTrain, ytrain)"
   ]
  },
  {
   "cell_type": "code",
   "execution_count": 133,
   "metadata": {},
   "outputs": [
    {
     "data": {
      "text/plain": [
       "0.6947871370720311"
      ]
     },
     "execution_count": 133,
     "metadata": {},
     "output_type": "execute_result"
    }
   ],
   "source": [
    "optimal_mig_model.score(XMigTrain, ytrain)"
   ]
  },
  {
   "cell_type": "code",
   "execution_count": 134,
   "metadata": {},
   "outputs": [
    {
     "data": {
      "text/plain": [
       "Index(['dwellings_2_units', 'male_65_to_66', 'rent_35_to_40_percent',\n",
       "       'male_45_64_graduate_degree', 'income_30000_34999', 'male_85_and_over',\n",
       "       'two_parents_not_in_labor_force_families_with_young_children',\n",
       "       'amerindian_pop', 'male_15_to_17', 'rent_30_to_35_percent',\n",
       "       'amerindian_including_hispanic', 'male_under_5', 'geo_id',\n",
       "       'income_200000_or_more', 'rent_10_to_15_percent',\n",
       "       'million_dollar_housing_units', 'commuters_by_bus', 'male_5_to_9',\n",
       "       'hispanic_male_45_54', 'commute_90_more_mins',\n",
       "       'dwellings_50_or_more_units', 'commute_25_29_mins',\n",
       "       'rent_40_to_50_percent', 'no_car',\n",
       "       'father_one_parent_families_with_young_children', 'in_grades_1_to_4',\n",
       "       'male_45_64_bachelors_degree', 'no_cars', 'income_150000_199999',\n",
       "       'commute_45_59_mins', 'female_under_5', 'commute_5_9_mins',\n",
       "       'male_45_64_high_school', 'commute_60_more_mins', 'female_75_to_79',\n",
       "       'income_100000_124999', 'employed_wholesale_trade',\n",
       "       'less_than_high_school_graduate', 'income_75000_99999',\n",
       "       'high_school_diploma', 'income_10000_14999', 'rent_under_10_percent',\n",
       "       'bachelors_degree_2', 'dwellings_1_units_attached',\n",
       "       'income_15000_19999', 'income_25000_29999', 'not_us_citizen_pop',\n",
       "       'nonfamily_households', 'children_in_single_female_hh',\n",
       "       'income_125000_149999',\n",
       "       'two_parents_father_in_labor_force_families_with_young_children',\n",
       "       'graduate_professional_degree', 'bachelors_degree_or_higher_25_64',\n",
       "       'in_grades_5_to_8', 'white_male_55_64', 'high_school_including_ged',\n",
       "       'mobile_homes', 'in_grades_9_to_12', 'commuters_by_carpool',\n",
       "       'employed_finance_insurance_real_estate',\n",
       "       'one_parent_families_with_young_children', 'income_per_capita',\n",
       "       'vacant_housing_units_for_rent', 'income_20000_24999',\n",
       "       'different_house_year_ago_same_city', 'hispanic_any_race',\n",
       "       'employed_other_services_not_public_admin', 'female_15_to_17',\n",
       "       'median_income', 'rent_15_to_20_percent', 'female_10_to_14',\n",
       "       'male_45_64_grade_9_12',\n",
       "       'occupation_production_transportation_material', 'male_67_to_69',\n",
       "       'female_85_and_over', 'less_one_year_college', 'poverty',\n",
       "       'commute_less_10_mins', 'occupation_services',\n",
       "       'two_parents_in_labor_force_families_with_young_children',\n",
       "       'management_business_sci_arts_employed', 'white_pop',\n",
       "       'employed_construction', 'female_70_to_74', 'children',\n",
       "       'unemployed_pop', 'female_5_to_9', 'housing_built_2005_or_later',\n",
       "       'do_date', 'hispanic_pop', 'owner_occupied_housing_units_median_value',\n",
       "       'owner_occupied_housing_units_upper_value_quartile',\n",
       "       'households_public_asst_or_food_stamps', 'male_45_64_less_than_9_grade',\n",
       "       'owner_occupied_housing_units_lower_value_quartile',\n",
       "       'commute_30_34_mins'],\n",
       "      dtype='object')"
      ]
     },
     "execution_count": 134,
     "metadata": {},
     "output_type": "execute_result"
    }
   ],
   "source": [
    "lassoMigCoef = pd.Series(optimal_mig_model.coef_, index=XMigTrain.columns)\n",
    "sortedMigCoefs = np.abs(lassoMigCoef).sort_values(ascending=False)\n",
    "features_to_keep_mig_lasso=sortedMigCoefs[sortedMigCoefs!=0].index\n",
    "features_to_keep_mig_lasso"
   ]
  },
  {
   "cell_type": "code",
   "execution_count": 136,
   "metadata": {},
   "outputs": [
    {
     "data": {
      "text/plain": [
       "96"
      ]
     },
     "execution_count": 136,
     "metadata": {},
     "output_type": "execute_result"
    }
   ],
   "source": [
    "len(features_to_keep_mig_lasso)"
   ]
  }
 ],
 "metadata": {
  "kernelspec": {
   "display_name": "Python 3",
   "language": "python",
   "name": "python3"
  },
  "language_info": {
   "codemirror_mode": {
    "name": "ipython",
    "version": 3
   },
   "file_extension": ".py",
   "mimetype": "text/x-python",
   "name": "python",
   "nbconvert_exporter": "python",
   "pygments_lexer": "ipython3",
   "version": "3.8.5"
  }
 },
 "nbformat": 4,
 "nbformat_minor": 4
}
