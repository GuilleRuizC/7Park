{
 "cells": [
  {
   "cell_type": "code",
   "execution_count": 3,
   "metadata": {},
   "outputs": [],
   "source": [
    "import pandas as pd\n",
    "pd.set_option('display.max_columns', None)\n",
    "pd.set_option(\"max_rows\", None)\n",
    "from matplotlib import pyplot as plt\n",
    "plt.style.use('ggplot')\n",
    "%matplotlib inline"
   ]
  },
  {
   "cell_type": "code",
   "execution_count": 4,
   "metadata": {},
   "outputs": [],
   "source": [
    "from google.cloud import bigquery"
   ]
  },
  {
   "cell_type": "code",
   "execution_count": 5,
   "metadata": {},
   "outputs": [],
   "source": [
    "import os\n",
    "os.environ[\"GOOGLE_APPLICATION_CREDENTIALS\"]=\"./adept-comfort-307720-db5f8ca3ee46.json\"\n",
    "client = bigquery.Client()"
   ]
  },
  {
   "cell_type": "code",
   "execution_count": 6,
   "metadata": {},
   "outputs": [],
   "source": [
    "%load_ext google.cloud.bigquery"
   ]
  },
  {
   "cell_type": "code",
   "execution_count": 7,
   "metadata": {},
   "outputs": [
    {
     "name": "stderr",
     "output_type": "stream",
     "text": [
      "Query complete after 0.04s: 100%|██████████| 1/1 [00:00<00:00, 353.47query/s]\n",
      "Downloading: 100%|██████████| 52/52 [00:02<00:00, 25.10rows/s]\n"
     ]
    }
   ],
   "source": [
    "%%bigquery state_2018_5yr\n",
    "SELECT *\n",
    "FROM\n",
    "    `bigquery-public-data.census_bureau_acs.state_2018_5yr`"
   ]
  },
  {
   "cell_type": "code",
   "execution_count": 8,
   "metadata": {},
   "outputs": [
    {
     "data": {
      "text/plain": [
       "(52, 242)"
      ]
     },
     "execution_count": 8,
     "metadata": {},
     "output_type": "execute_result"
    }
   ],
   "source": [
    " state_2018_5yr.shape"
   ]
  },
  {
   "cell_type": "code",
   "execution_count": 9,
   "metadata": {},
   "outputs": [
    {
     "name": "stdout",
     "output_type": "stream",
     "text": [
      "geo_id\n",
      "do_date\n",
      "total_pop\n",
      "households\n",
      "male_pop\n",
      "female_pop\n",
      "median_age\n",
      "male_under_5\n",
      "male_5_to_9\n",
      "male_10_to_14\n",
      "male_15_to_17\n",
      "male_18_to_19\n",
      "male_20\n",
      "male_21\n",
      "male_22_to_24\n",
      "male_25_to_29\n",
      "male_30_to_34\n",
      "male_35_to_39\n",
      "male_40_to_44\n",
      "male_45_to_49\n",
      "male_50_to_54\n",
      "male_55_to_59\n",
      "male_60_to_61\n",
      "male_62_to_64\n",
      "male_65_to_66\n",
      "male_67_to_69\n",
      "male_70_to_74\n",
      "male_75_to_79\n",
      "male_80_to_84\n",
      "male_85_and_over\n",
      "female_under_5\n",
      "female_5_to_9\n",
      "female_10_to_14\n",
      "female_15_to_17\n",
      "female_18_to_19\n",
      "female_20\n",
      "female_21\n",
      "female_22_to_24\n",
      "female_25_to_29\n",
      "female_30_to_34\n",
      "female_35_to_39\n",
      "female_40_to_44\n",
      "female_45_to_49\n",
      "female_50_to_54\n",
      "female_55_to_59\n",
      "female_60_to_61\n",
      "female_62_to_64\n",
      "female_65_to_66\n",
      "female_67_to_69\n",
      "female_70_to_74\n",
      "female_75_to_79\n",
      "female_80_to_84\n",
      "female_85_and_over\n",
      "white_pop\n",
      "population_1_year_and_over\n",
      "population_3_years_over\n",
      "pop_5_years_over\n",
      "pop_15_and_over\n",
      "pop_16_over\n",
      "pop_25_years_over\n",
      "pop_25_64\n",
      "pop_never_married\n",
      "pop_now_married\n",
      "pop_separated\n",
      "pop_widowed\n",
      "pop_divorced\n",
      "not_us_citizen_pop\n",
      "black_pop\n",
      "asian_pop\n",
      "hispanic_pop\n",
      "amerindian_pop\n",
      "other_race_pop\n",
      "two_or_more_races_pop\n",
      "hispanic_any_race\n",
      "not_hispanic_pop\n",
      "asian_male_45_54\n",
      "asian_male_55_64\n",
      "black_male_45_54\n",
      "black_male_55_64\n",
      "hispanic_male_45_54\n",
      "hispanic_male_55_64\n",
      "white_male_45_54\n",
      "white_male_55_64\n",
      "median_income\n",
      "income_per_capita\n",
      "income_less_10000\n",
      "income_10000_14999\n",
      "income_15000_19999\n",
      "income_20000_24999\n",
      "income_25000_29999\n",
      "income_30000_34999\n",
      "income_35000_39999\n",
      "income_40000_44999\n",
      "income_45000_49999\n",
      "income_50000_59999\n",
      "income_60000_74999\n",
      "income_75000_99999\n",
      "income_100000_124999\n",
      "income_125000_149999\n",
      "income_150000_199999\n",
      "income_200000_or_more\n",
      "pop_determined_poverty_status\n",
      "poverty\n",
      "gini_index\n",
      "housing_units\n",
      "renter_occupied_housing_units_paying_cash_median_gross_rent\n",
      "owner_occupied_housing_units_lower_value_quartile\n",
      "owner_occupied_housing_units_median_value\n",
      "owner_occupied_housing_units_upper_value_quartile\n",
      "occupied_housing_units\n",
      "housing_units_renter_occupied\n",
      "vacant_housing_units\n",
      "vacant_housing_units_for_rent\n",
      "vacant_housing_units_for_sale\n",
      "dwellings_1_units_detached\n",
      "dwellings_1_units_attached\n",
      "dwellings_2_units\n",
      "dwellings_3_to_4_units\n",
      "dwellings_5_to_9_units\n",
      "dwellings_10_to_19_units\n",
      "dwellings_20_to_49_units\n",
      "dwellings_50_or_more_units\n",
      "mobile_homes\n",
      "housing_built_2005_or_later\n",
      "housing_built_2000_to_2004\n",
      "housing_built_1939_or_earlier\n",
      "median_year_structure_built\n",
      "married_households\n",
      "nonfamily_households\n",
      "family_households\n",
      "households_public_asst_or_food_stamps\n",
      "male_male_households\n",
      "female_female_households\n",
      "children\n",
      "children_in_single_female_hh\n",
      "median_rent\n",
      "percent_income_spent_on_rent\n",
      "rent_burden_not_computed\n",
      "rent_over_50_percent\n",
      "rent_40_to_50_percent\n",
      "rent_35_to_40_percent\n",
      "rent_30_to_35_percent\n",
      "rent_25_to_30_percent\n",
      "rent_20_to_25_percent\n",
      "rent_15_to_20_percent\n",
      "rent_10_to_15_percent\n",
      "rent_under_10_percent\n",
      "owner_occupied_housing_units\n",
      "million_dollar_housing_units\n",
      "mortgaged_housing_units\n",
      "different_house_year_ago_different_city\n",
      "different_house_year_ago_same_city\n",
      "families_with_young_children\n",
      "two_parent_families_with_young_children\n",
      "two_parents_in_labor_force_families_with_young_children\n",
      "two_parents_father_in_labor_force_families_with_young_children\n",
      "two_parents_mother_in_labor_force_families_with_young_children\n",
      "two_parents_not_in_labor_force_families_with_young_children\n",
      "one_parent_families_with_young_children\n",
      "father_one_parent_families_with_young_children\n",
      "father_in_labor_force_one_parent_families_with_young_children\n",
      "commute_less_10_mins\n",
      "commute_10_14_mins\n",
      "commute_15_19_mins\n",
      "commute_20_24_mins\n",
      "commute_25_29_mins\n",
      "commute_30_34_mins\n",
      "commute_35_44_mins\n",
      "commute_60_more_mins\n",
      "commute_45_59_mins\n",
      "commuters_16_over\n",
      "walked_to_work\n",
      "worked_at_home\n",
      "no_car\n",
      "no_cars\n",
      "one_car\n",
      "two_cars\n",
      "three_cars\n",
      "four_more_cars\n",
      "aggregate_travel_time_to_work\n",
      "commuters_by_public_transportation\n",
      "commuters_by_bus\n",
      "commuters_by_car_truck_van\n",
      "commuters_by_carpool\n",
      "commuters_by_subway_or_elevated\n",
      "commuters_drove_alone\n",
      "group_quarters\n",
      "associates_degree\n",
      "bachelors_degree\n",
      "high_school_diploma\n",
      "less_one_year_college\n",
      "masters_degree\n",
      "one_year_more_college\n",
      "less_than_high_school_graduate\n",
      "high_school_including_ged\n",
      "bachelors_degree_2\n",
      "bachelors_degree_or_higher_25_64\n",
      "graduate_professional_degree\n",
      "some_college_and_associates_degree\n",
      "male_45_64_associates_degree\n",
      "male_45_64_bachelors_degree\n",
      "male_45_64_graduate_degree\n",
      "male_45_64_less_than_9_grade\n",
      "male_45_64_grade_9_12\n",
      "male_45_64_high_school\n",
      "male_45_64_some_college\n",
      "male_45_to_64\n",
      "employed_pop\n",
      "unemployed_pop\n",
      "pop_in_labor_force\n",
      "not_in_labor_force\n",
      "workers_16_and_over\n",
      "armed_forces\n",
      "civilian_labor_force\n",
      "employed_agriculture_forestry_fishing_hunting_mining\n",
      "employed_arts_entertainment_recreation_accommodation_food\n",
      "employed_construction\n",
      "employed_education_health_social\n",
      "employed_finance_insurance_real_estate\n",
      "employed_information\n",
      "employed_manufacturing\n",
      "employed_other_services_not_public_admin\n",
      "employed_public_administration\n",
      "employed_retail_trade\n",
      "employed_science_management_admin_waste\n",
      "employed_transportation_warehousing_utilities\n",
      "employed_wholesale_trade\n",
      "occupation_management_arts\n",
      "occupation_natural_resources_construction_maintenance\n",
      "occupation_production_transportation_material\n",
      "occupation_sales_office\n",
      "occupation_services\n",
      "management_business_sci_arts_employed\n",
      "sales_office_employed\n",
      "in_grades_1_to_4\n",
      "in_grades_5_to_8\n",
      "in_grades_9_to_12\n",
      "in_school\n",
      "in_undergrad_college\n",
      "speak_only_english_at_home\n",
      "speak_spanish_at_home\n",
      "speak_spanish_at_home_low_english\n"
     ]
    }
   ],
   "source": [
    "for col in state_2018_5yr.columns:\n",
    "    print(col)"
   ]
  },
  {
   "cell_type": "code",
   "execution_count": 10,
   "metadata": {},
   "outputs": [
    {
     "data": {
      "text/plain": [
       "32411.262103872632"
      ]
     },
     "execution_count": 10,
     "metadata": {},
     "output_type": "execute_result"
    }
   ],
   "source": [
    "allStates_pop = state_2018_5yr['total_pop'].sum()\n",
    "average_income =  ((state_2018_5yr['income_per_capita']*state_2018_5yr['total_pop']).sum())/allStates_pop\n",
    "average_income"
   ]
  },
  {
   "cell_type": "code",
   "execution_count": 11,
   "metadata": {},
   "outputs": [],
   "source": [
    "bins_ = [\n",
    "    'income_less_10000',\n",
    "    'income_10000_14999',\n",
    "    'income_15000_19999',\n",
    "    'income_20000_24999',\n",
    "    'income_25000_29999',\n",
    "    'income_30000_34999',\n",
    "    'income_35000_39999',\n",
    "    'income_40000_44999',\n",
    "    'income_45000_49999',\n",
    "    'income_50000_59999',\n",
    "    'income_60000_74999',\n",
    "    'income_75000_99999',\n",
    "    'income_100000_124999',\n",
    "    'income_125000_149999',\n",
    "    'income_150000_199999',\n",
    "    'income_200000_or_more'\n",
    "]\n",
    "binMiddle = [\n",
    "    5000,\n",
    "    12500,\n",
    "    17500,\n",
    "    22500,\n",
    "    27500,\n",
    "    32500,\n",
    "    37500,\n",
    "    42500,\n",
    "    47500,\n",
    "    55000,\n",
    "    67500,\n",
    "    87500,\n",
    "    112500,\n",
    "    137500,\n",
    "    175000,\n",
    "    300000\n",
    "    \n",
    "]\n",
    "def median_income(obs):\n",
    "    household=0\n",
    "    for idx,bin_ in enumerate(bins_):\n",
    "        household += obs[bin_]\n",
    "        if household >= obs['medianPoint']:\n",
    "            return binMiddle[idx]\n",
    "        \n",
    "\n",
    "state_2018_5yr['medianPoint'] = state_2018_5yr['households']/2\n",
    "\n",
    "state_2018_5yr['stateIncomeMedian'] = state_2018_5yr.apply(lambda row:median_income(row),axis=1)"
   ]
  },
  {
   "cell_type": "code",
   "execution_count": 12,
   "metadata": {},
   "outputs": [
    {
     "data": {
      "text/plain": [
       "0.4030263027821765"
      ]
     },
     "execution_count": 12,
     "metadata": {},
     "output_type": "execute_result"
    }
   ],
   "source": [
    "state_2018_5yr['stateIncomeMedian'].skew()"
   ]
  },
  {
   "cell_type": "code",
   "execution_count": 59,
   "metadata": {},
   "outputs": [],
   "source": [
    "import numpy as np\n",
    "bins_df = pd.DataFrame(np.column_stack([bins_, binMiddle]), columns=['income_bin', 'bin_avg_income'])\n",
    "bins_df['bin_avg_income']= bins_df['bin_avg_income'].astype(int)"
   ]
  },
  {
   "cell_type": "code",
   "execution_count": 13,
   "metadata": {},
   "outputs": [
    {
     "data": {
      "text/plain": [
       "60913.46153846154"
      ]
     },
     "execution_count": 13,
     "metadata": {},
     "output_type": "execute_result"
    }
   ],
   "source": [
    "state_2018_5yr['stateIncomeMedian'].mean()"
   ]
  },
  {
   "cell_type": "code",
   "execution_count": 14,
   "metadata": {},
   "outputs": [
    {
     "data": {
      "image/png": "[encoded data removed]",
      "text/plain": [
       "<Figure size 432x288 with 1 Axes>"
      ]
     },
     "metadata": {
      "needs_background": "light"
     },
     "output_type": "display_data"
    }
   ],
   "source": [
    "plt.hist(state_2018_5yr['stateIncomeMedian']);\n"
   ]
  },
  {
   "cell_type": "code",
   "execution_count": 15,
   "metadata": {},
   "outputs": [
    {
     "data": {
      "image/png": "[encoded data removed]",
      "text/plain": [
       "<Figure size 432x288 with 1 Axes>"
      ]
     },
     "metadata": {
      "needs_background": "light"
     },
     "output_type": "display_data"
    }
   ],
   "source": [
    "plt.hist(state_2018_5yr['median_income']);"
   ]
  },
  {
   "cell_type": "code",
   "execution_count": 16,
   "metadata": {},
   "outputs": [
    {
     "data": {
      "text/plain": [
       "-0.30425115515767487"
      ]
     },
     "execution_count": 16,
     "metadata": {},
     "output_type": "execute_result"
    }
   ],
   "source": [
    "state_2018_5yr['median_income'].skew()"
   ]
  },
  {
   "cell_type": "code",
   "execution_count": 108,
   "metadata": {},
   "outputs": [
    {
     "name": "stdout",
     "output_type": "stream",
     "text": [
      "weighted median_income: $59445.0\n",
      "weighted our calculated median: $55000\n",
      "weighted mean: $60752.66\n"
     ]
    }
   ],
   "source": [
    "#Check weighted mean and median values\n",
    "import weightedstats as ws\n",
    "\n",
    "print(f\"weighted median_income: ${ws.numpy_weighted_median(state_df['median_income'], weights = state_df['households'])}\")\n",
    "print(f\"weighted our calculated median: ${ws.numpy_weighted_median(state_df['stateIncomeMedian'], weights = state_df['households'])}\")\n",
    "\n",
    "print(f\"weighted mean: ${round(ws.numpy_weighted_mean(state_df['median_income'], weights = state_df['households']), 2)}\")\n"
   ]
  },
  {
   "cell_type": "code",
   "execution_count": 102,
   "metadata": {},
   "outputs": [],
   "source": [
    "#Use the avg value of each income bin\n",
    "state_df = pd.melt(state_2018_5yr, id_vars= ['geo_id','total_pop', 'households','median_income',\n",
    "                                             'income_per_capita', 'stateIncomeMedian'],\n",
    "                   value_vars = bins_, var_name = \"income_bin\", value_name ='households_in_bin')\n",
    "state_df = pd.merge(state_df, bins_df, on= 'income_bin', how =  'left')"
   ]
  },
  {
   "cell_type": "code",
   "execution_count": 103,
   "metadata": {},
   "outputs": [
    {
     "data": {
      "text/html": [
       "<div>\n",
       "<style scoped>\n",
       "    .dataframe tbody tr th:only-of-type {\n",
       "        vertical-align: middle;\n",
       "    }\n",
       "\n",
       "    .dataframe tbody tr th {\n",
       "        vertical-align: top;\n",
       "    }\n",
       "\n",
       "    .dataframe thead th {\n",
       "        text-align: right;\n",
       "    }\n",
       "</style>\n",
       "<table border=\"1\" class=\"dataframe\">\n",
       "  <thead>\n",
       "    <tr style=\"text-align: right;\">\n",
       "      <th></th>\n",
       "      <th>geo_id</th>\n",
       "      <th>total_pop</th>\n",
       "      <th>households</th>\n",
       "      <th>median_income</th>\n",
       "      <th>income_per_capita</th>\n",
       "      <th>stateIncomeMedian</th>\n",
       "      <th>income_bin</th>\n",
       "      <th>households_in_bin</th>\n",
       "      <th>bin_avg_income</th>\n",
       "    </tr>\n",
       "  </thead>\n",
       "  <tbody>\n",
       "    <tr>\n",
       "      <th>361</th>\n",
       "      <td>08</td>\n",
       "      <td>5531141.0</td>\n",
       "      <td>2113387.0</td>\n",
       "      <td>68811.0</td>\n",
       "      <td>36415.0</td>\n",
       "      <td>67500</td>\n",
       "      <td>income_35000_39999</td>\n",
       "      <td>87818.0</td>\n",
       "      <td>37500</td>\n",
       "    </tr>\n",
       "    <tr>\n",
       "      <th>815</th>\n",
       "      <td>30</td>\n",
       "      <td>1041732.0</td>\n",
       "      <td>423240.0</td>\n",
       "      <td>52559.0</td>\n",
       "      <td>29765.0</td>\n",
       "      <td>55000</td>\n",
       "      <td>income_200000_or_more</td>\n",
       "      <td>16939.0</td>\n",
       "      <td>300000</td>\n",
       "    </tr>\n",
       "    <tr>\n",
       "      <th>410</th>\n",
       "      <td>35</td>\n",
       "      <td>2092434.0</td>\n",
       "      <td>775651.0</td>\n",
       "      <td>48059.0</td>\n",
       "      <td>26085.0</td>\n",
       "      <td>47500</td>\n",
       "      <td>income_40000_44999</td>\n",
       "      <td>34927.0</td>\n",
       "      <td>42500</td>\n",
       "    </tr>\n",
       "    <tr>\n",
       "      <th>798</th>\n",
       "      <td>34</td>\n",
       "      <td>8881845.0</td>\n",
       "      <td>3213362.0</td>\n",
       "      <td>79363.0</td>\n",
       "      <td>40895.0</td>\n",
       "      <td>87500</td>\n",
       "      <td>income_200000_or_more</td>\n",
       "      <td>416737.0</td>\n",
       "      <td>300000</td>\n",
       "    </tr>\n",
       "    <tr>\n",
       "      <th>227</th>\n",
       "      <td>17</td>\n",
       "      <td>12821497.0</td>\n",
       "      <td>4830038.0</td>\n",
       "      <td>63575.0</td>\n",
       "      <td>34463.0</td>\n",
       "      <td>67500</td>\n",
       "      <td>income_25000_29999</td>\n",
       "      <td>206622.0</td>\n",
       "      <td>27500</td>\n",
       "    </tr>\n",
       "  </tbody>\n",
       "</table>\n",
       "</div>"
      ],
      "text/plain": [
       "    geo_id   total_pop  households  median_income  income_per_capita  \\\n",
       "361     08   5531141.0   2113387.0        68811.0            36415.0   \n",
       "815     30   1041732.0    423240.0        52559.0            29765.0   \n",
       "410     35   2092434.0    775651.0        48059.0            26085.0   \n",
       "798     34   8881845.0   3213362.0        79363.0            40895.0   \n",
       "227     17  12821497.0   4830038.0        63575.0            34463.0   \n",
       "\n",
       "     stateIncomeMedian             income_bin  households_in_bin  \\\n",
       "361              67500     income_35000_39999            87818.0   \n",
       "815              55000  income_200000_or_more            16939.0   \n",
       "410              47500     income_40000_44999            34927.0   \n",
       "798              87500  income_200000_or_more           416737.0   \n",
       "227              67500     income_25000_29999           206622.0   \n",
       "\n",
       "     bin_avg_income  \n",
       "361           37500  \n",
       "815          300000  \n",
       "410           42500  \n",
       "798          300000  \n",
       "227           27500  "
      ]
     },
     "execution_count": 103,
     "metadata": {},
     "output_type": "execute_result"
    }
   ],
   "source": [
    "state_df.sample(5)"
   ]
  },
  {
   "cell_type": "code",
   "execution_count": 109,
   "metadata": {},
   "outputs": [
    {
     "data": {
      "image/png": "[encoded data removed]",
      "text/plain": [
       "<Figure size 1080x360 with 1 Axes>"
      ]
     },
     "metadata": {
      "needs_background": "light"
     },
     "output_type": "display_data"
    }
   ],
   "source": [
    "by_bin = state_df.groupby('income_bin', as_index = False).agg( median_inc = ('bin_avg_income', 'median'))\n",
    "usa_quantiles = by_bin.quantile([.1, .2,.3,.4, .5,.6,.7,.8,.9,1]).reset_index().rename(columns = {'index': 'percentile'})\n",
    "usa_quantiles.plot.bar(figsize=(15, 5), legend= None);"
   ]
  },
  {
   "cell_type": "code",
   "execution_count": 126,
   "metadata": {},
   "outputs": [
    {
     "data": {
      "image/png": "[encoded data removed]",
      "text/plain": [
       "<Figure size 1080x360 with 1 Axes>"
      ]
     },
     "metadata": {
      "needs_background": "light"
     },
     "output_type": "display_data"
    }
   ],
   "source": [
    "usa_quantiles2 = state_df['income_per_capita'].quantile(\n",
    "    [.1, .2,.3,.4, .5,.6,.7,.8,.9,1]).reset_index().rename(columns = {'index': 'percentile'})\n",
    "usa_quantiles2.plot.bar(figsize=(15, 5), legend= None);"
   ]
  },
  {
   "cell_type": "code",
   "execution_count": 123,
   "metadata": {},
   "outputs": [
    {
     "data": {
      "text/html": [
       "<div>\n",
       "<style scoped>\n",
       "    .dataframe tbody tr th:only-of-type {\n",
       "        vertical-align: middle;\n",
       "    }\n",
       "\n",
       "    .dataframe tbody tr th {\n",
       "        vertical-align: top;\n",
       "    }\n",
       "\n",
       "    .dataframe thead th {\n",
       "        text-align: right;\n",
       "    }\n",
       "</style>\n",
       "<table border=\"1\" class=\"dataframe\">\n",
       "  <thead>\n",
       "    <tr style=\"text-align: right;\">\n",
       "      <th></th>\n",
       "      <th>percentile</th>\n",
       "      <th>income_per_capita</th>\n",
       "    </tr>\n",
       "  </thead>\n",
       "  <tbody>\n",
       "    <tr>\n",
       "      <th>0</th>\n",
       "      <td>0.1</td>\n",
       "      <td>26772.0</td>\n",
       "    </tr>\n",
       "    <tr>\n",
       "      <th>1</th>\n",
       "      <td>0.2</td>\n",
       "      <td>27986.0</td>\n",
       "    </tr>\n",
       "    <tr>\n",
       "      <th>2</th>\n",
       "      <td>0.3</td>\n",
       "      <td>29456.0</td>\n",
       "    </tr>\n",
       "    <tr>\n",
       "      <th>3</th>\n",
       "      <td>0.4</td>\n",
       "      <td>29961.0</td>\n",
       "    </tr>\n",
       "    <tr>\n",
       "      <th>4</th>\n",
       "      <td>0.5</td>\n",
       "      <td>30921.0</td>\n",
       "    </tr>\n",
       "    <tr>\n",
       "      <th>5</th>\n",
       "      <td>0.6</td>\n",
       "      <td>32295.0</td>\n",
       "    </tr>\n",
       "    <tr>\n",
       "      <th>6</th>\n",
       "      <td>0.7</td>\n",
       "      <td>34463.0</td>\n",
       "    </tr>\n",
       "    <tr>\n",
       "      <th>7</th>\n",
       "      <td>0.8</td>\n",
       "      <td>36245.0</td>\n",
       "    </tr>\n",
       "    <tr>\n",
       "      <th>8</th>\n",
       "      <td>0.9</td>\n",
       "      <td>38548.0</td>\n",
       "    </tr>\n",
       "    <tr>\n",
       "      <th>9</th>\n",
       "      <td>1.0</td>\n",
       "      <td>53321.0</td>\n",
       "    </tr>\n",
       "  </tbody>\n",
       "</table>\n",
       "</div>"
      ],
      "text/plain": [
       "   percentile  income_per_capita\n",
       "0         0.1            26772.0\n",
       "1         0.2            27986.0\n",
       "2         0.3            29456.0\n",
       "3         0.4            29961.0\n",
       "4         0.5            30921.0\n",
       "5         0.6            32295.0\n",
       "6         0.7            34463.0\n",
       "7         0.8            36245.0\n",
       "8         0.9            38548.0\n",
       "9         1.0            53321.0"
      ]
     },
     "execution_count": 123,
     "metadata": {},
     "output_type": "execute_result"
    }
   ],
   "source": [
    "usa_quantiles2"
   ]
  },
  {
   "cell_type": "code",
   "execution_count": 127,
   "metadata": {},
   "outputs": [
    {
     "data": {
      "image/png": "[encoded data removed]",
      "text/plain": [
       "<Figure size 1080x360 with 1 Axes>"
      ]
     },
     "metadata": {
      "needs_background": "light"
     },
     "output_type": "display_data"
    }
   ],
   "source": [
    "CA = state_df.loc[(state_df['geo_id'] == '06'), ]\n",
    "CA_quantiles = CA['income_per_capita'].quantile(\n",
    "    [.1, .2,.3,.4, .5,.6,.7,.8,.9,1]).reset_index().rename(columns = {'index': 'percentile'})\n",
    "CA_quantiles.plot.bar(figsize=(15, 5), legend= None);                                                                                 #'mean'))\n",
    "\n",
    "#CA_by_bin = by_bin.quantile([.1, .2,.3,.4, .5,.6,.7,.8,.9,1]).reset_index().rename(columns = {'index': 'percentile'})\n",
    "#CA_by_bin.plot.bar(figsize=(15, 5), legend=None)"
   ]
  }
 ],
 "metadata": {
  "kernelspec": {
   "display_name": "Python 3",
   "language": "python",
   "name": "python3"
  },
  "language_info": {
   "codemirror_mode": {
    "name": "ipython",
    "version": 3
   },
   "file_extension": ".py",
   "mimetype": "text/x-python",
   "name": "python",
   "nbconvert_exporter": "python",
   "pygments_lexer": "ipython3",
   "version": "3.8.5"
  }
 },
 "nbformat": 4,
 "nbformat_minor": 4
}
