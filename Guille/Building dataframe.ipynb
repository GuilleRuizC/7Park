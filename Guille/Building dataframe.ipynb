{
 "cells": [
  {
   "cell_type": "markdown",
   "metadata": {},
   "source": [
    "## 1. Set Google´s Bigquery "
   ]
  },
  {
   "cell_type": "code",
   "execution_count": 1,
   "metadata": {},
   "outputs": [],
   "source": [
    "#pip install gcloud\n",
    "#pip install google.cloud\n",
    "#pip install google.cloud.bigquery\n",
    "#pip install --upgrade google-cloud-bigquery\n",
    "#!pip install google-cloud-bigquery-storage\n",
    "#!pip install pyarrow\n",
    "#!pip install google-auth"
   ]
  },
  {
   "cell_type": "code",
   "execution_count": 2,
   "metadata": {},
   "outputs": [],
   "source": [
    "import gcloud\n",
    "import google.cloud\n",
    "import google.cloud.bigquery\n",
    "import pyarrow\n",
    "import google.auth\n",
    "\n",
    "import pandas as pd\n",
    "import numpy as np\n",
    "import os\n",
    "import seaborn as sns\n",
    "import matplotlib \n",
    "from matplotlib import pyplot as plt"
   ]
  },
  {
   "cell_type": "code",
   "execution_count": 3,
   "metadata": {},
   "outputs": [],
   "source": [
    "%load_ext google.cloud.bigquery"
   ]
  },
  {
   "cell_type": "code",
   "execution_count": 4,
   "metadata": {},
   "outputs": [],
   "source": [
    "import os\n",
    "os.environ[\"GOOGLE_APPLICATION_CREDENTIALS\"] = \"C:/Users/Guillermo/Desktop/ESTUDIOS/Data Science Bootcamp/Projects/4. Capstone/MySQL-d83a40a60a1b.json\""
   ]
  },
  {
   "cell_type": "code",
   "execution_count": 135,
   "metadata": {},
   "outputs": [
    {
     "name": "stderr",
     "output_type": "stream",
     "text": [
      "Query complete after 0.04s: 100%|██████████| 1/1 [00:00<00:00, 166.52query/s]\n",
      "Downloading: 100%|██████████| 33120/33120 [01:31<00:00, 360.33rows/s]\n"
     ]
    }
   ],
   "source": [
    "%%bigquery --use_rest_api zipcodes_2011\n",
    "SELECT *\n",
    "FROM bigquery-public-data.census_bureau_acs.zip_codes_2011_5yr"
   ]
  },
  {
   "cell_type": "code",
   "execution_count": 136,
   "metadata": {},
   "outputs": [
    {
     "name": "stderr",
     "output_type": "stream",
     "text": [
      "Query complete after 0.05s: 100%|██████████| 1/1 [00:00<00:00, 250.18query/s]\n",
      "Downloading: 100%|██████████| 33120/33120 [01:36<00:00, 344.20rows/s]\n"
     ]
    }
   ],
   "source": [
    "%%bigquery --use_rest_api zipcodes_2012\n",
    "SELECT *\n",
    "FROM bigquery-public-data.census_bureau_acs.zip_codes_2012_5yr"
   ]
  },
  {
   "cell_type": "code",
   "execution_count": 137,
   "metadata": {},
   "outputs": [
    {
     "name": "stderr",
     "output_type": "stream",
     "text": [
      "Query complete after 0.02s: 100%|██████████| 1/1 [00:00<00:00, 249.81query/s]\n",
      "Downloading: 100%|██████████| 33120/33120 [01:32<00:00, 359.19rows/s]\n"
     ]
    }
   ],
   "source": [
    "%%bigquery --use_rest_api zipcodes_2013\n",
    "SELECT *\n",
    "FROM bigquery-public-data.census_bureau_acs.zip_codes_2013_5yr"
   ]
  },
  {
   "cell_type": "code",
   "execution_count": 138,
   "metadata": {},
   "outputs": [
    {
     "name": "stderr",
     "output_type": "stream",
     "text": [
      "Query complete after 0.01s: 100%|██████████| 1/1 [00:00<00:00, 332.72query/s]\n",
      "Downloading: 100%|██████████| 33120/33120 [01:36<00:00, 344.38rows/s]\n"
     ]
    }
   ],
   "source": [
    "%%bigquery --use_rest_api zipcodes_2014\n",
    "SELECT *\n",
    "FROM bigquery-public-data.census_bureau_acs.zip_codes_2014_5yr"
   ]
  },
  {
   "cell_type": "code",
   "execution_count": 139,
   "metadata": {},
   "outputs": [
    {
     "name": "stderr",
     "output_type": "stream",
     "text": [
      "Query complete after 0.02s: 100%|██████████| 1/1 [00:00<00:00, 249.82query/s]\n",
      "Downloading: 100%|██████████| 33120/33120 [01:41<00:00, 327.84rows/s]\n"
     ]
    }
   ],
   "source": [
    "%%bigquery --use_rest_api zipcodes_2015\n",
    "SELECT *\n",
    "FROM bigquery-public-data.census_bureau_acs.zip_codes_2015_5yr"
   ]
  },
  {
   "cell_type": "code",
   "execution_count": 140,
   "metadata": {},
   "outputs": [
    {
     "name": "stderr",
     "output_type": "stream",
     "text": [
      "Query complete after 0.02s: 100%|██████████| 1/1 [00:00<00:00, 250.32query/s] \n",
      "Downloading: 100%|██████████| 33120/33120 [01:34<00:00, 350.94rows/s]\n"
     ]
    }
   ],
   "source": [
    "%%bigquery --use_rest_api zipcodes_2016\n",
    "SELECT *\n",
    "FROM bigquery-public-data.census_bureau_acs.zip_codes_2016_5yr"
   ]
  },
  {
   "cell_type": "code",
   "execution_count": 141,
   "metadata": {},
   "outputs": [
    {
     "name": "stderr",
     "output_type": "stream",
     "text": [
      "Query complete after 0.02s: 100%|██████████| 1/1 [00:00<00:00, 333.04query/s]\n",
      "Downloading: 100%|██████████| 33120/33120 [01:20<00:00, 409.14rows/s]\n"
     ]
    }
   ],
   "source": [
    "%%bigquery --use_rest_api zipcodes_2017\n",
    "SELECT *\n",
    "FROM bigquery-public-data.census_bureau_acs.zip_codes_2017_5yr"
   ]
  },
  {
   "cell_type": "code",
   "execution_count": 142,
   "metadata": {},
   "outputs": [
    {
     "name": "stderr",
     "output_type": "stream",
     "text": [
      "Query complete after 0.01s: 100%|██████████| 1/1 [00:00<00:00, 333.78query/s] \n",
      "Downloading: 100%|██████████| 33120/33120 [01:29<00:00, 372.13rows/s]\n"
     ]
    }
   ],
   "source": [
    "%%bigquery --use_rest_api zipcodes_2018\n",
    "SELECT *\n",
    "FROM bigquery-public-data.census_bureau_acs.zip_codes_2018_5yr"
   ]
  },
  {
   "cell_type": "markdown",
   "metadata": {},
   "source": [
    "## 2. Create the census dataframe (2011-2018) containing predictors"
   ]
  },
  {
   "cell_type": "markdown",
   "metadata": {},
   "source": [
    "### 2.1 Concatenate zipcodes_2011 and zipcodes_2012"
   ]
  },
  {
   "cell_type": "markdown",
   "metadata": {},
   "source": [
    "#### We first create a variable year in each of the dataframes"
   ]
  },
  {
   "cell_type": "code",
   "execution_count": 143,
   "metadata": {},
   "outputs": [],
   "source": [
    "zipcodes_2011['year'] = 2011\n",
    "zipcodes_2012['year'] = 2012"
   ]
  },
  {
   "cell_type": "markdown",
   "metadata": {},
   "source": [
    "#### Let´s now check the number of rows and columns to see if there is any mismatch between the dataframes."
   ]
  },
  {
   "cell_type": "code",
   "execution_count": 144,
   "metadata": {},
   "outputs": [
    {
     "name": "stdout",
     "output_type": "stream",
     "text": [
      "The number of observations in 2011 is 33120\n",
      "The number of variables in 2011 is 253\n",
      " \n",
      "The number of observations in 2012 is 33120\n",
      "The number of variables in 2012 is 253\n"
     ]
    }
   ],
   "source": [
    "# Number of rows and columns in the dataframe \n",
    "print('The number of observations in 2011 is {}'.format(zipcodes_2011.shape[0]))\n",
    "print('The number of variables in 2011 is {}'.format(zipcodes_2011.shape[1]))\n",
    "\n",
    "print(' ')\n",
    "\n",
    "# Number of rows and columns in the dataframe \n",
    "print('The number of observations in 2012 is {}'.format(zipcodes_2012.shape[0]))\n",
    "print('The number of variables in 2012 is {}'.format(zipcodes_2012.shape[1]))"
   ]
  },
  {
   "cell_type": "markdown",
   "metadata": {},
   "source": [
    "#### We create a dictionary in which each feature in 2011 is a key. The value corresponding to each key will be true if the variable in 2011 is also present in 2012 and false otherwise. We print those keys with False values."
   ]
  },
  {
   "cell_type": "code",
   "execution_count": 145,
   "metadata": {},
   "outputs": [
    {
     "name": "stdout",
     "output_type": "stream",
     "text": [
      "The list with missing variables is []\n"
     ]
    }
   ],
   "source": [
    "# Create lists with variables in each dataframe\n",
    "list_2011 = zipcodes_2011.columns\n",
    "list_2012 = zipcodes_2012.columns\n",
    "\n",
    "# Create dictionary\n",
    "dic = {}\n",
    "for x in list_2011:\n",
    "    dic[x] = x in list_2012\n",
    "        \n",
    "print('The list with missing variables is {}'.format([k for k, v in dic.items() if v == False]))"
   ]
  },
  {
   "cell_type": "markdown",
   "metadata": {},
   "source": [
    "#### We can see that the variables in both dataframes are the same. Therefore, we can concatenate them without any further adjustments."
   ]
  },
  {
   "cell_type": "code",
   "execution_count": 146,
   "metadata": {},
   "outputs": [],
   "source": [
    "zipcodes = pd.concat([zipcodes_2011, zipcodes_2012], axis = 0, sort = False)"
   ]
  },
  {
   "cell_type": "markdown",
   "metadata": {},
   "source": [
    "### 2.2 Concatenate zipcodes and zipcodes_2013"
   ]
  },
  {
   "cell_type": "markdown",
   "metadata": {},
   "source": [
    "#### We first create a variable year in zipcodes_2013"
   ]
  },
  {
   "cell_type": "code",
   "execution_count": 147,
   "metadata": {},
   "outputs": [],
   "source": [
    "zipcodes_2013['year'] = 2013"
   ]
  },
  {
   "cell_type": "markdown",
   "metadata": {},
   "source": [
    "#### Let´s now check the number of rows and columns to see if there is any mismatch between the dataframes."
   ]
  },
  {
   "cell_type": "code",
   "execution_count": 148,
   "metadata": {},
   "outputs": [
    {
     "name": "stdout",
     "output_type": "stream",
     "text": [
      "The number of observations in zipcodes is 66240\n",
      "The number of variables in zipcides is 253\n",
      " \n",
      "The number of observations in 2013 is 33120\n",
      "The number of variables in 2013 is 253\n"
     ]
    }
   ],
   "source": [
    "# Number of rows and columns in the dataframe \n",
    "print('The number of observations in zipcodes is {}'.format(zipcodes.shape[0]))\n",
    "print('The number of variables in zipcides is {}'.format(zipcodes.shape[1]))\n",
    "\n",
    "print(' ')\n",
    "\n",
    "# Number of rows and columns in the dataframe \n",
    "print('The number of observations in 2013 is {}'.format(zipcodes_2013.shape[0]))\n",
    "print('The number of variables in 2013 is {}'.format(zipcodes_2013.shape[1]))"
   ]
  },
  {
   "cell_type": "markdown",
   "metadata": {},
   "source": [
    "#### Create dictionary to check which variables are different."
   ]
  },
  {
   "cell_type": "code",
   "execution_count": 149,
   "metadata": {},
   "outputs": [
    {
     "name": "stdout",
     "output_type": "stream",
     "text": [
      "The list with missing variables is []\n"
     ]
    }
   ],
   "source": [
    "# Create lists with variables in each dataframe\n",
    "list_zipcodes = zipcodes.columns\n",
    "list_2013 = zipcodes_2013.columns\n",
    "\n",
    "# Create dictionary\n",
    "dic = {}\n",
    "for x in list_zipcodes:\n",
    "    dic[x] = x in list_2013\n",
    "        \n",
    "print('The list with missing variables is {}'.format([k for k, v in dic.items() if v == False]))"
   ]
  },
  {
   "cell_type": "markdown",
   "metadata": {},
   "source": [
    "#### Again there is no discrepancy between the variables in both dataframes, so we concatenate them."
   ]
  },
  {
   "cell_type": "code",
   "execution_count": 150,
   "metadata": {},
   "outputs": [],
   "source": [
    "zipcodes = pd.concat([zipcodes, zipcodes_2013], axis = 0, sort = False)"
   ]
  },
  {
   "cell_type": "markdown",
   "metadata": {},
   "source": [
    "### 2.3 Concatenate zipcodes and zipcodes_2014"
   ]
  },
  {
   "cell_type": "markdown",
   "metadata": {},
   "source": [
    "#### We first create a variable year in zipcodes_2014"
   ]
  },
  {
   "cell_type": "code",
   "execution_count": 151,
   "metadata": {},
   "outputs": [],
   "source": [
    "zipcodes_2014['year'] = 2014"
   ]
  },
  {
   "cell_type": "markdown",
   "metadata": {},
   "source": [
    "#### Let´s now check the number of rows and columns to see if there is any mismatch between the dataframes."
   ]
  },
  {
   "cell_type": "code",
   "execution_count": 152,
   "metadata": {},
   "outputs": [
    {
     "name": "stdout",
     "output_type": "stream",
     "text": [
      "The number of observations in zipcodes is 99360\n",
      "The number of variables in zipcides is 253\n",
      " \n",
      "The number of observations in 2014 is 33120\n",
      "The number of variables in 2014 is 253\n"
     ]
    }
   ],
   "source": [
    "# Number of rows and columns in the dataframe \n",
    "print('The number of observations in zipcodes is {}'.format(zipcodes.shape[0]))\n",
    "print('The number of variables in zipcides is {}'.format(zipcodes.shape[1]))\n",
    "\n",
    "print(' ')\n",
    "\n",
    "# Number of rows and columns in the dataframe \n",
    "print('The number of observations in 2014 is {}'.format(zipcodes_2014.shape[0]))\n",
    "print('The number of variables in 2014 is {}'.format(zipcodes_2014.shape[1]))"
   ]
  },
  {
   "cell_type": "markdown",
   "metadata": {},
   "source": [
    "#### Create dictionary to check which variables are different."
   ]
  },
  {
   "cell_type": "code",
   "execution_count": 153,
   "metadata": {},
   "outputs": [
    {
     "name": "stdout",
     "output_type": "stream",
     "text": [
      "The list with missing variables is []\n"
     ]
    }
   ],
   "source": [
    "# Create lists with variables in each dataframe\n",
    "list_zipcodes = zipcodes.columns\n",
    "list_2014 = zipcodes_2014.columns\n",
    "\n",
    "# Create dictionary\n",
    "dic = {}\n",
    "for x in list_zipcodes:\n",
    "    dic[x] = x in list_2014\n",
    "        \n",
    "print('The list with missing variables is {}'.format([k for k, v in dic.items() if v == False]))"
   ]
  },
  {
   "cell_type": "markdown",
   "metadata": {},
   "source": [
    "#### Again there is no discrepancy between the variables in both dataframes, so we concatenate them."
   ]
  },
  {
   "cell_type": "code",
   "execution_count": 154,
   "metadata": {},
   "outputs": [],
   "source": [
    "zipcodes = pd.concat([zipcodes, zipcodes_2014], axis = 0, sort = False)"
   ]
  },
  {
   "cell_type": "markdown",
   "metadata": {},
   "source": [
    "### 2.4 Concatenate zipcodes and zipcodes_2015"
   ]
  },
  {
   "cell_type": "markdown",
   "metadata": {},
   "source": [
    "#### We first create a variable year in zipcodes_2015"
   ]
  },
  {
   "cell_type": "code",
   "execution_count": 155,
   "metadata": {},
   "outputs": [],
   "source": [
    "zipcodes_2015['year'] = 2015"
   ]
  },
  {
   "cell_type": "markdown",
   "metadata": {},
   "source": [
    "#### Let´s now check the number of rows and columns to see if there is any mismatch between the dataframes."
   ]
  },
  {
   "cell_type": "code",
   "execution_count": 156,
   "metadata": {},
   "outputs": [
    {
     "name": "stdout",
     "output_type": "stream",
     "text": [
      "The number of observations in zipcodes is 132480\n",
      "The number of variables in zipcides is 253\n",
      " \n",
      "The number of observations in 2015 is 33120\n",
      "The number of variables in 2015 is 248\n"
     ]
    }
   ],
   "source": [
    "# Number of rows and columns in the dataframe \n",
    "print('The number of observations in zipcodes is {}'.format(zipcodes.shape[0]))\n",
    "print('The number of variables in zipcides is {}'.format(zipcodes.shape[1]))\n",
    "\n",
    "print(' ')\n",
    "\n",
    "# Number of rows and columns in the dataframe \n",
    "print('The number of observations in 2015 is {}'.format(zipcodes_2015.shape[0]))\n",
    "print('The number of variables in 2015 is {}'.format(zipcodes_2015.shape[1]))"
   ]
  },
  {
   "cell_type": "markdown",
   "metadata": {},
   "source": [
    "#### Create dictionary to check which variables are different."
   ]
  },
  {
   "cell_type": "code",
   "execution_count": 157,
   "metadata": {},
   "outputs": [
    {
     "name": "stdout",
     "output_type": "stream",
     "text": [
      "The list with missing variables is ['pop_15_and_over', 'pop_never_married', 'pop_now_married', 'pop_separated', 'pop_widowed', 'pop_divorced']\n"
     ]
    }
   ],
   "source": [
    "# Create lists with variables in each dataframe\n",
    "list_zipcodes = zipcodes.columns\n",
    "list_2015 = zipcodes_2015.columns\n",
    "\n",
    "# Create dictionary\n",
    "dic = {}\n",
    "for x in list_zipcodes:\n",
    "    dic[x] = x in list_2015\n",
    "        \n",
    "print('The list with missing variables is {}'.format([k for k, v in dic.items() if v == False]))"
   ]
  },
  {
   "cell_type": "markdown",
   "metadata": {},
   "source": [
    "#### Now there is a discrepancy between the variables in both dataframes. It looks like there are variables missing in the 2015 dataframe. This has to be taken into account when dealing with missing values, as when concatenating those values will have them."
   ]
  },
  {
   "cell_type": "code",
   "execution_count": 158,
   "metadata": {},
   "outputs": [],
   "source": [
    "zipcodes = pd.concat([zipcodes, zipcodes_2015], axis = 0, sort = False)"
   ]
  },
  {
   "cell_type": "markdown",
   "metadata": {},
   "source": [
    "### 2.5 Concatenate zipcodes and zipcodes_2016"
   ]
  },
  {
   "cell_type": "markdown",
   "metadata": {},
   "source": [
    "#### We first create a variable year in zipcodes_2016"
   ]
  },
  {
   "cell_type": "code",
   "execution_count": 159,
   "metadata": {},
   "outputs": [],
   "source": [
    "zipcodes_2016['year'] = 2016"
   ]
  },
  {
   "cell_type": "markdown",
   "metadata": {},
   "source": [
    "#### Let´s now check the number of rows and columns to see if there is any mismatch between the dataframes."
   ]
  },
  {
   "cell_type": "code",
   "execution_count": 160,
   "metadata": {},
   "outputs": [
    {
     "name": "stdout",
     "output_type": "stream",
     "text": [
      "The number of observations in zipcodes is 165600\n",
      "The number of variables in zipcides is 254\n",
      " \n",
      "The number of observations in 2016 is 33120\n",
      "The number of variables in 2016 is 253\n"
     ]
    }
   ],
   "source": [
    "# Number of rows and columns in the dataframe \n",
    "print('The number of observations in zipcodes is {}'.format(zipcodes.shape[0]))\n",
    "print('The number of variables in zipcides is {}'.format(zipcodes.shape[1]))\n",
    "\n",
    "print(' ')\n",
    "\n",
    "# Number of rows and columns in the dataframe \n",
    "print('The number of observations in 2016 is {}'.format(zipcodes_2016.shape[0]))\n",
    "print('The number of variables in 2016 is {}'.format(zipcodes_2016.shape[1]))"
   ]
  },
  {
   "cell_type": "markdown",
   "metadata": {},
   "source": [
    "#### Create dictionary to check which variables are different."
   ]
  },
  {
   "cell_type": "code",
   "execution_count": 161,
   "metadata": {},
   "outputs": [
    {
     "name": "stdout",
     "output_type": "stream",
     "text": [
      "The list with missing variables is ['geoid']\n"
     ]
    }
   ],
   "source": [
    "# Create lists with variables in each dataframe\n",
    "list_zipcodes = zipcodes.columns\n",
    "list_2016 = zipcodes_2016.columns\n",
    "\n",
    "# Create dictionary\n",
    "dic = {}\n",
    "for x in list_zipcodes:\n",
    "    dic[x] = x in list_2016\n",
    "        \n",
    "print('The list with missing variables is {}'.format([k for k, v in dic.items() if v == False]))"
   ]
  },
  {
   "cell_type": "markdown",
   "metadata": {},
   "source": [
    "#### There is only one discrepancy, geoid. This variable is not the same as geo_id, that contains the zipcode. Probably this variable will be drop, so the discrepancy is not a great concern. We go ahead and concatenate the dataframe."
   ]
  },
  {
   "cell_type": "code",
   "execution_count": 162,
   "metadata": {},
   "outputs": [],
   "source": [
    "zipcodes = pd.concat([zipcodes, zipcodes_2016], axis = 0, sort = False)"
   ]
  },
  {
   "cell_type": "markdown",
   "metadata": {},
   "source": [
    "### 2.6 Concatenate zipcodes and zipcodes_2017"
   ]
  },
  {
   "cell_type": "markdown",
   "metadata": {},
   "source": [
    "#### We first create a variable year in zipcodes_2017"
   ]
  },
  {
   "cell_type": "code",
   "execution_count": 163,
   "metadata": {},
   "outputs": [],
   "source": [
    "zipcodes_2017['year'] = 2017"
   ]
  },
  {
   "cell_type": "markdown",
   "metadata": {},
   "source": [
    "#### Let´s now check the number of rows and columns to see if there is any mismatch between the dataframes."
   ]
  },
  {
   "cell_type": "code",
   "execution_count": 164,
   "metadata": {},
   "outputs": [
    {
     "name": "stdout",
     "output_type": "stream",
     "text": [
      "The number of observations in zipcodes is 198720\n",
      "The number of variables in zipcides is 254\n",
      " \n",
      "The number of observations in 2017 is 33120\n",
      "The number of variables in 2017 is 253\n"
     ]
    }
   ],
   "source": [
    "# Number of rows and columns in the dataframe \n",
    "print('The number of observations in zipcodes is {}'.format(zipcodes.shape[0]))\n",
    "print('The number of variables in zipcides is {}'.format(zipcodes.shape[1]))\n",
    "\n",
    "print(' ')\n",
    "\n",
    "# Number of rows and columns in the dataframe \n",
    "print('The number of observations in 2017 is {}'.format(zipcodes_2017.shape[0]))\n",
    "print('The number of variables in 2017 is {}'.format(zipcodes_2017.shape[1]))"
   ]
  },
  {
   "cell_type": "markdown",
   "metadata": {},
   "source": [
    "#### Create dictionary to check which variables are different."
   ]
  },
  {
   "cell_type": "code",
   "execution_count": 165,
   "metadata": {},
   "outputs": [
    {
     "name": "stdout",
     "output_type": "stream",
     "text": [
      "The list with missing variables is ['geoid']\n"
     ]
    }
   ],
   "source": [
    "# Create lists with variables in each dataframe\n",
    "list_zipcodes = zipcodes.columns\n",
    "list_2017 = zipcodes_2017.columns\n",
    "\n",
    "# Create dictionary\n",
    "dic = {}\n",
    "for x in list_zipcodes:\n",
    "    dic[x] = x in list_2017\n",
    "        \n",
    "print('The list with missing variables is {}'.format([k for k, v in dic.items() if v == False]))"
   ]
  },
  {
   "cell_type": "markdown",
   "metadata": {},
   "source": [
    "#### Again, there is only one discrepancy, geoid. As before, we go ahead and concatenate the dataframe."
   ]
  },
  {
   "cell_type": "code",
   "execution_count": 166,
   "metadata": {},
   "outputs": [],
   "source": [
    "zipcodes = pd.concat([zipcodes, zipcodes_2017], axis = 0, sort = False)"
   ]
  },
  {
   "cell_type": "markdown",
   "metadata": {},
   "source": [
    "### 2.7 Concatenate zipcodes and zipcodes_2018"
   ]
  },
  {
   "cell_type": "markdown",
   "metadata": {},
   "source": [
    "#### We first create a variable year in zipcodes_2018"
   ]
  },
  {
   "cell_type": "code",
   "execution_count": 167,
   "metadata": {},
   "outputs": [],
   "source": [
    "zipcodes_2018['year'] = 2018"
   ]
  },
  {
   "cell_type": "markdown",
   "metadata": {},
   "source": [
    "#### Let´s now check the number of rows and columns to see if there is any mismatch between the dataframes."
   ]
  },
  {
   "cell_type": "code",
   "execution_count": 168,
   "metadata": {},
   "outputs": [
    {
     "name": "stdout",
     "output_type": "stream",
     "text": [
      "The number of observations in zipcodes is 231840\n",
      "The number of variables in zipcides is 254\n",
      " \n",
      "The number of observations in 2018 is 33120\n",
      "The number of variables in 2018 is 241\n"
     ]
    }
   ],
   "source": [
    "# Number of rows and columns in the dataframe \n",
    "print('The number of observations in zipcodes is {}'.format(zipcodes.shape[0]))\n",
    "print('The number of variables in zipcides is {}'.format(zipcodes.shape[1]))\n",
    "\n",
    "print(' ')\n",
    "\n",
    "# Number of rows and columns in the dataframe \n",
    "print('The number of observations in 2018 is {}'.format(zipcodes_2018.shape[0]))\n",
    "print('The number of variables in 2018 is {}'.format(zipcodes_2018.shape[1]))"
   ]
  },
  {
   "cell_type": "markdown",
   "metadata": {},
   "source": [
    "#### Create dictionary to check which variables are different.\n"
   ]
  },
  {
   "cell_type": "code",
   "execution_count": 169,
   "metadata": {},
   "outputs": [
    {
     "name": "stdout",
     "output_type": "stream",
     "text": [
      "The list with missing variables is ['male_60_61', 'male_62_64', 'white_including_hispanic', 'black_including_hispanic', 'amerindian_including_hispanic', 'asian_including_hispanic', 'commute_5_9_mins', 'commute_35_39_mins', 'commute_40_44_mins', 'commute_60_89_mins', 'commute_90_more_mins', 'households_retirement_income', 'geoid']\n"
     ]
    }
   ],
   "source": [
    "# Create lists with variables in each dataframe\n",
    "list_zipcodes = zipcodes.columns\n",
    "list_2018 = zipcodes_2018.columns\n",
    "\n",
    "# Create dictionary\n",
    "dic = {}\n",
    "for x in list_zipcodes:\n",
    "    dic[x] = x in list_2018\n",
    "        \n",
    "print('The list with missing variables is {}'.format([k for k, v in dic.items() if v == False]))"
   ]
  },
  {
   "cell_type": "markdown",
   "metadata": {},
   "source": [
    "#### There is more discrepancy between between the 2018 data and the rest of them. These variables can be seen in the list above and their missingness has to be taken into account when imputing missing values"
   ]
  },
  {
   "cell_type": "code",
   "execution_count": 170,
   "metadata": {},
   "outputs": [],
   "source": [
    "zipcodes = pd.concat([zipcodes, zipcodes_2018], axis = 0, sort = False)"
   ]
  },
  {
   "cell_type": "markdown",
   "metadata": {},
   "source": [
    "#### Save the dataframe to a csv file so that the code above needs not to be run every time."
   ]
  },
  {
   "cell_type": "code",
   "execution_count": 171,
   "metadata": {},
   "outputs": [],
   "source": [
    "os.chdir('C:/Users/Guillermo/Desktop/ESTUDIOS/Data Science Bootcamp/Projects/4. Capstone/Data')\n",
    "zipcodes.to_csv('zipcodes.csv')"
   ]
  },
  {
   "cell_type": "markdown",
   "metadata": {},
   "source": [
    "## 3. Prepare dataframe with census data from Phoenix"
   ]
  },
  {
   "cell_type": "markdown",
   "metadata": {},
   "source": [
    "### 3.1 Select census observations for Phoenix for which we have a zillow index"
   ]
  },
  {
   "cell_type": "code",
   "execution_count": 14,
   "metadata": {},
   "outputs": [],
   "source": [
    "os.chdir('C:/Users/Guillermo/Desktop/ESTUDIOS/Data Science Bootcamp/Projects/4. Capstone/Data')\n",
    "zillow_index = pd.read_csv('Zip_Zri_AllHomesPlusMultifamily.csv')\n",
    "zipcodes = pd.read_csv('zipcodes.csv')"
   ]
  },
  {
   "cell_type": "code",
   "execution_count": 15,
   "metadata": {},
   "outputs": [],
   "source": [
    "zipcodes['geo_id'] = zipcodes['geo_id'].apply(lambda x: int(x))"
   ]
  },
  {
   "cell_type": "code",
   "execution_count": 16,
   "metadata": {},
   "outputs": [],
   "source": [
    "# Create a list with zipcodes in Tampa for which a zillow index exists.\n",
    "tampa_zipcodes = list(zillow_index[zillow_index['City'] == 'Tampa']['RegionName'].unique())\n",
    "\n",
    "# Select from the zipcodes database the zipcodes for which we have the Zillow index.\n",
    "zipcodes_tampa = zipcodes[zipcodes['geo_id'].isin(tampa_zipcodes)]"
   ]
  },
  {
   "cell_type": "code",
   "execution_count": 17,
   "metadata": {},
   "outputs": [],
   "source": [
    "# Create a list with zipcodes in phoenix for which a zillow index exists.\n",
    "phoenix_zipcodes = list(zillow_index[zillow_index['City'] == 'Phoenix']['RegionName'].unique())\n",
    "\n",
    "# Select from the zipcodes database the zipcodes for which we have the Zillow index.\n",
    "zipcodes_phoenix = zipcodes[zipcodes['geo_id'].isin(phoenix_zipcodes)]"
   ]
  },
  {
   "cell_type": "markdown",
   "metadata": {},
   "source": [
    "### 3.2 Extend the dataframe to have monthly observations"
   ]
  },
  {
   "cell_type": "code",
   "execution_count": 18,
   "metadata": {},
   "outputs": [],
   "source": [
    "zipcodes_phoenix = pd.concat([zipcodes_phoenix]*12, ignore_index=True)"
   ]
  },
  {
   "cell_type": "code",
   "execution_count": 19,
   "metadata": {},
   "outputs": [],
   "source": [
    "zipcodes_tampa = pd.concat([zipcodes_tampa]*12, ignore_index=True)"
   ]
  },
  {
   "cell_type": "markdown",
   "metadata": {},
   "source": [
    "## 4. Merge the zillow index and the phoenix zipcodes dataframes"
   ]
  },
  {
   "cell_type": "markdown",
   "metadata": {},
   "source": [
    "#### Transform the types of the variables use to merge the dataframes to the same data type."
   ]
  },
  {
   "cell_type": "code",
   "execution_count": 20,
   "metadata": {},
   "outputs": [],
   "source": [
    "zipcodes_phoenix['geo_id'] = zipcodes_phoenix['geo_id'].astype(int)\n",
    "zillow_index['RegionName'] = zillow_index['RegionName'].astype(int)"
   ]
  },
  {
   "cell_type": "code",
   "execution_count": 21,
   "metadata": {},
   "outputs": [],
   "source": [
    "zipcodes_tampa['geo_id'] = zipcodes_tampa['geo_id'].astype(int)\n",
    "zillow_index['RegionName'] = zillow_index['RegionName'].astype(int)"
   ]
  },
  {
   "cell_type": "markdown",
   "metadata": {},
   "source": [
    "#### Merge dataframes"
   ]
  },
  {
   "cell_type": "code",
   "execution_count": 22,
   "metadata": {},
   "outputs": [],
   "source": [
    "df_phoenix = pd.merge(zillow_index, zipcodes_phoenix, how = 'inner', left_on = 'RegionName', right_on = 'geo_id')  "
   ]
  },
  {
   "cell_type": "code",
   "execution_count": 23,
   "metadata": {},
   "outputs": [],
   "source": [
    "df_tampa = pd.merge(zillow_index, zipcodes_tampa, how = 'inner', left_on = 'RegionName', right_on = 'geo_id')  "
   ]
  },
  {
   "cell_type": "code",
   "execution_count": 24,
   "metadata": {},
   "outputs": [
    {
     "data": {
      "text/plain": [
       "(4416, 375)"
      ]
     },
     "execution_count": 24,
     "metadata": {},
     "output_type": "execute_result"
    }
   ],
   "source": [
    "df_phoenix.shape"
   ]
  },
  {
   "cell_type": "code",
   "execution_count": 25,
   "metadata": {},
   "outputs": [
    {
     "data": {
      "text/plain": [
       "(1248, 375)"
      ]
     },
     "execution_count": 25,
     "metadata": {},
     "output_type": "execute_result"
    }
   ],
   "source": [
    "df_tampa.shape"
   ]
  },
  {
   "cell_type": "markdown",
   "metadata": {},
   "source": [
    "#### Save the merged dataframe to a csv file for analysis."
   ]
  },
  {
   "cell_type": "code",
   "execution_count": 26,
   "metadata": {},
   "outputs": [],
   "source": [
    "df_phoenix.to_csv('phoenix.csv')"
   ]
  },
  {
   "cell_type": "code",
   "execution_count": 27,
   "metadata": {},
   "outputs": [],
   "source": [
    "df_tampa.to_csv('tampa.csv')"
   ]
  }
 ],
 "metadata": {
  "kernelspec": {
   "display_name": "Python 3",
   "language": "python",
   "name": "python3"
  },
  "language_info": {
   "codemirror_mode": {
    "name": "ipython",
    "version": 3
   },
   "file_extension": ".py",
   "mimetype": "text/x-python",
   "name": "python",
   "nbconvert_exporter": "python",
   "pygments_lexer": "ipython3",
   "version": "3.7.4"
  }
 },
 "nbformat": 4,
 "nbformat_minor": 2
}
