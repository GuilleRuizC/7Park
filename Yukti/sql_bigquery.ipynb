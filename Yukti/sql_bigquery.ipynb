{
 "cells": [
  {
   "cell_type": "code",
   "execution_count": null,
   "id": "suspected-alberta",
   "metadata": {},
   "outputs": [],
   "source": [
    "pip install --upgrade pandas"
   ]
  },
  {
   "cell_type": "code",
   "execution_count": null,
   "id": "challenging-madison",
   "metadata": {},
   "outputs": [],
   "source": [
    "pip install --upgrade google-cloud-bigquery[pandas]"
   ]
  },
  {
   "cell_type": "code",
   "execution_count": 22,
   "id": "freelance-feedback",
   "metadata": {},
   "outputs": [
    {
     "name": "stdout",
     "output_type": "stream",
     "text": [
      "Collecting google-cloud-bigquery-storage\n",
      "  Downloading google_cloud_bigquery_storage-2.3.0-py2.py3-none-any.whl (142 kB)\n",
      "Collecting libcst>=0.2.5\n",
      "  Downloading libcst-0.3.17-py3-none-any.whl (507 kB)\n",
      "Requirement already satisfied: proto-plus>=1.4.0 in c:\\users\\ykath\\anaconda3\\lib\\site-packages (from google-cloud-bigquery-storage) (1.17.0)\n",
      "Requirement already satisfied: google-api-core[grpc]<2.0.0dev,>=1.22.2 in c:\\users\\ykath\\anaconda3\\lib\\site-packages (from google-cloud-bigquery-storage) (1.26.1)\n",
      "Requirement already satisfied: pyyaml>=5.2 in c:\\users\\ykath\\anaconda3\\lib\\site-packages (from libcst>=0.2.5->google-cloud-bigquery-storage) (5.3.1)\n",
      "Collecting typing-inspect>=0.4.0\n",
      "  Downloading typing_inspect-0.6.0-py3-none-any.whl (8.1 kB)\n",
      "Requirement already satisfied: typing-extensions>=3.7.4.2 in c:\\users\\ykath\\appdata\\roaming\\python\\python38\\site-packages (from libcst>=0.2.5->google-cloud-bigquery-storage) (3.7.4.3)\n",
      "Requirement already satisfied: protobuf>=3.12.0 in c:\\users\\ykath\\appdata\\roaming\\python\\python38\\site-packages (from proto-plus>=1.4.0->google-cloud-bigquery-storage) (3.13.0)\n",
      "Requirement already satisfied: six>=1.13.0 in c:\\users\\ykath\\anaconda3\\lib\\site-packages (from google-api-core[grpc]<2.0.0dev,>=1.22.2->google-cloud-bigquery-storage) (1.15.0)\n",
      "Requirement already satisfied: googleapis-common-protos<2.0dev,>=1.6.0 in c:\\users\\ykath\\anaconda3\\lib\\site-packages (from google-api-core[grpc]<2.0.0dev,>=1.22.2->google-cloud-bigquery-storage) (1.53.0)\n",
      "Requirement already satisfied: pytz in c:\\users\\ykath\\anaconda3\\lib\\site-packages (from google-api-core[grpc]<2.0.0dev,>=1.22.2->google-cloud-bigquery-storage) (2020.1)\n",
      "Requirement already satisfied: packaging>=14.3 in c:\\users\\ykath\\anaconda3\\lib\\site-packages (from google-api-core[grpc]<2.0.0dev,>=1.22.2->google-cloud-bigquery-storage) (20.4)\n",
      "Requirement already satisfied: requests<3.0.0dev,>=2.18.0 in c:\\users\\ykath\\anaconda3\\lib\\site-packages (from google-api-core[grpc]<2.0.0dev,>=1.22.2->google-cloud-bigquery-storage) (2.24.0)\n",
      "Requirement already satisfied: setuptools>=40.3.0 in c:\\users\\ykath\\anaconda3\\lib\\site-packages (from google-api-core[grpc]<2.0.0dev,>=1.22.2->google-cloud-bigquery-storage) (50.3.1.post20201107)\n",
      "Requirement already satisfied: google-auth<2.0dev,>=1.21.1 in c:\\users\\ykath\\anaconda3\\lib\\site-packages (from google-api-core[grpc]<2.0.0dev,>=1.22.2->google-cloud-bigquery-storage) (1.27.1)\n",
      "Requirement already satisfied: grpcio<2.0dev,>=1.29.0; extra == \"grpc\" in c:\\users\\ykath\\appdata\\roaming\\python\\python38\\site-packages (from google-api-core[grpc]<2.0.0dev,>=1.22.2->google-cloud-bigquery-storage) (1.32.0)\n",
      "Collecting mypy-extensions>=0.3.0\n",
      "  Downloading mypy_extensions-0.4.3-py2.py3-none-any.whl (4.5 kB)\n",
      "Requirement already satisfied: pyparsing>=2.0.2 in c:\\users\\ykath\\anaconda3\\lib\\site-packages (from packaging>=14.3->google-api-core[grpc]<2.0.0dev,>=1.22.2->google-cloud-bigquery-storage) (2.4.7)\n",
      "Requirement already satisfied: idna<3,>=2.5 in c:\\users\\ykath\\anaconda3\\lib\\site-packages (from requests<3.0.0dev,>=2.18.0->google-api-core[grpc]<2.0.0dev,>=1.22.2->google-cloud-bigquery-storage) (2.10)\n",
      "Requirement already satisfied: certifi>=2017.4.17 in c:\\users\\ykath\\anaconda3\\lib\\site-packages (from requests<3.0.0dev,>=2.18.0->google-api-core[grpc]<2.0.0dev,>=1.22.2->google-cloud-bigquery-storage) (2020.12.5)\n",
      "Requirement already satisfied: chardet<4,>=3.0.2 in c:\\users\\ykath\\anaconda3\\lib\\site-packages (from requests<3.0.0dev,>=2.18.0->google-api-core[grpc]<2.0.0dev,>=1.22.2->google-cloud-bigquery-storage) (3.0.4)\n",
      "Requirement already satisfied: urllib3!=1.25.0,!=1.25.1,<1.26,>=1.21.1 in c:\\users\\ykath\\anaconda3\\lib\\site-packages (from requests<3.0.0dev,>=2.18.0->google-api-core[grpc]<2.0.0dev,>=1.22.2->google-cloud-bigquery-storage) (1.25.11)\n",
      "Requirement already satisfied: pyasn1-modules>=0.2.1 in c:\\users\\ykath\\appdata\\roaming\\python\\python38\\site-packages (from google-auth<2.0dev,>=1.21.1->google-api-core[grpc]<2.0.0dev,>=1.22.2->google-cloud-bigquery-storage) (0.2.8)\n",
      "Requirement already satisfied: rsa<5,>=3.1.4; python_version >= \"3.6\" in c:\\users\\ykath\\appdata\\roaming\\python\\python38\\site-packages (from google-auth<2.0dev,>=1.21.1->google-api-core[grpc]<2.0.0dev,>=1.22.2->google-cloud-bigquery-storage) (4.6)\n",
      "Requirement already satisfied: cachetools<5.0,>=2.0.0 in c:\\users\\ykath\\appdata\\roaming\\python\\python38\\site-packages (from google-auth<2.0dev,>=1.21.1->google-api-core[grpc]<2.0.0dev,>=1.22.2->google-cloud-bigquery-storage) (4.1.1)\n",
      "Requirement already satisfied: pyasn1<0.5.0,>=0.4.6 in c:\\users\\ykath\\appdata\\roaming\\python\\python38\\site-packages (from pyasn1-modules>=0.2.1->google-auth<2.0dev,>=1.21.1->google-api-core[grpc]<2.0.0dev,>=1.22.2->google-cloud-bigquery-storage) (0.4.8)\n",
      "Installing collected packages: mypy-extensions, typing-inspect, libcst, google-cloud-bigquery-storage\n",
      "Successfully installed google-cloud-bigquery-storage-2.3.0 libcst-0.3.17 mypy-extensions-0.4.3 typing-inspect-0.6.0\n",
      "Note: you may need to restart the kernel to use updated packages.\n"
     ]
    }
   ],
   "source": [
    "pip install google-cloud-bigquery-storage"
   ]
  },
  {
   "cell_type": "code",
   "execution_count": 10,
   "id": "difficult-moisture",
   "metadata": {},
   "outputs": [
    {
     "name": "stdout",
     "output_type": "stream",
     "text": [
      "Collecting google-cloud-storageNote: you may need to restart the kernel to use updated packages.\n",
      "  Downloading google_cloud_storage-1.36.2-py2.py3-none-any.whl (97 kB)\n",
      "Requirement already satisfied, skipping upgrade: requests<3.0.0dev,>=2.18.0 in c:\\users\\ykath\\anaconda3\\lib\\site-packages (from google-cloud-storage) (2.24.0)\n",
      "Requirement already satisfied, skipping upgrade: google-resumable-media<2.0dev,>=1.2.0 in c:\\users\\ykath\\anaconda3\\lib\\site-packages (from google-cloud-storage) (1.2.0)\n",
      "Requirement already satisfied, skipping upgrade: google-auth<2.0dev,>=1.11.0 in c:\\users\\ykath\\anaconda3\\lib\\site-packages (from google-cloud-storage) (1.27.1)\n",
      "Requirement already satisfied, skipping upgrade: google-cloud-core<2.0dev,>=1.4.1 in c:\\users\\ykath\\anaconda3\\lib\\site-packages (from google-cloud-storage) (1.6.0)\n",
      "Requirement already satisfied, skipping upgrade: idna<3,>=2.5 in c:\\users\\ykath\\anaconda3\\lib\\site-packages (from requests<3.0.0dev,>=2.18.0->google-cloud-storage) (2.10)\n",
      "Requirement already satisfied, skipping upgrade: certifi>=2017.4.17 in c:\\users\\ykath\\anaconda3\\lib\\site-packages (from requests<3.0.0dev,>=2.18.0->google-cloud-storage) (2020.12.5)\n",
      "Requirement already satisfied, skipping upgrade: urllib3!=1.25.0,!=1.25.1,<1.26,>=1.21.1 in c:\\users\\ykath\\anaconda3\\lib\\site-packages (from requests<3.0.0dev,>=2.18.0->google-cloud-storage) (1.25.11)\n",
      "Requirement already satisfied, skipping upgrade: chardet<4,>=3.0.2 in c:\\users\\ykath\\anaconda3\\lib\\site-packages (from requests<3.0.0dev,>=2.18.0->google-cloud-storage) (3.0.4)\n",
      "\n",
      "Requirement already satisfied, skipping upgrade: six in c:\\users\\ykath\\anaconda3\\lib\\site-packages (from google-resumable-media<2.0dev,>=1.2.0->google-cloud-storage) (1.15.0)\n",
      "Requirement already satisfied, skipping upgrade: google-crc32c<2.0dev,>=1.0; python_version >= \"3.5\" in c:\\users\\ykath\\anaconda3\\lib\\site-packages (from google-resumable-media<2.0dev,>=1.2.0->google-cloud-storage) (1.1.2)\n",
      "Requirement already satisfied, skipping upgrade: cachetools<5.0,>=2.0.0 in c:\\users\\ykath\\appdata\\roaming\\python\\python38\\site-packages (from google-auth<2.0dev,>=1.11.0->google-cloud-storage) (4.1.1)\n",
      "Requirement already satisfied, skipping upgrade: pyasn1-modules>=0.2.1 in c:\\users\\ykath\\appdata\\roaming\\python\\python38\\site-packages (from google-auth<2.0dev,>=1.11.0->google-cloud-storage) (0.2.8)\n",
      "Requirement already satisfied, skipping upgrade: setuptools>=40.3.0 in c:\\users\\ykath\\anaconda3\\lib\\site-packages (from google-auth<2.0dev,>=1.11.0->google-cloud-storage) (50.3.1.post20201107)\n",
      "Requirement already satisfied, skipping upgrade: rsa<5,>=3.1.4; python_version >= \"3.6\" in c:\\users\\ykath\\appdata\\roaming\\python\\python38\\site-packages (from google-auth<2.0dev,>=1.11.0->google-cloud-storage) (4.6)\n",
      "Requirement already satisfied, skipping upgrade: google-api-core<2.0.0dev,>=1.21.0 in c:\\users\\ykath\\anaconda3\\lib\\site-packages (from google-cloud-core<2.0dev,>=1.4.1->google-cloud-storage) (1.26.1)\n",
      "Requirement already satisfied, skipping upgrade: cffi>=1.0.0 in c:\\users\\ykath\\anaconda3\\lib\\site-packages (from google-crc32c<2.0dev,>=1.0; python_version >= \"3.5\"->google-resumable-media<2.0dev,>=1.2.0->google-cloud-storage) (1.14.3)\n",
      "Requirement already satisfied, skipping upgrade: pyasn1<0.5.0,>=0.4.6 in c:\\users\\ykath\\appdata\\roaming\\python\\python38\\site-packages (from pyasn1-modules>=0.2.1->google-auth<2.0dev,>=1.11.0->google-cloud-storage) (0.4.8)\n",
      "Requirement already satisfied, skipping upgrade: packaging>=14.3 in c:\\users\\ykath\\anaconda3\\lib\\site-packages (from google-api-core<2.0.0dev,>=1.21.0->google-cloud-core<2.0dev,>=1.4.1->google-cloud-storage) (20.4)\n",
      "Requirement already satisfied, skipping upgrade: googleapis-common-protos<2.0dev,>=1.6.0 in c:\\users\\ykath\\anaconda3\\lib\\site-packages (from google-api-core<2.0.0dev,>=1.21.0->google-cloud-core<2.0dev,>=1.4.1->google-cloud-storage) (1.53.0)\n",
      "Requirement already satisfied, skipping upgrade: protobuf>=3.12.0 in c:\\users\\ykath\\appdata\\roaming\\python\\python38\\site-packages (from google-api-core<2.0.0dev,>=1.21.0->google-cloud-core<2.0dev,>=1.4.1->google-cloud-storage) (3.13.0)\n",
      "Requirement already satisfied, skipping upgrade: pytz in c:\\users\\ykath\\anaconda3\\lib\\site-packages (from google-api-core<2.0.0dev,>=1.21.0->google-cloud-core<2.0dev,>=1.4.1->google-cloud-storage) (2020.1)\n",
      "Requirement already satisfied, skipping upgrade: pycparser in c:\\users\\ykath\\anaconda3\\lib\\site-packages (from cffi>=1.0.0->google-crc32c<2.0dev,>=1.0; python_version >= \"3.5\"->google-resumable-media<2.0dev,>=1.2.0->google-cloud-storage) (2.20)\n",
      "Requirement already satisfied, skipping upgrade: pyparsing>=2.0.2 in c:\\users\\ykath\\anaconda3\\lib\\site-packages (from packaging>=14.3->google-api-core<2.0.0dev,>=1.21.0->google-cloud-core<2.0dev,>=1.4.1->google-cloud-storage) (2.4.7)\n",
      "Installing collected packages: google-cloud-storage\n",
      "Successfully installed google-cloud-storage-1.36.2\n"
     ]
    }
   ],
   "source": [
    "pip install --upgrade google-cloud-storage"
   ]
  },
  {
   "cell_type": "code",
   "execution_count": 23,
   "id": "junior-raise",
   "metadata": {},
   "outputs": [
    {
     "name": "stdout",
     "output_type": "stream",
     "text": [
      "Requirement already satisfied: pyarrow in c:\\users\\ykath\\anaconda3\\lib\\site-packages (3.0.0)\n",
      "Requirement already satisfied: numpy>=1.16.6 in c:\\users\\ykath\\appdata\\roaming\\python\\python38\\site-packages (from pyarrow) (1.19.5)\n",
      "Note: you may need to restart the kernel to use updated packages.\n"
     ]
    }
   ],
   "source": [
    "pip install pyarrow"
   ]
  },
  {
   "cell_type": "code",
   "execution_count": 3,
   "id": "unlikely-fountain",
   "metadata": {},
   "outputs": [],
   "source": [
    "import os\n",
    "os.environ[\"GOOGLE_APPLICATION_CREDENTIALS\"] = \"C:/Users/ykath/Downloads/eastern-perigee-307720-5e9eb7dab12e.json\""
   ]
  },
  {
   "cell_type": "code",
   "execution_count": 5,
   "id": "canadian-balance",
   "metadata": {},
   "outputs": [
    {
     "name": "stdout",
     "output_type": "stream",
     "text": [
      "Bucket yukti-new-bucket created.\n"
     ]
    }
   ],
   "source": [
    "# Imports the Google Cloud client library\n",
    "from google.cloud import storage\n",
    "\n",
    "# Instantiates a client\n",
    "storage_client = storage.Client()\n",
    "\n",
    "# The name for the new bucket\n",
    "bucket_name = \"yukti-new-bucket\"\n",
    "\n",
    "# Creates the new bucket\n",
    "bucket = storage_client.create_bucket(bucket_name)\n",
    "\n",
    "print(\"Bucket {} created.\".format(bucket.name))"
   ]
  },
  {
   "cell_type": "code",
   "execution_count": 6,
   "id": "enhanced-therapist",
   "metadata": {},
   "outputs": [],
   "source": [
    "%reload_ext google.cloud.bigquery"
   ]
  },
  {
   "cell_type": "code",
   "execution_count": 21,
   "id": "august-focus",
   "metadata": {},
   "outputs": [
    {
     "name": "stderr",
     "output_type": "stream",
     "text": [
      "Query complete after 0.01s: 100%|████████████████████████████████████████████████████| 1/1 [00:00<00:00, 152.43query/s]\n",
      "Downloading: 100%|█████████████████████████████████████████████████████████████████████| 1/1 [00:02<00:00,  2.26s/rows]\n"
     ]
    },
    {
     "data": {
      "text/html": [
       "<div>\n",
       "<style scoped>\n",
       "    .dataframe tbody tr th:only-of-type {\n",
       "        vertical-align: middle;\n",
       "    }\n",
       "\n",
       "    .dataframe tbody tr th {\n",
       "        vertical-align: top;\n",
       "    }\n",
       "\n",
       "    .dataframe thead th {\n",
       "        text-align: right;\n",
       "    }\n",
       "</style>\n",
       "<table border=\"1\" class=\"dataframe\">\n",
       "  <thead>\n",
       "    <tr style=\"text-align: right;\">\n",
       "      <th></th>\n",
       "      <th>median_income</th>\n",
       "    </tr>\n",
       "  </thead>\n",
       "  <tbody>\n",
       "    <tr>\n",
       "      <th>0</th>\n",
       "      <td>51759.0</td>\n",
       "    </tr>\n",
       "  </tbody>\n",
       "</table>\n",
       "</div>"
      ],
      "text/plain": [
       "   median_income\n",
       "0        51759.0"
      ]
     },
     "execution_count": 21,
     "metadata": {},
     "output_type": "execute_result"
    }
   ],
   "source": [
    "%%bigquery\n",
    "SELECT \n",
    "    PERCENTILE_CONT(median_income, 0.5) OVER() as median_income\n",
    "FROM `bigquery-public-data`.census_bureau_acs.blockgroup_2018_5yr\n",
    "WHERE geo_id LIKE '12%'\n",
    "LIMIT 1;"
   ]
  },
  {
   "cell_type": "code",
   "execution_count": 23,
   "id": "adjustable-flood",
   "metadata": {},
   "outputs": [
    {
     "name": "stderr",
     "output_type": "stream",
     "text": [
      "Query complete after 0.00s: 100%|███████████████████████████████████████████████████| 1/1 [00:00<00:00, 1001.27query/s]\n",
      "Downloading: 100%|█████████████████████████████████████████████████████████████████████| 1/1 [00:01<00:00,  1.82s/rows]\n"
     ]
    },
    {
     "data": {
      "text/html": [
       "<div>\n",
       "<style scoped>\n",
       "    .dataframe tbody tr th:only-of-type {\n",
       "        vertical-align: middle;\n",
       "    }\n",
       "\n",
       "    .dataframe tbody tr th {\n",
       "        vertical-align: top;\n",
       "    }\n",
       "\n",
       "    .dataframe thead th {\n",
       "        text-align: right;\n",
       "    }\n",
       "</style>\n",
       "<table border=\"1\" class=\"dataframe\">\n",
       "  <thead>\n",
       "    <tr style=\"text-align: right;\">\n",
       "      <th></th>\n",
       "      <th>ninety_quartile_income</th>\n",
       "    </tr>\n",
       "  </thead>\n",
       "  <tbody>\n",
       "    <tr>\n",
       "      <th>0</th>\n",
       "      <td>95353.8</td>\n",
       "    </tr>\n",
       "  </tbody>\n",
       "</table>\n",
       "</div>"
      ],
      "text/plain": [
       "   ninety_quartile_income\n",
       "0                 95353.8"
      ]
     },
     "execution_count": 23,
     "metadata": {},
     "output_type": "execute_result"
    }
   ],
   "source": [
    "%%bigquery\n",
    "SELECT \n",
    "    PERCENTILE_CONT(median_income, 0.9) OVER() as ninety_quartile_income\n",
    "FROM `bigquery-public-data`.census_bureau_acs.blockgroup_2018_5yr\n",
    "WHERE geo_id LIKE '12%'\n",
    "LIMIT 1;"
   ]
  },
  {
   "cell_type": "code",
   "execution_count": 8,
   "id": "wrong-channels",
   "metadata": {},
   "outputs": [
    {
     "name": "stderr",
     "output_type": "stream",
     "text": [
      "Query complete after 0.00s: 100%|███████████████████████████████████████████████████| 2/2 [00:00<00:00, 1364.00query/s]\n",
      "Downloading: 100%|█████████████████████████████████████████████████████████████████████| 1/1 [00:01<00:00,  1.66s/rows]\n"
     ]
    },
    {
     "data": {
      "text/html": [
       "<div>\n",
       "<style scoped>\n",
       "    .dataframe tbody tr th:only-of-type {\n",
       "        vertical-align: middle;\n",
       "    }\n",
       "\n",
       "    .dataframe tbody tr th {\n",
       "        vertical-align: top;\n",
       "    }\n",
       "\n",
       "    .dataframe thead th {\n",
       "        text-align: right;\n",
       "    }\n",
       "</style>\n",
       "<table border=\"1\" class=\"dataframe\">\n",
       "  <thead>\n",
       "    <tr style=\"text-align: right;\">\n",
       "      <th></th>\n",
       "      <th>f0_</th>\n",
       "    </tr>\n",
       "  </thead>\n",
       "  <tbody>\n",
       "    <tr>\n",
       "      <th>0</th>\n",
       "      <td>32286.942509</td>\n",
       "    </tr>\n",
       "  </tbody>\n",
       "</table>\n",
       "</div>"
      ],
      "text/plain": [
       "            f0_\n",
       "0  32286.942509"
      ]
     },
     "execution_count": 8,
     "metadata": {},
     "output_type": "execute_result"
    }
   ],
   "source": [
    "%%bigquery\n",
    "SELECT \n",
    "    avg(income_per_capita)\n",
    "FROM `bigquery-public-data`.census_bureau_acs.blockgroup_2018_5yr;"
   ]
  },
  {
   "cell_type": "code",
   "execution_count": 14,
   "id": "chief-female",
   "metadata": {},
   "outputs": [
    {
     "name": "stderr",
     "output_type": "stream",
     "text": [
      "Query complete after 0.00s: 100%|████████████████████████████████████████████████████| 1/1 [00:00<00:00, 997.69query/s]\n",
      "Downloading: 100%|███████████████████████████████████████████████████████| 220333/220333 [00:01<00:00, 120519.93rows/s]\n"
     ]
    }
   ],
   "source": [
    "%%bigquery income\n",
    "SELECT \n",
    "    income_per_capita AS income\n",
    "FROM `bigquery-public-data`.census_bureau_acs.blockgroup_2018_5yr;"
   ]
  },
  {
   "cell_type": "code",
   "execution_count": 19,
   "id": "looking-enforcement",
   "metadata": {},
   "outputs": [],
   "source": [
    "import matplotlib.pyplot as plt\n",
    "import numpy as np"
   ]
  },
  {
   "cell_type": "code",
   "execution_count": 1,
   "id": "stylish-sweden",
   "metadata": {},
   "outputs": [
    {
     "ename": "NameError",
     "evalue": "name 'plt' is not defined",
     "output_type": "error",
     "traceback": [
      "\u001b[1;31m---------------------------------------------------------------------------\u001b[0m",
      "\u001b[1;31mNameError\u001b[0m                                 Traceback (most recent call last)",
      "\u001b[1;32m<ipython-input-1-498ef57d2fba>\u001b[0m in \u001b[0;36m<module>\u001b[1;34m\u001b[0m\n\u001b[0;32m      1\u001b[0m \u001b[0mget_ipython\u001b[0m\u001b[1;33m(\u001b[0m\u001b[1;33m)\u001b[0m\u001b[1;33m.\u001b[0m\u001b[0mrun_line_magic\u001b[0m\u001b[1;33m(\u001b[0m\u001b[1;34m'matplotlib'\u001b[0m\u001b[1;33m,\u001b[0m \u001b[1;34m'inline'\u001b[0m\u001b[1;33m)\u001b[0m\u001b[1;33m\u001b[0m\u001b[1;33m\u001b[0m\u001b[0m\n\u001b[1;32m----> 2\u001b[1;33m n, bins, patches = plt.hist(x=income, bins='auto', color='#0504aa',\n\u001b[0m\u001b[0;32m      3\u001b[0m                             alpha=0.7, rwidth=0.85)\n\u001b[0;32m      4\u001b[0m \u001b[0mplt\u001b[0m\u001b[1;33m.\u001b[0m\u001b[0mxlabel\u001b[0m\u001b[1;33m(\u001b[0m\u001b[1;34m'Value'\u001b[0m\u001b[1;33m)\u001b[0m\u001b[1;33m\u001b[0m\u001b[1;33m\u001b[0m\u001b[0m\n\u001b[0;32m      5\u001b[0m \u001b[0mplt\u001b[0m\u001b[1;33m.\u001b[0m\u001b[0mylabel\u001b[0m\u001b[1;33m(\u001b[0m\u001b[1;34m'Frequency'\u001b[0m\u001b[1;33m)\u001b[0m\u001b[1;33m\u001b[0m\u001b[1;33m\u001b[0m\u001b[0m\n",
      "\u001b[1;31mNameError\u001b[0m: name 'plt' is not defined"
     ]
    }
   ],
   "source": [
    "%matplotlib inline\n",
    "n, bins, patches = plt.hist(x=income, bins='auto', color='#0504aa',\n",
    "                            alpha=0.7, rwidth=0.85)\n",
    "plt.xlabel('Value')\n",
    "plt.ylabel('Frequency')\n",
    "plt.title('Histogram of Income Per Capita')\n",
    "maxfreq = n.max()\n",
    "# Set a clean upper y-axis limit.\n",
    "# plt.ylim(ymax=np.ceil(maxfreq / 10) * 10 if maxfreq % 10 else maxfreq + 10)"
   ]
  },
  {
   "cell_type": "code",
   "execution_count": null,
   "id": "searching-ladder",
   "metadata": {},
   "outputs": [],
   "source": [
    "#incomes are right skewed. This means that the mode of the income is smaller than the mean and median of income."
   ]
  },
  {
   "cell_type": "code",
   "execution_count": null,
   "id": "indonesian-trouble",
   "metadata": {},
   "outputs": [],
   "source": []
  }
 ],
 "metadata": {
  "kernelspec": {
   "display_name": "Python 3",
   "language": "python",
   "name": "python3"
  },
  "language_info": {
   "codemirror_mode": {
    "name": "ipython",
    "version": 3
   },
   "file_extension": ".py",
   "mimetype": "text/x-python",
   "name": "python",
   "nbconvert_exporter": "python",
   "pygments_lexer": "ipython3",
   "version": "3.8.5"
  }
 },
 "nbformat": 4,
 "nbformat_minor": 5
}
