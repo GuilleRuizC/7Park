{
 "cells": [
  {
   "cell_type": "markdown",
   "metadata": {},
   "source": [
    "## Feature Engineering (Attempt 1)\n",
    "#### This attempt focuses on grouping extra columns together to reduce the dimensionality of the demographic data from ACS."
   ]
  },
  {
   "cell_type": "markdown",
   "metadata": {},
   "source": [
    "### This file is primarily for the purpose of feature engineering to produce a final clean dataframe with all values from ACS and ZRI together. Data generated here will be used for the purpose of training the models."
   ]
  },
  {
   "cell_type": "code",
   "execution_count": null,
   "metadata": {},
   "outputs": [],
   "source": [
    "import pandas as pd\n",
    "import numpy as np\n",
    "pd.set_option('display.max_columns', None)\n",
    "pd.set_option(\"max_rows\", None)\n",
    "from matplotlib import pyplot as plt\n",
    "%matplotlib inline\n",
    "from google.cloud import bigquery\n",
    "import os\n",
    "os.environ[\"GOOGLE_APPLICATION_CREDENTIALS\"]=\"./utility-vista-307720-6cec755818c9.json\"\n",
    "client = bigquery.Client()\n",
    "%load_ext google.cloud.bigquery\n"
   ]
  },
  {
   "cell_type": "markdown",
   "metadata": {},
   "source": [
    "### Extracting data from years 2015-2017 from Google BigQuery"
   ]
  },
  {
   "cell_type": "code",
   "execution_count": null,
   "metadata": {},
   "outputs": [],
   "source": [
    "\n",
    "\n",
    "%%bigquery acs_zip_codes_2015_5yr\n",
    "SELECT *\n",
    "FROM\n",
    "    `bigquery-public-data.census_bureau_acs.zip_codes_2015_5yr`\n",
    "WHERE geo_id in ('85032', '85281', '85225', '85308', '85142', '85251', '85282',\n",
    "       '85383', '85204', '85345', '85301', '85022', '85008', '85255',\n",
    "       '85201', '85326', '85351', '85338', '85205', '85374', '85254',\n",
    "       '85248', '85207', '85122', '85016', '85224', '85283', '85209',\n",
    "       '85018', '85382', '85260', '85044', '85029', '85041', '85206',\n",
    "       '85234', '85020', '85295', '85208', '85021', '85202', '85296',\n",
    "       '85249', '85286', '85027', '85226', '85015', '85051', '85086',\n",
    "       '85033', '85120', '85302', '85210', '85138', '85035', '85379',\n",
    "       '85042', '85233', '85213', '85037', '85257', '85023', '85339',\n",
    "       '85212', '85143', '85140', '85048', '85014', '85323', '85395',\n",
    "       '85392', '85268', '85203', '85050', '85009', '85331', '85017',\n",
    "       '85053', '85340', '85353', '85396', '85119', '85024', '85132',\n",
    "       '85335', '85013', '85085', '85040', '85381', '85304', '85303',\n",
    "       '85388', '85306', '85006', '85373', '85250', '85043', '85215',\n",
    "       '85028', '85031', '85019', '85284', '85262', '85118', '85139',\n",
    "       '85310', '85083', '85266', '85128', '85007', '85305', '85004',\n",
    "       '85003', '85131', '85390', '85012', '85355', '85123', '85087',\n",
    "       '85378', '85307', '85194', '85363', '85045', '85361', '85623',\n",
    "       '85034', '85263', '85377', '85631', '85173');"
   ]
  },
  {
   "cell_type": "code",
   "execution_count": null,
   "metadata": {},
   "outputs": [],
   "source": [
    "%%bigquery acs_zip_codes_2016_5yr\n",
    "SELECT *\n",
    "FROM\n",
    "    `bigquery-public-data.census_bureau_acs.zip_codes_2016_5yr`\n",
    "WHERE geo_id in ('85032', '85281', '85225', '85308', '85142', '85251', '85282',\n",
    "       '85383', '85204', '85345', '85301', '85022', '85008', '85255',\n",
    "       '85201', '85326', '85351', '85338', '85205', '85374', '85254',\n",
    "       '85248', '85207', '85122', '85016', '85224', '85283', '85209',\n",
    "       '85018', '85382', '85260', '85044', '85029', '85041', '85206',\n",
    "       '85234', '85020', '85295', '85208', '85021', '85202', '85296',\n",
    "       '85249', '85286', '85027', '85226', '85015', '85051', '85086',\n",
    "       '85033', '85120', '85302', '85210', '85138', '85035', '85379',\n",
    "       '85042', '85233', '85213', '85037', '85257', '85023', '85339',\n",
    "       '85212', '85143', '85140', '85048', '85014', '85323', '85395',\n",
    "       '85392', '85268', '85203', '85050', '85009', '85331', '85017',\n",
    "       '85053', '85340', '85353', '85396', '85119', '85024', '85132',\n",
    "       '85335', '85013', '85085', '85040', '85381', '85304', '85303',\n",
    "       '85388', '85306', '85006', '85373', '85250', '85043', '85215',\n",
    "       '85028', '85031', '85019', '85284', '85262', '85118', '85139',\n",
    "       '85310', '85083', '85266', '85128', '85007', '85305', '85004',\n",
    "       '85003', '85131', '85390', '85012', '85355', '85123', '85087',\n",
    "       '85378', '85307', '85194', '85363', '85045', '85361', '85623',\n",
    "       '85034', '85263', '85377', '85631', '85173');"
   ]
  },
  {
   "cell_type": "code",
   "execution_count": null,
   "metadata": {},
   "outputs": [],
   "source": [
    "%%bigquery acs_zip_codes_2017_5yr\n",
    "SELECT *\n",
    "FROM\n",
    "    `bigquery-public-data.census_bureau_acs.zip_codes_2017_5yr`\n",
    "WHERE geo_id in ('85032', '85281', '85225', '85308', '85142', '85251', '85282',\n",
    "       '85383', '85204', '85345', '85301', '85022', '85008', '85255',\n",
    "       '85201', '85326', '85351', '85338', '85205', '85374', '85254',\n",
    "       '85248', '85207', '85122', '85016', '85224', '85283', '85209',\n",
    "       '85018', '85382', '85260', '85044', '85029', '85041', '85206',\n",
    "       '85234', '85020', '85295', '85208', '85021', '85202', '85296',\n",
    "       '85249', '85286', '85027', '85226', '85015', '85051', '85086',\n",
    "       '85033', '85120', '85302', '85210', '85138', '85035', '85379',\n",
    "       '85042', '85233', '85213', '85037', '85257', '85023', '85339',\n",
    "       '85212', '85143', '85140', '85048', '85014', '85323', '85395',\n",
    "       '85392', '85268', '85203', '85050', '85009', '85331', '85017',\n",
    "       '85053', '85340', '85353', '85396', '85119', '85024', '85132',\n",
    "       '85335', '85013', '85085', '85040', '85381', '85304', '85303',\n",
    "       '85388', '85306', '85006', '85373', '85250', '85043', '85215',\n",
    "       '85028', '85031', '85019', '85284', '85262', '85118', '85139',\n",
    "       '85310', '85083', '85266', '85128', '85007', '85305', '85004',\n",
    "       '85003', '85131', '85390', '85012', '85355', '85123', '85087',\n",
    "       '85378', '85307', '85194', '85363', '85045', '85361', '85623',\n",
    "       '85034', '85263', '85377', '85631', '85173');"
   ]
  },
  {
   "cell_type": "code",
   "execution_count": null,
   "metadata": {},
   "outputs": [],
   "source": [
    "acs_zip_codes_2015_5yr[\"Year\"]=2015\n",
    "acs_zip_codes_2016_5yr[\"Year\"]=2016\n",
    "acs_zip_codes_2017_5yr[\"Year\"]=2017"
   ]
  },
  {
   "cell_type": "code",
   "execution_count": null,
   "metadata": {},
   "outputs": [],
   "source": [
    "acs_cols_2015=acs_zip_codes_2015_5yr.columns\n",
    "acs_cols_2016=acs_zip_codes_2016_5yr.columns\n",
    "acs_cols_2017=acs_zip_codes_2017_5yr.columns"
   ]
  },
  {
   "cell_type": "code",
   "execution_count": null,
   "metadata": {},
   "outputs": [],
   "source": [
    "acs_cols_2017.tolist().index('pop_separated')"
   ]
  },
  {
   "cell_type": "code",
   "execution_count": null,
   "metadata": {},
   "outputs": [],
   "source": [
    "common_columns=list((((\n",
    "(set(acs_cols_2015))).intersection(set(acs_cols_2016)))\n",
    "                    .intersection(set(acs_cols_2017))))"
   ]
  },
  {
   "cell_type": "code",
   "execution_count": null,
   "metadata": {},
   "outputs": [],
   "source": [
    "frames=[acs_zip_codes_2015_5yr[common_columns],\n",
    "        acs_zip_codes_2016_5yr[common_columns],\n",
    "        acs_zip_codes_2017_5yr[common_columns]]\n",
    "acs_all_phoenix=pd.concat(frames)"
   ]
  },
  {
   "cell_type": "code",
   "execution_count": null,
   "metadata": {},
   "outputs": [],
   "source": [
    "acs_all_phoenix.head()\n",
    "acs_all_phoenix.shape"
   ]
  },
  {
   "cell_type": "markdown",
   "metadata": {},
   "source": [
    "#### Calculating the extent of missingness in the data we have collected from 2015-2017"
   ]
  },
  {
   "cell_type": "code",
   "execution_count": null,
   "metadata": {},
   "outputs": [],
   "source": [
    "missingRowsACS = pd.isnull(acs_all_phoenix).sum(axis=1) > 0\n",
    "missingColsACS = pd.isnull(acs_all_phoenix).sum(axis=0) > 0\n",
    "print(missingColsACS.sum())\n",
    "print(missingRowsACS.sum())"
   ]
  },
  {
   "cell_type": "code",
   "execution_count": null,
   "metadata": {},
   "outputs": [],
   "source": [
    "#Drop columns that have missing data for 2 or more zipcodes\n",
    "for col in acs_all_phoenix.columns[missingColsACS]:\n",
    "    if pd.isnull(acs_all_phoenix[col]).sum()>=0: \n",
    "        print(f\"Dropping {col} from ACS\")\n",
    "        acs_all_phoenix.drop(col,axis=1,inplace=True)"
   ]
  },
  {
   "cell_type": "code",
   "execution_count": null,
   "metadata": {},
   "outputs": [],
   "source": [
    "acs_all_phoenix.shape"
   ]
  },
  {
   "cell_type": "code",
   "execution_count": null,
   "metadata": {},
   "outputs": [],
   "source": [
    "acs_all_phoenix.isnull().sum()"
   ]
  },
  {
   "cell_type": "code",
   "execution_count": null,
   "metadata": {},
   "outputs": [],
   "source": [
    "acs_all_phoenix = acs_all_phoenix.reindex(sorted(acs_all_phoenix.columns), axis=1)"
   ]
  },
  {
   "cell_type": "code",
   "execution_count": null,
   "metadata": {},
   "outputs": [],
   "source": [
    "acs_all_phoenix.columns.tolist()"
   ]
  },
  {
   "cell_type": "markdown",
   "metadata": {},
   "source": [
    "#### Grouping female age columns together"
   ]
  },
  {
   "cell_type": "code",
   "execution_count": null,
   "metadata": {},
   "outputs": [],
   "source": [
    "female_under_18 = acs_all_phoenix.female_under_5 + acs_all_phoenix.female_5_to_9 + acs_all_phoenix.female_10_to_14 + acs_all_phoenix.female_15_to_17 + acs_all_phoenix.female_18_to_19\n",
    "female_under_60 = acs_all_phoenix.female_20 + acs_all_phoenix.female_21 + acs_all_phoenix.female_22_to_24 + acs_all_phoenix.female_25_to_29 + acs_all_phoenix.female_30_to_34 + acs_all_phoenix.female_35_to_39 + acs_all_phoenix.female_40_to_44 + acs_all_phoenix.female_45_to_49 + acs_all_phoenix.female_50_to_54 + acs_all_phoenix.female_55_to_59 \n",
    "female_over_60 = acs_all_phoenix.female_60_to_61 + acs_all_phoenix.female_62_to_64 + acs_all_phoenix.female_65_to_66 + acs_all_phoenix.female_67_to_69 + acs_all_phoenix.female_70_to_74 + acs_all_phoenix.female_75_to_79 + acs_all_phoenix.female_80_to_84 + acs_all_phoenix.female_85_and_over"
   ]
  },
  {
   "cell_type": "code",
   "execution_count": null,
   "metadata": {},
   "outputs": [],
   "source": [
    "female_under_18 = female_under_18.astype(float)\n",
    "female_under_60 = female_under_60.astype(float)\n",
    "female_over_60 = female_over_60.astype(float)"
   ]
  },
  {
   "cell_type": "markdown",
   "metadata": {},
   "source": [
    "#### Grouping male age columns together"
   ]
  },
  {
   "cell_type": "code",
   "execution_count": null,
   "metadata": {},
   "outputs": [],
   "source": [
    "male_under_18 = acs_all_phoenix.male_under_5 + acs_all_phoenix.male_5_to_9 + acs_all_phoenix.male_10_to_14 + acs_all_phoenix.male_15_to_17 + acs_all_phoenix.male_18_to_19\n",
    "male_under_60 = acs_all_phoenix.male_20 + acs_all_phoenix.male_21 + acs_all_phoenix.male_22_to_24 + acs_all_phoenix.male_25_to_29 + acs_all_phoenix.male_30_to_34 + acs_all_phoenix.male_35_to_39 + acs_all_phoenix.male_40_to_44 + acs_all_phoenix.male_45_to_49 + acs_all_phoenix.male_50_to_54 + acs_all_phoenix.male_55_to_59 \n",
    "male_over_60 = acs_all_phoenix.male_60_61 + acs_all_phoenix.male_62_64 + acs_all_phoenix.male_65_to_66 + acs_all_phoenix.male_67_to_69 + acs_all_phoenix.male_70_to_74 + acs_all_phoenix.male_75_to_79 + acs_all_phoenix.male_80_to_84 + acs_all_phoenix.male_85_and_over"
   ]
  },
  {
   "cell_type": "code",
   "execution_count": null,
   "metadata": {},
   "outputs": [],
   "source": [
    "male_under_18 = male_under_18.astype(float)\n",
    "male_under_60 = male_under_60.astype(float)\n",
    "male_over_60 = male_over_60.astype(float)"
   ]
  },
  {
   "cell_type": "markdown",
   "metadata": {},
   "source": [
    "#### Grouping rent affordability columns together"
   ]
  },
  {
   "cell_type": "code",
   "execution_count": null,
   "metadata": {},
   "outputs": [],
   "source": [
    "under10 = acs_all_phoenix.rent_under_10_percent\n",
    "tento50 = acs_all_phoenix.rent_40_to_50_percent + acs_all_phoenix.rent_35_to_40_percent + acs_all_phoenix.rent_30_to_35_percent+ acs_all_phoenix.rent_25_to_30_percent + acs_all_phoenix.rent_20_to_25_percent + acs_all_phoenix.rent_15_to_20_percent + acs_all_phoenix.rent_10_to_15_percent\n",
    "over50 = acs_all_phoenix.rent_over_50_percent\n",
    "uncomputed = acs_all_phoenix.rent_burden_not_computed"
   ]
  },
  {
   "cell_type": "code",
   "execution_count": null,
   "metadata": {},
   "outputs": [],
   "source": [
    "rent_under10 = under10.astype(float)\n",
    "rent_tento50 = tento50.astype(float)\n",
    "rent_over50 = over50.astype(float)\n",
    "rent_uncomputed = uncomputed.astype(float)"
   ]
  },
  {
   "cell_type": "markdown",
   "metadata": {},
   "source": [
    "#### Grouping dwellings columns together"
   ]
  },
  {
   "cell_type": "code",
   "execution_count": null,
   "metadata": {},
   "outputs": [],
   "source": [
    "small_dwellings = acs_all_phoenix.dwellings_1_units_attached + acs_all_phoenix.dwellings_1_units_detached + acs_all_phoenix.dwellings_2_units + acs_all_phoenix.dwellings_3_to_4_units + acs_all_phoenix.dwellings_5_to_9_units\n",
    "large_dwellings = acs_all_phoenix.dwellings_10_to_19_units + acs_all_phoenix.dwellings_20_to_49_units + acs_all_phoenix.dwellings_50_or_more_units"
   ]
  },
  {
   "cell_type": "code",
   "execution_count": null,
   "metadata": {},
   "outputs": [],
   "source": [
    "small_dwellings = small_dwellings.astype(float)\n",
    "large_dwellings = large_dwellings.astype(float)"
   ]
  },
  {
   "cell_type": "markdown",
   "metadata": {},
   "source": [
    "#### Grouping commute time together"
   ]
  },
  {
   "cell_type": "code",
   "execution_count": null,
   "metadata": {},
   "outputs": [],
   "source": [
    "commute_less_than_30 = acs_all_phoenix.commute_5_9_mins + acs_all_phoenix.commute_less_10_mins + acs_all_phoenix.commute_10_14_mins + acs_all_phoenix.commute_15_19_mins + acs_all_phoenix.commute_20_24_mins + acs_all_phoenix.commute_25_29_mins\n",
    "commute_less_than_60 = acs_all_phoenix.commute_30_34_mins + acs_all_phoenix.commute_35_39_mins + acs_all_phoenix.commute_35_44_mins + acs_all_phoenix.commute_40_44_mins + acs_all_phoenix.commute_45_59_mins\n",
    "commute_over_60 = acs_all_phoenix.commute_60_89_mins + acs_all_phoenix.commute_60_more_mins + acs_all_phoenix.commute_90_more_mins"
   ]
  },
  {
   "cell_type": "code",
   "execution_count": null,
   "metadata": {},
   "outputs": [],
   "source": [
    "commute_less_than_30 = commute_less_than_30.astype(float)\n",
    "commute_less_than_60 = commute_less_than_60.astype(float)\n",
    "commute_over_60 = commute_over_60.astype(float)"
   ]
  },
  {
   "cell_type": "markdown",
   "metadata": {},
   "source": [
    "#### Grouping income levels together"
   ]
  },
  {
   "cell_type": "code",
   "execution_count": null,
   "metadata": {},
   "outputs": [],
   "source": [
    "income_less_than_60000 = acs_all_phoenix.income_less_10000 + acs_all_phoenix.income_10000_14999 + acs_all_phoenix.income_15000_19999 + acs_all_phoenix.income_20000_24999 + acs_all_phoenix.income_25000_29999 + acs_all_phoenix.income_30000_34999 + acs_all_phoenix.income_35000_39999 + acs_all_phoenix.income_40000_44999 + acs_all_phoenix.income_45000_49999 + acs_all_phoenix.income_50000_59999\n",
    "income_less_than_125000 = acs_all_phoenix.income_60000_74999 + acs_all_phoenix.income_75000_99999 + acs_all_phoenix.income_100000_124999\n",
    "income_over_125000 = acs_all_phoenix.income_125000_149999 + acs_all_phoenix.income_150000_199999 + acs_all_phoenix.income_200000_or_more"
   ]
  },
  {
   "cell_type": "code",
   "execution_count": null,
   "metadata": {},
   "outputs": [],
   "source": [
    "income_less_than_60000 = income_less_than_60000.astype(float)\n",
    "income_less_than_125000 = income_less_than_125000.astype(float)\n",
    "income_over_125000 = income_over_125000.astype(float)"
   ]
  },
  {
   "cell_type": "markdown",
   "metadata": {},
   "source": [
    "#### Grouping employment industries together"
   ]
  },
  {
   "cell_type": "code",
   "execution_count": null,
   "metadata": {},
   "outputs": [],
   "source": [
    "employed_creative = acs_all_phoenix.employed_arts_entertainment_recreation_accommodation_food\n",
    "employed_prof = acs_all_phoenix.employed_education_health_social + acs_all_phoenix.employed_finance_insurance_real_estate + acs_all_phoenix.employed_information + acs_all_phoenix.employed_science_management_admin_waste\n",
    "employed_skill = acs_all_phoenix.employed_manufacturing + acs_all_phoenix.employed_construction + acs_all_phoenix.employed_agriculture_forestry_fishing_hunting_mining\n",
    "employed_service = acs_all_phoenix.employed_retail_trade + acs_all_phoenix.employed_other_services_not_public_admin + acs_all_phoenix.employed_public_administration + acs_all_phoenix.employed_transportation_warehousing_utilities + acs_all_phoenix.employed_wholesale_trade"
   ]
  },
  {
   "cell_type": "markdown",
   "metadata": {},
   "source": [
    "#### Choosing family type columns"
   ]
  },
  {
   "cell_type": "code",
   "execution_count": null,
   "metadata": {},
   "outputs": [],
   "source": [
    "two_parent_hh = acs_all_phoenix.two_parent_families_with_young_children.astype(float)\n",
    "one_parent_hh = acs_all_phoenix.one_parent_families_with_young_children.astype(float)"
   ]
  },
  {
   "cell_type": "markdown",
   "metadata": {},
   "source": [
    "#### Choosing population columns"
   ]
  },
  {
   "cell_type": "code",
   "execution_count": null,
   "metadata": {},
   "outputs": [],
   "source": [
    "asian_pop = acs_all_phoenix.asian_pop.astype(float)\n",
    "asian_including_hispanic = acs_all_phoenix.asian_including_hispanic.astype(float)\n",
    "black_pop = acs_all_phoenix.black_pop.astype(float)\n",
    "hispanic_pop = acs_all_phoenix.hispanic_pop.astype(float)\n",
    "white_pop = acs_all_phoenix.white_pop.astype(float)\n",
    "amerindian_pop = acs_all_phoenix.amerindian_pop.astype(float)\n",
    "amerindian_including_hispanic = acs_all_phoenix.amerindian_including_hispanic.astype(float)\n",
    "other_race_pop = acs_all_phoenix.other_race_pop.astype(float)\n",
    "two_or_more_races_pop = acs_all_phoenix.other_race_pop.astype(float)\n",
    "not_hispanic_pop = acs_all_phoenix.not_hispanic_pop.astype(float)\n",
    "not_us_citizen_pop = acs_all_phoenix.not_us_citizen_pop.astype(float)\n",
    "total_pop = acs_all_phoenix.total_pop.astype(float)"
   ]
  },
  {
   "cell_type": "code",
   "execution_count": null,
   "metadata": {},
   "outputs": [],
   "source": [
    "pop_columns = [asian_pop, amerindian_pop, black_pop, hispanic_pop, white_pop, amerindian_including_hispanic,other_race_pop,two_or_more_races_pop]"
   ]
  },
  {
   "cell_type": "code",
   "execution_count": null,
   "metadata": {},
   "outputs": [],
   "source": [
    "print(asian_pop.sum()+amerindian_pop.sum()+black_pop.sum()+hispanic_pop.sum()+white_pop.sum()+amerindian_including_hispanic.sum()+other_race_pop.sum()+two_or_more_races_pop.sum())\n",
    "print(total_pop.sum())\n",
    "print(not_hispanic_pop.sum()+hispanic_pop.sum())"
   ]
  },
  {
   "cell_type": "markdown",
   "metadata": {},
   "source": [
    "#### Grouping education level columns together"
   ]
  },
  {
   "cell_type": "code",
   "execution_count": null,
   "metadata": {},
   "outputs": [],
   "source": [
    "college_educated = acs_all_phoenix.in_undergrad_college + acs_all_phoenix.some_college_and_associates_degree + acs_all_phoenix.associates_degree + acs_all_phoenix.bachelors_degree + acs_all_phoenix.bachelors_degree_2 +acs_all_phoenix.bachelors_degree_or_higher_25_64 + acs_all_phoenix.masters_degree + acs_all_phoenix.graduate_professional_degree + acs_all_phoenix.one_year_more_college     \n",
    "in_school = acs_all_phoenix.in_grades_1_to_4 + acs_all_phoenix.in_grades_5_to_8 + acs_all_phoenix.in_grades_9_to_12\n",
    "inschoolcheck = acs_all_phoenix.in_school\n",
    "less_than_college_educated = acs_all_phoenix.less_one_year_college + + acs_all_phoenix.less_one_year_college\n",
    "high_school_educated = acs_all_phoenix.high_school_diploma + acs_all_phoenix.high_school_including_ged"
   ]
  },
  {
   "cell_type": "code",
   "execution_count": null,
   "metadata": {},
   "outputs": [],
   "source": [
    "college_educated = college_educated.astype(float)\n",
    "in_school = in_school.astype(float)\n",
    "inschoolcheck = inschoolcheck.astype(float) \n",
    "less_than_college_educated = less_than_college_educated.astype(float)\n",
    "high_school_educated = high_school_educated.astype(float)"
   ]
  },
  {
   "cell_type": "code",
   "execution_count": null,
   "metadata": {},
   "outputs": [],
   "source": [
    "print(in_school.sum())\n",
    "print(inschoolcheck.sum())"
   ]
  },
  {
   "cell_type": "markdown",
   "metadata": {},
   "source": [
    "#### Grouping commute type columns together"
   ]
  },
  {
   "cell_type": "code",
   "execution_count": null,
   "metadata": {},
   "outputs": [],
   "source": [
    "public_commute = acs_all_phoenix.commuters_by_public_transportation + acs_all_phoenix.commuters_by_subway_or_elevated + acs_all_phoenix.commuters_by_bus\n",
    "personal_commute = acs_all_phoenix.commuters_by_car_truck_van + acs_all_phoenix.commuters_by_carpool + acs_all_phoenix.commuters_drove_alone"
   ]
  },
  {
   "cell_type": "code",
   "execution_count": null,
   "metadata": {},
   "outputs": [],
   "source": [
    "public_commute = public_commute.astype(float)\n",
    "personal_commute = personal_commute.astype(float)"
   ]
  },
  {
   "cell_type": "markdown",
   "metadata": {},
   "source": [
    "#### Choosing housing units columns"
   ]
  },
  {
   "cell_type": "code",
   "execution_count": null,
   "metadata": {},
   "outputs": [],
   "source": [
    "vacant_housing_units = acs_all_phoenix.vacant_housing_units.astype(float)\n",
    "vacant_housing_units_for_rent = acs_all_phoenix.vacant_housing_units_for_rent.astype(float)\n",
    "vacant_housing_units_for_sale = acs_all_phoenix.vacant_housing_units_for_sale.astype(float)"
   ]
  },
  {
   "cell_type": "code",
   "execution_count": null,
   "metadata": {},
   "outputs": [],
   "source": [
    "print(vacant_housing_units.sum())\n",
    "print(vacant_housing_units_for_rent.sum()+vacant_housing_units_for_sale.sum())"
   ]
  },
  {
   "cell_type": "markdown",
   "metadata": {},
   "source": [
    "#### Choosing owner occuppied housing units"
   ]
  },
  {
   "cell_type": "code",
   "execution_count": null,
   "metadata": {},
   "outputs": [],
   "source": [
    "owner_occupied_housing_units = acs_all_phoenix.owner_occupied_housing_units.astype(float)\n",
    "owner_occupied_housing_units_lower_value_quartile = acs_all_phoenix.owner_occupied_housing_units_lower_value_quartile.astype(float)\n",
    "owner_occupied_housing_units_median_value = acs_all_phoenix.owner_occupied_housing_units_median_value.astype(float)\n",
    "owner_occupied_housing_units_upper_value_quartile = acs_all_phoenix.owner_occupied_housing_units_upper_value_quartile.astype(float)"
   ]
  },
  {
   "cell_type": "markdown",
   "metadata": {},
   "source": [
    "#### Choosing employment information"
   ]
  },
  {
   "cell_type": "code",
   "execution_count": null,
   "metadata": {},
   "outputs": [],
   "source": [
    "unemployed_pop = acs_all_phoenix.unemployed_pop.astype(float)\n",
    "employed_pop = acs_all_phoenix.employed_pop.astype(float)"
   ]
  },
  {
   "cell_type": "markdown",
   "metadata": {},
   "source": [
    "#### Choosing family information"
   ]
  },
  {
   "cell_type": "code",
   "execution_count": null,
   "metadata": {},
   "outputs": [],
   "source": [
    "family_households = acs_all_phoenix.family_households.astype(float)\n",
    "nonfamily_households = acs_all_phoenix.nonfamily_households.astype(float)"
   ]
  },
  {
   "cell_type": "markdown",
   "metadata": {},
   "source": [
    "#### Choosing remaining miscelleanous columns"
   ]
  },
  {
   "cell_type": "code",
   "execution_count": null,
   "metadata": {},
   "outputs": [],
   "source": [
    "Year = acs_all_phoenix.Year.astype(int)\n",
    "geo_id = acs_all_phoenix.geo_id.astype(int)\n",
    "gini_index = acs_all_phoenix.gini_index.astype(float)\n",
    "income_per_capita = acs_all_phoenix.income_per_capita.astype(float)\n",
    "median_age = acs_all_phoenix.median_age.astype(float)\n",
    "median_income = acs_all_phoenix.median_income.astype(float)\n",
    "married_households = acs_all_phoenix.married_households.astype(float)"
   ]
  },
  {
   "cell_type": "markdown",
   "metadata": {},
   "source": [
    "#### Building the final dataframe for ACS features before combining with ZRI information"
   ]
  },
  {
   "cell_type": "code",
   "execution_count": null,
   "metadata": {},
   "outputs": [],
   "source": [
    "dict = {'Year': Year, 'geo_id': geo_id, 'gini_index':gini_index, 'income_per_capita':income_per_capita,\n",
    "       'median_age':median_age, 'median_income':median_income, 'married_households':married_households,\n",
    "       'family_households':family_households, 'nonfamily_households':nonfamily_households,\n",
    "       'unemployed_pop':unemployed_pop, 'employed_pop':employed_pop, 'owner_occupied_housing_units':owner_occupied_housing_units,\n",
    "       'owner_occupied_housing_units_lower_value_quartile':owner_occupied_housing_units_lower_value_quartile,\n",
    "       'owner_occupied_housing_units_median_value':owner_occupied_housing_units_median_value,\n",
    "       'owner_occupied_housing_units_upper_value_quartile':owner_occupied_housing_units_upper_value_quartile,\n",
    "       'vacant_housing_units':vacant_housing_units,'vacant_housing_units_for_rent':vacant_housing_units_for_rent,\n",
    "       'vacant_housing_units_for_sale':vacant_housing_units_for_sale, 'public_commute':public_commute,\n",
    "       'personal_commute':personal_commute, 'college_educated':college_educated, 'in_school':in_school,\n",
    "       'less_than_college_educated':less_than_college_educated, 'high_school_educated':high_school_educated,\n",
    "       'asian_pop':asian_pop, 'amerindian_pop':amerindian_pop, 'black_pop':black_pop, 'hispanic_pop':hispanic_pop, \n",
    "        'white_pop':white_pop, 'amerindian_including_hispanic':amerindian_including_hispanic,\n",
    "        'other_race_pop':other_race_pop,'two_or_more_races_pop':two_or_more_races_pop, 'two_parent_hh':two_parent_hh,\n",
    "       'one_parent_hh':one_parent_hh,'employed_creative':employed_creative, 'employed_prof':employed_prof,\n",
    "       'employed_skill':employed_skill, 'employed_service':employed_service,'income_less_than_60000':income_less_than_60000,\n",
    "       'income_less_than_125000':income_less_than_125000, 'income_over_125000':income_over_125000,\n",
    "       'commute_less_than_30':commute_less_than_30, 'commute_less_than_60':commute_less_than_60,\n",
    "       'commute_over_60':commute_over_60, 'small_dwellings':small_dwellings, 'large_dwellings':large_dwellings,\n",
    "       'rent_under10':rent_under10, 'rent_tento50':rent_tento50, 'rent_over50':rent_over50, 'rent_uncomputed':rent_uncomputed,\n",
    "       'male_under_18':male_under_18, 'male_under_60':male_under_60, 'male_over_60':male_over_60,\n",
    "       'female_under_18':female_under_18, 'female_under_60':female_under_60, 'female_over_60':female_over_60}"
   ]
  },
  {
   "cell_type": "code",
   "execution_count": null,
   "metadata": {},
   "outputs": [],
   "source": [
    "acs_final = pd.DataFrame(dict)"
   ]
  },
  {
   "cell_type": "code",
   "execution_count": null,
   "metadata": {},
   "outputs": [],
   "source": [
    "acs_final.shape"
   ]
  },
  {
   "cell_type": "code",
   "execution_count": null,
   "metadata": {},
   "outputs": [],
   "source": [
    "acs_final.head()"
   ]
  },
  {
   "cell_type": "code",
   "execution_count": null,
   "metadata": {},
   "outputs": [],
   "source": [
    "import seaborn as sns\n",
    "corr_df =  acs_final.corr(method='pearson') \n",
    "\n",
    "df_lt = corr_df.where(np.tril(np.ones(corr_df.shape)).astype(np.bool))\n",
    "\n",
    "hmap=sns.heatmap(df_lt,cmap=\"Spectral\")\n",
    "hmap"
   ]
  },
  {
   "cell_type": "code",
   "execution_count": null,
   "metadata": {},
   "outputs": [],
   "source": [
    "x_std=acs_final.astype(float)\n",
    "for col in x_std.columns:\n",
    "     x_std[col]=(x_std[col]-x_std[col].mean())/x_std[col].std()\n",
    "x_std.sample(2)"
   ]
  },
  {
   "cell_type": "code",
   "execution_count": null,
   "metadata": {},
   "outputs": [],
   "source": [
    "for col in acs_final.columns:\n",
    "    print(col)"
   ]
  },
  {
   "cell_type": "code",
   "execution_count": null,
   "metadata": {},
   "outputs": [],
   "source": [
    "#initial analysis\n",
    "kmeans_keep_list=[\n",
    "    'family_households',\n",
    "    'nonfamily_households',\n",
    "    'unemployed_pop',\n",
    "    'owner_occupied_housing_units',\n",
    "    'vacant_housing_units',\n",
    "    'public_commute',\n",
    "    'personal_commute'\n",
    "    'college_educated',\n",
    "    'two_parent_hh',\n",
    "    'one_parent_hh',\n",
    "    'public_commute',\n",
    "    'personal_commute',\n",
    "    'small_dwellings',\n",
    "    'large_dwellings',\n",
    "    \n",
    "]\n",
    "#categories to study further\n",
    "#population,rent_burden\n",
    "#gender age to be separated\n",
    "households_type2=[\n",
    "    'married_households',\n",
    "    'family_households',\n",
    "    'nonfamily_households'\n",
    "]\n",
    "\n",
    "households_type=[\n",
    "'married_households',\n",
    "'family_households',\n",
    "'nonfamily_households',\n",
    "'median_income'\n",
    "]\n",
    "employment_status=[\n",
    "'unemployed_pop',\n",
    "'employed_pop',\n",
    "'median_income'\n",
    "]\n",
    "housing_unit_types=[\n",
    "'owner_occupied_housing_units',\n",
    "'owner_occupied_housing_units_lower_value_quartile',\n",
    "'owner_occupied_housing_units_median_value',\n",
    "'owner_occupied_housing_units_upper_value_quartile',\n",
    "'vacant_housing_units',\n",
    "'vacant_housing_units_for_rent',\n",
    "'vacant_housing_units_for_sale',\n",
    "    'median_income'\n",
    "]\n",
    "commute_type=[\n",
    "'public_commute',\n",
    "'personal_commute',\n",
    "        'median_income'\n",
    "\n",
    "\n",
    "]\n",
    "education=[\n",
    "'college_educated',\n",
    "'in_school',\n",
    "'less_than_college_educated',\n",
    "'high_school_educated',\n",
    "     'median_income'\n",
    "\n",
    "   \n",
    "]\n",
    "pop_category=[\n",
    "'asian_pop',\n",
    "'amerindian_pop',\n",
    "'black_pop',\n",
    "'hispanic_pop',\n",
    "'white_pop',\n",
    "'amerindian_including_hispanic',\n",
    "'other_race_pop',\n",
    "'two_or_more_races_pop',\n",
    "        'median_income'\n",
    "]\n",
    "\n",
    "parents_type=[    \n",
    "'two_parent_hh',\n",
    "'one_parent_hh',\n",
    "    'median_income'\n",
    "]\n",
    "\n",
    "job_types=[\n",
    "    'employed_creative',\n",
    "'employed_prof',\n",
    "'employed_skill',\n",
    "'employed_service',\n",
    "        'median_income'\n",
    "]\n",
    "\n",
    "income_cat=[\n",
    "'income_less_than_60000',\n",
    "'income_less_than_125000',\n",
    "'income_over_125000',\n",
    "    'median_income'\n",
    "\n",
    "]\n",
    "\n",
    "commute_length=[\n",
    "'commute_less_than_30',\n",
    "'commute_less_than_60',\n",
    "'commute_over_60',\n",
    "    'median_income'\n",
    "\n",
    "\n",
    "]\n",
    "\n",
    "dwelling_type=[\n",
    "'small_dwellings',\n",
    "'large_dwellings',\n",
    "        'median_income'\n",
    "]\n",
    "\n",
    "rent_burden=[\n",
    "'rent_under10',\n",
    "'rent_tento50',\n",
    "'rent_over50',\n",
    "'rent_uncomputed',\n",
    "    'median_income'\n",
    "\n",
    "\n",
    "]\n",
    "\n",
    "gender_age=[\n",
    "'male_under_18',\n",
    "'male_under_60',\n",
    "'male_over_60',\n",
    "'female_under_18',\n",
    "'female_under_60',\n",
    "'female_over_60',\n",
    "    'median_income'\n",
    "\n",
    "\n",
    "]\n",
    "kmeangroupings=[\n",
    "    households_type,\n",
    "    employment_status,\n",
    "    housing_unit_types,\n",
    "    commute_type,\n",
    "    education,\n",
    "    pop_category,\n",
    "    parents_type,\n",
    "    job_types,\n",
    "    income_cat,\n",
    "    commute_length,\n",
    "    dwelling_type,\n",
    "    rent_burden,\n",
    "    gender_age\n",
    "]\n",
    "kmeanGroupingNames=[\n",
    "    \"Households Type\",\n",
    "    \"Employment Status\",\n",
    "    \"Housing Unit Types\",\n",
    "    \"Commute Type\",\n",
    "    \"Education\",\n",
    "    \"Population Category\",\n",
    "    \"Parents Type\",\n",
    "    \"Job Types\",\n",
    "    \"Income Category\",\n",
    "    \"Cummute Length\",\n",
    "    \"Dwelling Type\",\n",
    "    \"Rent Burden\",\n",
    "    \"Gender and Age\"\n",
    "]"
   ]
  },
  {
   "cell_type": "code",
   "execution_count": null,
   "metadata": {},
   "outputs": [],
   "source": [
    "from sklearn.cluster import KMeans\n",
    "plt.figure(figsize=(10,10))  # change the size of figure!\n",
    "subplotIdx=0\n",
    "for idx,name in enumerate(kmeanGroupingNames):\n",
    "    plt.figure(figsize=(20,20)) \n",
    "    inertias=[]\n",
    "    for i in range (1,30):\n",
    "        kmeans=KMeans(i)\n",
    "        kmeans.fit(x_std[kmeangroupings[idx]])\n",
    "        inertias.append(kmeans.inertia_)\n",
    "    plt.subplot(5,2, subplotIdx+1)\n",
    "    plt.title(name)\n",
    "    plt.plot(range(1,30),inertias)\n",
    "    plt.xlabel('Number of Clusters')\n",
    "    plt.ylabel('Inertia')\n",
    "    plt.show()"
   ]
  },
  {
   "cell_type": "code",
   "execution_count": null,
   "metadata": {},
   "outputs": [],
   "source": [
    "print(\"Kmeans\")\n",
    "k_means_new0=KMeans(3)\n",
    "k_means_new0.fit(x_std[households_type2])\n",
    "cluster_new0=x_std[households_type2].copy()\n",
    "y_kmeans=k_means_new0.fit_predict(x_std[households_type2])\n",
    "cluster_new0['cluster_pred']=k_means_new0.fit_predict(x_std[households_type2])\n",
    "plt.scatter(cluster_new0[cluster_new0[\"cluster_pred\"]==0][\"family_households\"],cluster_new0[cluster_new0[\"cluster_pred\"]==0][\"married_households\"], c='red',s=10)\n",
    "plt.scatter(cluster_new0[cluster_new0[\"cluster_pred\"]==1][\"family_households\"],cluster_new0[cluster_new0[\"cluster_pred\"]==1][\"married_households\"], c='blue',s=10)\n",
    "plt.scatter(cluster_new0[cluster_new0[\"cluster_pred\"]==2][\"family_households\"],cluster_new0[cluster_new0[\"cluster_pred\"]==2][\"married_households\"], c='green',s=10)\n"
   ]
  },
  {
   "cell_type": "code",
   "execution_count": null,
   "metadata": {},
   "outputs": [],
   "source": [
    "print(kmeanGroupingNames[0])\n",
    "k_means_new0=KMeans(3)\n",
    "k_means_new0.fit(x_std[kmeangroupings[0]])\n",
    "cluster_new0=x_std[kmeangroupings[0]].copy()\n",
    "cluster_new0['cluster_pred']=k_means_new0.fit_predict(x_std[kmeangroupings[0]])\n",
    "plt.figure(figsize=(20,20))  # change the size of figure!\n",
    "i=0\n",
    "for col in cluster_new0.columns:\n",
    "    plt.subplot(5,2, i+1)\n",
    "    plt.title(col+\"   \"+\"median_income\")\n",
    "    centers1 = k_means_new0.cluster_centers_\n",
    "    plt.scatter(cluster_new0[col],cluster_new0[\"median_income\"], c=cluster_new0[\"cluster_pred\"],s=10)\n",
    "    plt.scatter(centers1[:, 0], centers1[:, 1], c='red', s=20);\n",
    "    plt.subplots_adjust(left=None, bottom=None, right=None, top=None, wspace=None, hspace=0.4)\n",
    "    i+=1"
   ]
  },
  {
   "cell_type": "code",
   "execution_count": null,
   "metadata": {},
   "outputs": [],
   "source": [
    "print(kmeanGroupingNames[1])\n",
    "k_means_new1=KMeans(3)\n",
    "k_means_new1.fit(x_std[kmeangroupings[1]])\n",
    "cluster_new1=x_std[kmeangroupings[1]].copy()\n",
    "cluster_new1['cluster_pred']=k_means_new1.fit_predict(x_std[kmeangroupings[1]])\n",
    "plt.figure(figsize=(20,20))  # change the size of figure!\n",
    "i=0\n",
    "for col in cluster_new1.columns:\n",
    "    plt.subplot(5,2, i+1)\n",
    "    plt.title(col+\"   \"+\"median_income\")\n",
    "    centers1 = k_means_new1.cluster_centers_\n",
    "    plt.scatter(cluster_new1[col],cluster_new1[\"median_income\"], c=cluster_new1[\"cluster_pred\"],s=10)\n",
    "    plt.scatter(centers1[:, 0], centers1[:, 1], c='red', s=20);\n",
    "    plt.subplots_adjust(left=None, bottom=None, right=None, top=None, wspace=None, hspace=0.4)\n",
    "    i+=1"
   ]
  },
  {
   "cell_type": "code",
   "execution_count": null,
   "metadata": {},
   "outputs": [],
   "source": [
    "print(kmeanGroupingNames[2])\n",
    "k_means_new2=KMeans(3)\n",
    "k_means_new2.fit(x_std[kmeangroupings[2]])\n",
    "cluster_new2=x_std[kmeangroupings[2]].copy()\n",
    "cluster_new2['cluster_pred']=k_means_new2.fit_predict(x_std[kmeangroupings[2]])\n",
    "plt.figure(figsize=(20,20))  # change the size of figure!\n",
    "i=0\n",
    "for col in cluster_new2.columns:\n",
    "    plt.subplot(5,2, i+1)\n",
    "    plt.title(col+\"   \"+\"median_income\")\n",
    "    centers2 = k_means_new2.cluster_centers_\n",
    "    plt.scatter(cluster_new2[col],cluster_new2[\"median_income\"], c=cluster_new2[\"cluster_pred\"],s=10)\n",
    "    plt.scatter(centers2[:, 0], centers2[:, 1], c='red', s=20);\n",
    "    plt.subplots_adjust(left=None, bottom=None, right=None, top=None, wspace=None, hspace=0.4)\n",
    "    i+=1"
   ]
  },
  {
   "cell_type": "code",
   "execution_count": null,
   "metadata": {},
   "outputs": [],
   "source": [
    "print(kmeanGroupingNames[3])\n",
    "k_means_new3=KMeans(3)\n",
    "k_means_new3.fit(x_std[kmeangroupings[3]])\n",
    "cluster_new3=x_std[kmeangroupings[3]].copy()\n",
    "cluster_new3['cluster_pred']=k_means_new3.fit_predict(x_std[kmeangroupings[3]])\n",
    "cluster_new3.shape\n",
    "plt.figure(figsize=(20,20))  # change the size of figure!\n",
    "i=0\n",
    "for col in cluster_new3.columns:\n",
    "    plt.subplot(5,2, i+1)\n",
    "    plt.title(col+\"   \"+\"median_income\")\n",
    "    centers3 = k_means_new3.cluster_centers_\n",
    "    plt.scatter(cluster_new3[col],cluster_new3[\"median_income\"], c=cluster_new3[\"cluster_pred\"],s=10)\n",
    "    plt.scatter(centers3[:, 0], centers3[:, 1], c='red', s=20);\n",
    "    plt.subplots_adjust(left=None, bottom=None, right=None, top=None, wspace=None, hspace=0.4)\n",
    "    i+=1"
   ]
  },
  {
   "cell_type": "code",
   "execution_count": null,
   "metadata": {},
   "outputs": [],
   "source": [
    "print(kmeanGroupingNames[4])\n",
    "k_means_new4=KMeans(3)\n",
    "k_means_new4.fit(x_std[kmeangroupings[4]])\n",
    "cluster_new4=x_std[kmeangroupings[4]].copy()\n",
    "cluster_new4['cluster_pred']=k_means_new4.fit_predict(x_std[kmeangroupings[4]])\n",
    "plt.figure(figsize=(20,20))  # change the size of figure!\n",
    "i=0\n",
    "for col in cluster_new4.columns:\n",
    "    plt.subplot(5,2, i+1)\n",
    "    plt.title(col+\"   \"+\"median_income\")\n",
    "    centers4 = k_means_new4.cluster_centers_\n",
    "    plt.scatter(cluster_new4[col],cluster_new4[\"median_income\"], c=cluster_new4[\"cluster_pred\"],s=10)\n",
    "    plt.scatter(centers4[:, 0], centers4[:, 1], c='red', s=20);\n",
    "    plt.subplots_adjust(left=None, bottom=None, right=None, top=None, wspace=None, hspace=0.4)\n",
    "    i+=1"
   ]
  },
  {
   "cell_type": "code",
   "execution_count": null,
   "metadata": {},
   "outputs": [],
   "source": [
    "print(kmeanGroupingNames[5])\n",
    "k_means_new5=KMeans(3)\n",
    "k_means_new5.fit(x_std[kmeangroupings[5]])\n",
    "cluster_new5=x_std[kmeangroupings[5]].copy()\n",
    "cluster_new5['cluster_pred']=k_means_new5.fit_predict(x_std[kmeangroupings[5]])\n",
    "cluster_new5.shape\n",
    "plt.figure(figsize=(20,20))  # change the size of figure!\n",
    "i=0\n",
    "for col in cluster_new5.columns:\n",
    "    plt.subplot(5,2, i+1)\n",
    "    plt.title(col+\"   \"+\"median_income\")\n",
    "    centers5 = k_means_new5.cluster_centers_\n",
    "    plt.scatter(cluster_new5[col],cluster_new5[\"median_income\"], c=cluster_new5[\"cluster_pred\"],s=10)\n",
    "    plt.scatter(centers5[:, 0], centers5[:, 1], c='red', s=20);\n",
    "    plt.subplots_adjust(left=None, bottom=None, right=None, top=None, wspace=None, hspace=0.4)\n",
    "    i+=1"
   ]
  },
  {
   "cell_type": "code",
   "execution_count": null,
   "metadata": {},
   "outputs": [],
   "source": [
    "print(kmeanGroupingNames[6])\n",
    "k_means_new6=KMeans(3)\n",
    "k_means_new6.fit(x_std[kmeangroupings[6]])\n",
    "cluster_new6=x_std[kmeangroupings[6]].copy()\n",
    "cluster_new6['cluster_pred']=k_means_new6.fit_predict(x_std[kmeangroupings[6]])\n",
    "cluster_new6.shape\n",
    "plt.figure(figsize=(20,20))  # change the size of figure!\n",
    "i=0\n",
    "for col in cluster_new6.columns:\n",
    "    plt.subplot(5,2, i+1)\n",
    "    plt.title(col+\"   \"+\"median_income\")\n",
    "    centers6 = k_means_new6.cluster_centers_\n",
    "    plt.scatter(cluster_new6[col],cluster_new6[\"median_income\"], c=cluster_new6[\"cluster_pred\"],s=10)\n",
    "    plt.scatter(centers6[:, 0], centers6[:, 1], c='red', s=20);\n",
    "    plt.subplots_adjust(left=None, bottom=None, right=None, top=None, wspace=None, hspace=0.4)\n",
    "    i+=1"
   ]
  },
  {
   "cell_type": "code",
   "execution_count": null,
   "metadata": {},
   "outputs": [],
   "source": [
    "print(kmeanGroupingNames[7])\n",
    "k_means_new7=KMeans(3)\n",
    "k_means_new7.fit(x_std[kmeangroupings[7]])\n",
    "cluster_new7=x_std[kmeangroupings[7]].copy()\n",
    "cluster_new7['cluster_pred']=k_means_new7.fit_predict(x_std[kmeangroupings[7]])\n",
    "cluster_new7.shape\n",
    "plt.figure(figsize=(20,20))  # change the size of figure!\n",
    "i=0\n",
    "for col in cluster_new7.columns:\n",
    "    plt.subplot(5,2, i+1)\n",
    "    plt.title(col+\"   \"+\"median_income\")\n",
    "    centers7 = k_means_new7.cluster_centers_\n",
    "    plt.scatter(cluster_new7[col],cluster_new7[\"median_income\"], c=cluster_new7[\"cluster_pred\"],s=10)\n",
    "    plt.scatter(centers7[:, 0], centers7[:, 1], c='red', s=20);\n",
    "    plt.subplots_adjust(left=None, bottom=None, right=None, top=None, wspace=None, hspace=0.4)\n",
    "    i+=1"
   ]
  },
  {
   "cell_type": "code",
   "execution_count": null,
   "metadata": {},
   "outputs": [],
   "source": [
    "print(kmeanGroupingNames[8])\n",
    "k_means_new8=KMeans(3)\n",
    "k_means_new8.fit(x_std[kmeangroupings[8]])\n",
    "cluster_new8=x_std[kmeangroupings[8]].copy()\n",
    "cluster_new8['cluster_pred']=k_means_new8.fit_predict(x_std[kmeangroupings[8]])\n",
    "cluster_new8.shape\n",
    "plt.figure(figsize=(20,20))  # change the size of figure!\n",
    "i=0\n",
    "for col in cluster_new8.columns:\n",
    "    plt.subplot(5,2, i+1)\n",
    "    plt.title(col+\"   \"+\"median_income\")\n",
    "    centers8 = k_means_new8.cluster_centers_\n",
    "    plt.scatter(cluster_new8[col],cluster_new8[\"median_income\"], c=cluster_new8[\"cluster_pred\"],s=10)\n",
    "    plt.scatter(centers8[:, 0], centers8[:, 1], c='red', s=20);\n",
    "    plt.subplots_adjust(left=None, bottom=None, right=None, top=None, wspace=None, hspace=0.4)\n",
    "    i+=1"
   ]
  },
  {
   "cell_type": "code",
   "execution_count": null,
   "metadata": {},
   "outputs": [],
   "source": [
    "print(kmeanGroupingNames[9])\n",
    "k_means_new9=KMeans(3)\n",
    "k_means_new9.fit(x_std[kmeangroupings[9]])\n",
    "cluster_new9=x_std[kmeangroupings[9]].copy()\n",
    "cluster_new9['cluster_pred']=k_means_new9.fit_predict(x_std[kmeangroupings[9]])\n",
    "cluster_new9.shape\n",
    "plt.figure(figsize=(20,20))  # change the size of figure!\n",
    "i=0\n",
    "for col in cluster_new9.columns:\n",
    "    plt.subplot(5,2, i+1)\n",
    "    plt.title(col+\"   \"+\"median_income\")\n",
    "    centers9 = k_means_new9.cluster_centers_\n",
    "    plt.scatter(cluster_new9[col],cluster_new9[\"median_income\"], c=cluster_new9[\"cluster_pred\"],s=10)\n",
    "    plt.scatter(centers9[:, 0], centers9[:, 1], c='red', s=20);\n",
    "    plt.subplots_adjust(left=None, bottom=None, right=None, top=None, wspace=None, hspace=0.4)\n",
    "    i+=1"
   ]
  },
  {
   "cell_type": "code",
   "execution_count": null,
   "metadata": {},
   "outputs": [],
   "source": [
    "print(kmeanGroupingNames[10])\n",
    "k_means_new10=KMeans(3)\n",
    "k_means_new10.fit(x_std[kmeangroupings[10]])\n",
    "cluster_new10=x_std[kmeangroupings[10]].copy()\n",
    "cluster_new10['cluster_pred']=k_means_new10.fit_predict(x_std[kmeangroupings[10]])\n",
    "plt.figure(figsize=(20,20))  # change the size of figure!\n",
    "i=0\n",
    "for col in cluster_new10.columns:\n",
    "    plt.subplot(5,2, i+1)\n",
    "    plt.title(col+\"   \"+\"median_income\")\n",
    "    centers10 = k_means_new10.cluster_centers_\n",
    "    plt.scatter(cluster_new10[col],cluster_new10[\"median_income\"], c=cluster_new10[\"cluster_pred\"],s=10)\n",
    "    plt.scatter(centers10[:, 0], centers10[:, 1], c='red', s=20);\n",
    "    plt.subplots_adjust(left=None, bottom=None, right=None, top=None, wspace=None, hspace=0.4)\n",
    "    i+=1"
   ]
  },
  {
   "cell_type": "code",
   "execution_count": null,
   "metadata": {},
   "outputs": [],
   "source": [
    "print(kmeanGroupingNames[11])\n",
    "k_means_new11=KMeans(3)\n",
    "k_means_new11.fit(x_std[kmeangroupings[11]])\n",
    "cluster_new11=x_std[kmeangroupings[11]].copy()\n",
    "cluster_new11['cluster_pred']=k_means_new11.fit_predict(x_std[kmeangroupings[11]])\n",
    "plt.figure(figsize=(20,20))  # change the size of figure!\n",
    "i=0\n",
    "for col in cluster_new11.columns:\n",
    "    plt.subplot(5,2, i+1)\n",
    "    plt.title(col+\"   \"+\"median_income\")\n",
    "    centers11 = k_means_new11.cluster_centers_\n",
    "    plt.scatter(cluster_new11[col],cluster_new11[\"median_income\"], c=cluster_new11[\"cluster_pred\"],s=10)\n",
    "    plt.scatter(centers11[:, 0], centers11[:, 1], c='red', s=20);\n",
    "    plt.subplots_adjust(left=None, bottom=None, right=None, top=None, wspace=None, hspace=0.4)\n",
    "    i+=1"
   ]
  },
  {
   "cell_type": "code",
   "execution_count": null,
   "metadata": {},
   "outputs": [],
   "source": [
    "print(kmeanGroupingNames[12])\n",
    "k_means_new12=KMeans(3)\n",
    "k_means_new12.fit(x_std[kmeangroupings[12]])\n",
    "cluster_new12=x_std[kmeangroupings[12]].copy()\n",
    "cluster_new12['cluster_pred']=k_means_new12.fit_predict(x_std[kmeangroupings[12]])\n",
    "plt.figure(figsize=(20,20))  # change the size of figure!\n",
    "i=0\n",
    "for col in cluster_new12.columns:\n",
    "    plt.subplot(5,2, i+1)\n",
    "    plt.title(col+\"   \"+\"median_income\")\n",
    "    centers12 = k_means_new12.cluster_centers_\n",
    "    plt.scatter(cluster_new12[col],cluster_new12[\"median_income\"], c=cluster_new12[\"cluster_pred\"],s=10)\n",
    "    plt.scatter(centers12[:, 0], centers12[:, 1], c='red', s=20);\n",
    "    plt.subplots_adjust(left=None, bottom=None, right=None, top=None, wspace=None, hspace=0.4)\n",
    "    i+=1"
   ]
  },
  {
   "cell_type": "markdown",
   "metadata": {},
   "source": [
    "<h2>VIF Analysis</h2>"
   ]
  },
  {
   "cell_type": "code",
   "execution_count": null,
   "metadata": {},
   "outputs": [],
   "source": [
    "households_type=[\n",
    "'married_households',\n",
    "'family_households',\n",
    "'nonfamily_households'\n",
    "]\n",
    "employment_status=[\n",
    "'unemployed_pop',\n",
    "'employed_pop'\n",
    "]\n",
    "housing_unit_types=[\n",
    "'owner_occupied_housing_units',\n",
    "'owner_occupied_housing_units_lower_value_quartile',\n",
    "'owner_occupied_housing_units_median_value',\n",
    "'owner_occupied_housing_units_upper_value_quartile',\n",
    "'vacant_housing_units',\n",
    "'vacant_housing_units_for_rent',\n",
    "'vacant_housing_units_for_sale'\n",
    "]\n",
    "commute_type=[\n",
    "'public_commute',\n",
    "'personal_commute'\n",
    "]\n",
    "education=[\n",
    "'college_educated',\n",
    "'in_school',\n",
    "'less_than_college_educated',\n",
    "'high_school_educated'\n",
    "]\n",
    "pop_category=[\n",
    "'asian_pop',\n",
    "'amerindian_pop',\n",
    "'black_pop',\n",
    "'hispanic_pop',\n",
    "'white_pop',\n",
    "'amerindian_including_hispanic',\n",
    "'other_race_pop',\n",
    "'two_or_more_races_pop'\n",
    "]\n",
    "\n",
    "parents_type=[    \n",
    "'two_parent_hh',\n",
    "'one_parent_hh'\n",
    "]\n",
    "\n",
    "job_types=[\n",
    "    'employed_creative',\n",
    "'employed_prof',\n",
    "'employed_skill',\n",
    "'employed_service'\n",
    "]\n",
    "\n",
    "income_cat=[\n",
    "'income_less_than_60000',\n",
    "'income_less_than_125000',\n",
    "'income_over_125000'\n",
    "]\n",
    "\n",
    "commute_length=[\n",
    "'commute_less_than_30',\n",
    "'commute_less_than_60',\n",
    "'commute_over_60'\n",
    "]\n",
    "\n",
    "dwelling_type=[\n",
    "'small_dwellings',\n",
    "'large_dwellings'\n",
    "]\n",
    "\n",
    "rent_burden=[\n",
    "'rent_under10',\n",
    "'rent_tento50',\n",
    "'rent_over50',\n",
    "'rent_uncomputed'\n",
    "]\n",
    "\n",
    "gender_age=[\n",
    "'male_under_18',\n",
    "'male_under_60',\n",
    "'male_over_60',\n",
    "'female_under_18',\n",
    "'female_under_60',\n",
    "'female_over_60'\n",
    "]\n",
    "\n",
    "vifgroupings=[\n",
    "    households_type,\n",
    "    employment_status,\n",
    "    housing_unit_types,\n",
    "    commute_type,\n",
    "    education,\n",
    "    pop_category,\n",
    "    parents_type,\n",
    "    job_types,\n",
    "    income_cat,\n",
    "    commute_length,\n",
    "    dwelling_type,\n",
    "    rent_burden,\n",
    "    gender_age\n",
    "]"
   ]
  },
  {
   "cell_type": "code",
   "execution_count": null,
   "metadata": {},
   "outputs": [],
   "source": [
    "from statsmodels.stats.outliers_influence import variance_inflation_factor\n",
    "\n",
    "plt.figure(figsize=(15,20)) \n",
    "for idx,vif in enumerate(vifgroupings):\n",
    "    X = x_std[vifgroupings[idx]]\n",
    "    vif_data = pd.DataFrame()\n",
    "    vif_data[\"feature\"] = X.columns\n",
    "    try:\n",
    "        vif_data[\"VIF\"] = [variance_inflation_factor(X.values, i)\n",
    "                                  for i in range(len(X.columns))]\n",
    "        plt.barh(vif_data[\"feature\"],vif_data[\"VIF\"])\n",
    "        plt.title(\"VIF Feature Groupings\")\n",
    "        plt.xlabel(\"VIF\")\n",
    "        plt.ylabel(\"Feature\")\n",
    "    except:\n",
    "        print(\"Unable to calculate VIF for the following:\",X.columns)\n"
   ]
  },
  {
   "cell_type": "markdown",
   "metadata": {},
   "source": [
    "<h2>Another angle for analyzing Employment fields</h2>"
   ]
  },
  {
   "cell_type": "code",
   "execution_count": null,
   "metadata": {},
   "outputs": [],
   "source": [
    "zipcode_group=acs_all_phoenix.groupby([\"geo_id\",\"Year\"])"
   ]
  },
  {
   "cell_type": "code",
   "execution_count": null,
   "metadata": {},
   "outputs": [],
   "source": [
    "#a bit imperfect but worth verifying with external data\n",
    "def catAnalysisByMedianIncome(grouping,analysis_fields):\n",
    "    fieldAverages=[]\n",
    "    fieldDF=pd.DataFrame()\n",
    "    for idx,frame in grouping:\n",
    "        total_values=0\n",
    "        zipcode_averages=[]\n",
    "        for feat in analysis_fields:\n",
    "            total_values+=frame[feat].astype(float).mean()\n",
    "            if total_values >0:\n",
    "                zipcode_averages.append(frame[feat].astype(float).mean()/total_values*frame[\"median_income\"].astype(float).values[0])\n",
    "            else:\n",
    "                zipcode_averages.append(0)\n",
    "        a_series = pd.Series(zipcode_averages)\n",
    "        fieldDF = fieldDF.append(a_series, ignore_index=True)\n",
    "    fieldDF.columns=analysis_fields\n",
    "    return fieldDF.mean().sort_values()"
   ]
  },
  {
   "cell_type": "code",
   "execution_count": null,
   "metadata": {},
   "outputs": [],
   "source": [
    "employment_fields=['management_business_sci_arts_employed',\n",
    "'worked_at_home',\n",
    "'occupation_natural_resources_construction_maintenance',\n",
    "'employed_education_health_social',\n",
    "'employed_agriculture_forestry_fishing_hunting_mining',\n",
    "'sales_office_employed',\n",
    "'employed_finance_insurance_real_estate',\n",
    "'employed_transportation_warehousing_utilities',\n",
    "'occupation_sales_office',\n",
    "'occupation_management_arts',\n",
    "'employed_public_administration',\n",
    "'employed_science_management_admin_waste',\n",
    "'occupation_production_transportation_material',\n",
    "'employed_other_services_not_public_admin',\n",
    "'employed_wholesale_trade',\n",
    "'occupation_services',\n",
    "'employed_arts_entertainment_recreation_accommodation_food',\n",
    "'employed_retail_trade',\n",
    "'employed_construction',\n",
    "'employed_manufacturing']\n",
    "\n",
    "print(catAnalysisByMedianIncome(zipcode_group,employment_fields))\n",
    "#I would leave it as it is"
   ]
  },
  {
   "cell_type": "markdown",
   "metadata": {},
   "source": [
    "<h2>Another angle for analysing commute length fields<h>"
   ]
  },
  {
   "cell_type": "code",
   "execution_count": null,
   "metadata": {},
   "outputs": [],
   "source": [
    "commute_fields=[\n",
    "    'commute_25_29_mins',\n",
    "'commute_20_24_mins',\n",
    "'commute_35_44_mins',\n",
    "'commute_30_34_mins',\n",
    "'commute_60_more_mins',\n",
    "'commute_15_19_mins',\n",
    "'commute_10_14_mins',\n",
    "'commute_45_59_mins',\n",
    "'commute_less_10_mins'\n",
    "]\n",
    "print(catAnalysisByMedianIncome(zipcode_group,commute_fields))\n",
    "\n",
    "#Initial thought - commute 20-45 vs. commute 10-19 and commute 45 and above"
   ]
  },
  {
   "cell_type": "code",
   "execution_count": null,
   "metadata": {},
   "outputs": [],
   "source": [
    "pop_fields=[\n",
    "'asian_pop',\n",
    "'other_race_pop',\n",
    "'black_pop',\n",
    "'hispanic_pop',\n",
    "'amerindian_pop',\n",
    "'white_pop'\n",
    "]\n",
    "print(catAnalysisByMedianIncome(zipcode_group,pop_fields))\n",
    "#based on this article\n",
    "#https://www.bizjournals.com/phoenix/news/2020/06/23/arizona-ranked-among-best-racial-equality.html\n",
    "#not totally off - we should probably just keep these categories"
   ]
  },
  {
   "cell_type": "code",
   "execution_count": null,
   "metadata": {},
   "outputs": [],
   "source": [
    "rent_perc_fields=[\n",
    "'rent_under_10_percent',\n",
    "'rent_over_50_percent',\n",
    "'rent_30_to_35_percent',\n",
    "'rent_10_to_15_percent',\n",
    "'rent_40_to_50_percent',\n",
    "'rent_35_to_40_percent',\n",
    "'rent_15_to_20_percent',\n",
    "'rent_25_to_30_percent',\n",
    "'rent_20_to_25_percent'\n",
    "]\n",
    "print(catAnalysisByMedianIncome(zipcode_group,rent_perc_fields))\n",
    "#rent under 10 and rent over 50 seem similar"
   ]
  },
  {
   "cell_type": "code",
   "execution_count": null,
   "metadata": {},
   "outputs": [],
   "source": [
    "#update this list with other analysis\n",
    "kmeans_keep_list_groupings=[\n",
    "    'family_households',\n",
    "    'nonfamily_households',\n",
    "    'unemployed_pop',\n",
    "    'owner_occupied_housing_units',\n",
    "    'vacant_housing_units',\n",
    "    'public_commute',\n",
    "    'personal_commute',\n",
    "    'college_educated',\n",
    "    'two_parent_hh',\n",
    "    'one_parent_hh',\n",
    "    'public_commute',\n",
    "    'personal_commute',\n",
    "    'small_dwellings',\n",
    "    'large_dwellings',\n",
    "    'employed_creative',\n",
    "    'employed_prof',\n",
    "    'employed_skill',\n",
    "    'employed_service'\n",
    "    \n",
    "]\n"
   ]
  }
 ],
 "metadata": {
  "kernelspec": {
   "display_name": "Python 3",
   "language": "python",
   "name": "python3"
  },
  "language_info": {
   "codemirror_mode": {
    "name": "ipython",
    "version": 3
   },
   "file_extension": ".py",
   "mimetype": "text/x-python",
   "name": "python",
   "nbconvert_exporter": "python",
   "pygments_lexer": "ipython3",
   "version": "3.8.5"
  }
 },
 "nbformat": 4,
 "nbformat_minor": 5
}
